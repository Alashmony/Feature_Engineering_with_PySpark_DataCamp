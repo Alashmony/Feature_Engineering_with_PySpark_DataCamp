{
 "cells": [
  {
   "cell_type": "code",
   "execution_count": 1,
   "id": "6ceef3c2",
   "metadata": {},
   "outputs": [
    {
     "data": {
      "text/html": [
       "<style>.container {width: 99% !important;}</style>"
      ],
      "text/plain": [
       "<IPython.core.display.HTML object>"
      ]
     },
     "metadata": {},
     "output_type": "display_data"
    }
   ],
   "source": [
    "from IPython.display import display, HTML\n",
    "display(HTML(\"<style>.container {width: 99% !important;}</style>\"))"
   ]
  },
  {
   "cell_type": "code",
   "execution_count": 2,
   "id": "1c20491a",
   "metadata": {},
   "outputs": [],
   "source": [
    "import pyspark"
   ]
  },
  {
   "cell_type": "code",
   "execution_count": 3,
   "id": "8daeecd6",
   "metadata": {},
   "outputs": [
    {
     "name": "stderr",
     "output_type": "stream",
     "text": [
      "23/10/01 09:32:33 WARN Utils: Your hostname, Alashmony-Lenovo-Z51-70 resolves to a loopback address: 127.0.1.1; using 192.168.1.182 instead (on interface wlp3s0)\n",
      "23/10/01 09:32:33 WARN Utils: Set SPARK_LOCAL_IP if you need to bind to another address\n",
      "Setting default log level to \"WARN\".\n",
      "To adjust logging level use sc.setLogLevel(newLevel). For SparkR, use setLogLevel(newLevel).\n",
      "23/10/01 09:32:35 WARN NativeCodeLoader: Unable to load native-hadoop library for your platform... using builtin-java classes where applicable\n"
     ]
    }
   ],
   "source": [
    "sc = pyspark.SparkContext()"
   ]
  },
  {
   "cell_type": "code",
   "execution_count": 4,
   "id": "710a2411",
   "metadata": {},
   "outputs": [],
   "source": [
    "from pyspark.sql import SparkSession\n",
    "spark = SparkSession(sc)"
   ]
  },
  {
   "cell_type": "code",
   "execution_count": 5,
   "id": "618967c4",
   "metadata": {},
   "outputs": [
    {
     "data": {
      "text/html": [
       "\n",
       "        <div>\n",
       "            <p><b>SparkContext</b></p>\n",
       "\n",
       "            <p><a href=\"http://192.168.1.182:4040\">Spark UI</a></p>\n",
       "\n",
       "            <dl>\n",
       "              <dt>Version</dt>\n",
       "                <dd><code>v3.4.0</code></dd>\n",
       "              <dt>Master</dt>\n",
       "                <dd><code>local[*]</code></dd>\n",
       "              <dt>AppName</dt>\n",
       "                <dd><code>pyspark-shell</code></dd>\n",
       "            </dl>\n",
       "        </div>\n",
       "        "
      ],
      "text/plain": [
       "<SparkContext master=local[*] appName=pyspark-shell>"
      ]
     },
     "execution_count": 5,
     "metadata": {},
     "output_type": "execute_result"
    }
   ],
   "source": [
    "sc"
   ]
  },
  {
   "cell_type": "code",
   "execution_count": 6,
   "id": "5444f70a",
   "metadata": {},
   "outputs": [
    {
     "data": {
      "text/html": [
       "\n",
       "            <div>\n",
       "                <p><b>SparkSession - in-memory</b></p>\n",
       "                \n",
       "        <div>\n",
       "            <p><b>SparkContext</b></p>\n",
       "\n",
       "            <p><a href=\"http://192.168.1.182:4040\">Spark UI</a></p>\n",
       "\n",
       "            <dl>\n",
       "              <dt>Version</dt>\n",
       "                <dd><code>v3.4.0</code></dd>\n",
       "              <dt>Master</dt>\n",
       "                <dd><code>local[*]</code></dd>\n",
       "              <dt>AppName</dt>\n",
       "                <dd><code>pyspark-shell</code></dd>\n",
       "            </dl>\n",
       "        </div>\n",
       "        \n",
       "            </div>\n",
       "        "
      ],
      "text/plain": [
       "<pyspark.sql.session.SparkSession at 0x7f8c6c76b2b0>"
      ]
     },
     "execution_count": 6,
     "metadata": {},
     "output_type": "execute_result"
    }
   ],
   "source": [
    "spark"
   ]
  },
  {
   "cell_type": "markdown",
   "id": "2ceedc17",
   "metadata": {},
   "source": [
    "# Where to Begin"
   ]
  },
  {
   "cell_type": "markdown",
   "id": "fddad8ff",
   "metadata": {},
   "source": [
    "## Where to Begin\n",
    "1. Where to Begin\n",
    "\n",
    "Hi, I'm John Hogue and welcome to Feature Engineering with PySpark. Easily one of the most important aspects of applied machine learning is feature engineering. It is the process of using domain knowledge to create new features to help our models perform better. In this course, we will look at a real data set and work our way to building a Regression Model in PySpark.\n",
    "\n",
    "2. Diving Straight to Analysis\n",
    "\n",
    "Before we dive in its important to note that while the techniques you'll learn in this course are invaluable, that data science cannot be applied as a cookie cutter. You will need to research your data and become your own expert. There is much to be said of the dangers of not understanding your data, especially where our outputs are increasingly being used to make decisions and inform policies. Before you dive into modeling, spend time to define what your goals are and how the output might be used. Take the time to research your data and its limitations. Often times you may be tasked with explaining what is and isn't possible. Lastly, remember that data science is all about being curious, asking questions and applying new ways to solve problems!\n",
    "\n",
    "3. The Data Science Process\n",
    "\n",
    "Every project and data set is different. Data Science is an iterative process that requires comfort with uncertainty as at any point you may have to go backward or even start over. A good project may inspire further questions that set the goals for the next project! As we progress through this process, this course will have extra emphasis on a lot of the 'art' sides of data science, exploring data, cleaning it and engineering it for use in a model.\n",
    "\n",
    "4. Spark changes fast and frequently\n",
    "\n",
    "Before we get started, as a cutting-edge technology, Spark changes fast and frequently. Make sure you are looking at the right version! You can always go to the latest URL by using slash latest or put the version number, major, minor and patch to get a specific version. Programmatically you can check your version of Spark with these commands. That way you can ensure you are looking at the right documentation and not using deprecated methods!\n",
    "\n",
    "5. Data Formats: Parquet\n",
    "\n",
    "For this course, we will be using a Parquet file. Like most data in Hadoop, the platform that Spark runs on, it is a write once, read many times format. Parquet data is columnar, meaning that it is organized by columns, an important feature for huge data sets as it is blazingly fast to read in ONLY the data you need. CSVs, on the other hand, have to read and parse the whole data set to read a single field. Another difference is Parquet fields are defined and typed, saving users from defining data types, like dates, booleans, or strings. For this reason, parquet is relatively slow to write. Since it's not delimited by characters it's less likely to be read in wrong if those characters exist in the data. These are just a few advantages that are causing the industry to adopt Parquet quickly.\n",
    "\n",
    "6. Getting the Data to Spark\n",
    "\n",
    "We have many format readers to choose from for converting various file types to a PySpark DataFrame. Here we will use spark read parquet and put the results into the variable df representing a dataframe.\n",
    "\n",
    "7. Let's Practice!\n",
    "\n",
    "In this video, we covered off on some important considerations when starting any data science project. We also learned about parquet and how to load it to a spark dataframe. In the exercises, you'll verify the versioning of PySpark and Python and finally, you'll load the data yourself!"
   ]
  },
  {
   "cell_type": "markdown",
   "id": "17f8dead",
   "metadata": {},
   "source": [
    "### Check Version\n",
    "Checking the version of which Spark and Python installed is important as it changes very quickly and drastically. Reading the wrong documentation can cause lots of lost time and unnecessary frustration!\n",
    "\n",
    "This course touches on a lot of concepts you may have forgotten, so if you ever need a quick refresher, download the [PySpark Cheat Sheet](https://datacamp-community-prod.s3.amazonaws.com/65076e3c-9df1-40d5-a0c2-36294d9a3ca9) and keep it handy!\n",
    "\n",
    "### Instructions\n",
    "- Print the Spark `version`.\n",
    "- Print the Python `version_info`."
   ]
  },
  {
   "cell_type": "code",
   "execution_count": 7,
   "id": "fc42ea33",
   "metadata": {},
   "outputs": [
    {
     "name": "stdout",
     "output_type": "stream",
     "text": [
      "3.4.0\n",
      "sys.version_info(major=3, minor=10, micro=13, releaselevel='final', serial=0)\n"
     ]
    }
   ],
   "source": [
    "# Return spark version\n",
    "print(spark.version)\n",
    "\n",
    "# Return python version\n",
    "import sys\n",
    "print(sys.version_info)"
   ]
  },
  {
   "cell_type": "markdown",
   "id": "59b37754",
   "metadata": {},
   "source": [
    "### Load in the data\n",
    "Reading in data is the first step to using PySpark for data science! Let's leverage the new industry standard of parquet files!\n",
    "\n",
    "**Instructions**\n",
    "\n",
    "- Use the `parquet()` file reader to read in `'Real_Estate.parq'` as described in the video exercise.\n",
    "- Print out the list of columns with `columns`."
   ]
  },
  {
   "cell_type": "code",
   "execution_count": 8,
   "id": "1636330f",
   "metadata": {},
   "outputs": [],
   "source": [
    "import pandas as pd"
   ]
  },
  {
   "cell_type": "code",
   "execution_count": 9,
   "id": "a0ef5872",
   "metadata": {},
   "outputs": [
    {
     "name": "stderr",
     "output_type": "stream",
     "text": [
      "                                                                                \r"
     ]
    },
    {
     "data": {
      "text/plain": [
       "['No.',\n",
       " 'MLSID',\n",
       " 'StreetNumberNumeric',\n",
       " 'streetaddress',\n",
       " 'STREETNAME',\n",
       " 'PostalCode',\n",
       " 'StateOrProvince',\n",
       " 'City',\n",
       " 'SalesClosePrice',\n",
       " 'LISTDATE',\n",
       " 'LISTPRICE',\n",
       " 'LISTTYPE',\n",
       " 'OriginalListPrice',\n",
       " 'PricePerTSFT',\n",
       " 'FOUNDATIONSIZE',\n",
       " 'FENCE',\n",
       " 'MapLetter',\n",
       " 'LotSizeDimensions',\n",
       " 'SchoolDistrictNumber',\n",
       " 'DAYSONMARKET',\n",
       " 'offmarketdate',\n",
       " 'Fireplaces',\n",
       " 'RoomArea4',\n",
       " 'roomtype',\n",
       " 'ROOF',\n",
       " 'RoomFloor4',\n",
       " 'PotentialShortSale',\n",
       " 'PoolDescription',\n",
       " 'PDOM',\n",
       " 'GarageDescription',\n",
       " 'SQFTABOVEGROUND',\n",
       " 'Taxes',\n",
       " 'RoomFloor1',\n",
       " 'RoomArea1',\n",
       " 'TAXWITHASSESSMENTS',\n",
       " 'TAXYEAR',\n",
       " 'LivingArea',\n",
       " 'UNITNUMBER',\n",
       " 'YEARBUILT',\n",
       " 'ZONING',\n",
       " 'STYLE',\n",
       " 'ACRES',\n",
       " 'CoolingDescription',\n",
       " 'APPLIANCES',\n",
       " 'backonmarketdate',\n",
       " 'ROOMFAMILYCHAR',\n",
       " 'RoomArea3',\n",
       " 'EXTERIOR',\n",
       " 'RoomFloor3',\n",
       " 'RoomFloor2',\n",
       " 'RoomArea2',\n",
       " 'DiningRoomDescription',\n",
       " 'BASEMENT',\n",
       " 'BathsFull',\n",
       " 'BathsHalf',\n",
       " 'BATHQUARTER',\n",
       " 'BATHSTHREEQUARTER',\n",
       " 'Class',\n",
       " 'BATHSTOTAL',\n",
       " 'BATHDESC',\n",
       " 'RoomArea5',\n",
       " 'RoomFloor5',\n",
       " 'RoomArea6',\n",
       " 'RoomFloor6',\n",
       " 'RoomArea7',\n",
       " 'RoomFloor7',\n",
       " 'RoomArea8',\n",
       " 'RoomFloor8',\n",
       " 'Bedrooms',\n",
       " 'SQFTBELOWGROUND',\n",
       " 'AssumableMortgage',\n",
       " 'AssociationFee',\n",
       " 'ASSESSMENTPENDING',\n",
       " 'AssessedValuation']"
      ]
     },
     "execution_count": 9,
     "metadata": {},
     "output_type": "execute_result"
    }
   ],
   "source": [
    "#Prepare the parquest from the csv\n",
    "df = spark.read.csv(\"2017_StPaul_MN_Real_Estate.csv\",header=True, inferSchema=True)\n",
    "\n",
    "df.columns"
   ]
  },
  {
   "cell_type": "code",
   "execution_count": 10,
   "id": "57b0b0a6",
   "metadata": {},
   "outputs": [
    {
     "name": "stderr",
     "output_type": "stream",
     "text": [
      "23/10/01 09:33:52 WARN package: Truncated the string representation of a plan since it was too large. This behavior can be adjusted by setting 'spark.sql.debug.maxToStringFields'.\n",
      "                                                                                \r"
     ]
    }
   ],
   "source": [
    "#df.write.parquet(\"Real_Estate.parq\")\n",
    "df.toPandas().to_parquet(\"Real_Estate.parq\")"
   ]
  },
  {
   "cell_type": "code",
   "execution_count": 11,
   "id": "bf381270",
   "metadata": {},
   "outputs": [
    {
     "name": "stdout",
     "output_type": "stream",
     "text": [
      "['No.', 'MLSID', 'StreetNumberNumeric', 'streetaddress', 'STREETNAME', 'PostalCode', 'StateOrProvince', 'City', 'SalesClosePrice', 'LISTDATE', 'LISTPRICE', 'LISTTYPE', 'OriginalListPrice', 'PricePerTSFT', 'FOUNDATIONSIZE', 'FENCE', 'MapLetter', 'LotSizeDimensions', 'SchoolDistrictNumber', 'DAYSONMARKET', 'offmarketdate', 'Fireplaces', 'RoomArea4', 'roomtype', 'ROOF', 'RoomFloor4', 'PotentialShortSale', 'PoolDescription', 'PDOM', 'GarageDescription', 'SQFTABOVEGROUND', 'Taxes', 'RoomFloor1', 'RoomArea1', 'TAXWITHASSESSMENTS', 'TAXYEAR', 'LivingArea', 'UNITNUMBER', 'YEARBUILT', 'ZONING', 'STYLE', 'ACRES', 'CoolingDescription', 'APPLIANCES', 'backonmarketdate', 'ROOMFAMILYCHAR', 'RoomArea3', 'EXTERIOR', 'RoomFloor3', 'RoomFloor2', 'RoomArea2', 'DiningRoomDescription', 'BASEMENT', 'BathsFull', 'BathsHalf', 'BATHQUARTER', 'BATHSTHREEQUARTER', 'Class', 'BATHSTOTAL', 'BATHDESC', 'RoomArea5', 'RoomFloor5', 'RoomArea6', 'RoomFloor6', 'RoomArea7', 'RoomFloor7', 'RoomArea8', 'RoomFloor8', 'Bedrooms', 'SQFTBELOWGROUND', 'AssumableMortgage', 'AssociationFee', 'ASSESSMENTPENDING', 'AssessedValuation']\n"
     ]
    }
   ],
   "source": [
    "# Read the file into a dataframe\n",
    "#print(os.listdir())\n",
    "#print(os.getcwd())\n",
    "#df = spark.read.parquet('/tmp/tmpfkser8re/Real_Estate.parq')\n",
    "\n",
    "df = spark.read.parquet('Real_Estate.parq')\n",
    "# Print columns in dataframe\n",
    "print(df.columns)"
   ]
  },
  {
   "cell_type": "markdown",
   "id": "c8c5f537",
   "metadata": {},
   "source": [
    "## Defining A Problem\n",
    "1. Defining A Problem\n",
    "\n",
    "What's the point of doing an analysis if you aren't solving the right problem? In this video, we will define our problem and the context of our data.\n",
    "\n",
    "2. What’s Your Problem?\n",
    "\n",
    "We are going to build a model to predict how much a house sells for. This question can be interpreted multiple ways which is why it's important to take the time formally define it. Let's assume we are real-estate tycoon's looking for the next best investment opportunity. For a given house on the market, with a listed price and series of attributes describing the home, what is it likely to actually sell for, aka the SALESCLOSEPRICE?\n",
    "\n",
    "3. Context & Limitations of our Real Estate\n",
    "\n",
    "The dataset we have is a sample of homes that sold over the course of 2017. Using this sample we are to provide a quick proof of concept of whether it's worth investing in more data for the 5.5 million homes that sold in the US in 2017. To do this we need to understand some of the limitations of the data we have. First, we only have a small geographical area, so to apply our model to new areas, poses serious risk! We know that we only have residential data, so we shouldn't expect to predict how much a business location is worth! Lastly, we only have one year's worth of data which will make it hard to draw strong conclusions about seasonality in this dataset.\n",
    "\n",
    "4. What types of attributes are available?\n",
    "\n",
    "The original dataset has hundreds of attributes available but in order to start simple we've already worked with our client to identify around 50 attributes they think are likely to influence the price of a home. These attributes generally fall into these groups. For Dates we have date listed, and the year the home was built. For locational data, we have the city that the home is in, its school district and its actual postal address. We also have many different metrics to gauge the size of the home like number of bed and bathrooms as well as the area of living space. For prices, we have the listing price and we wouldn't be able to predict anything without the sale price! We also have a lot of data available on amenities that a house has like a pool or a garage as well as the construction materials used to build the house.\n",
    "\n",
    "5. Validating Your Data Load\n",
    "\n",
    "Big data means a lot can go wrong when loading data make sure you have the right number of records and columns! We can use df count to get the row count, df columns to get the list of columns and we can take the length of df columns to get the number of columns!\n",
    "\n",
    "6. Checking Datatypes\n",
    "\n",
    "When we used Parquet, it set the data types for all of our fields which is a huge advantage over CSV. It's still worth checking especially if you weren't the one defining them! Here we can use dtypes on our dataframe to create a list of tuples containing a column name and its corresponding datatype.\n",
    "\n",
    "7. Let's Practice\n",
    "\n",
    "In this video, we learned about the data set we will be using and the problem we will be trying to solve. Additionally, we learned how to check to see if our data loaded properly by checking rows, columns, and datatypes! Now it's your turn to apply what you've learned in the exercises to verify that our data got loaded correctly!"
   ]
  },
  {
   "cell_type": "markdown",
   "id": "2b82cff1",
   "metadata": {},
   "source": [
    "### What are we predicting?\n",
    "Which of these fields (or columns) is the value we are trying to predict for?\n",
    "\n",
    "- `TAXES`\n",
    "- `SALESCLOSEPRICE`\n",
    "- `DAYSONMARKET`\n",
    "- `LISTPRICE`\n",
    "\n",
    "**Instructions**\n",
    "\n",
    "- From the listed columns above, identify which one we will use as our dependent variable `$Y$`.\n",
    "- Using the loaded data set `df`, filter it down to our dependent variable with `select()`. Store this dataframe in the variable `Y_df`.\n",
    "- Display summary statistics for the dependent variable using `describe()` on `Y_df` and calling `show()` to display it."
   ]
  },
  {
   "cell_type": "code",
   "execution_count": 12,
   "id": "84ff0685",
   "metadata": {},
   "outputs": [
    {
     "name": "stdout",
     "output_type": "stream",
     "text": [
      "+-------+------------------+\n",
      "|summary|   SALESCLOSEPRICE|\n",
      "+-------+------------------+\n",
      "|  count|              5000|\n",
      "|   mean|       262804.4668|\n",
      "| stddev|140559.82591998563|\n",
      "|    min|             48000|\n",
      "|    max|           1700000|\n",
      "+-------+------------------+\n",
      "\n"
     ]
    }
   ],
   "source": [
    "# Select our dependent variable\n",
    "Y_df = df.select(['SALESCLOSEPRICE'])\n",
    "\n",
    "# Display summary statistics\n",
    "Y_df.describe().show()"
   ]
  },
  {
   "cell_type": "markdown",
   "id": "2bd195f0",
   "metadata": {},
   "source": [
    "### Verifying Data Load\n",
    "Let's suppose each month you get a new file. You know to expect a certain number of records and columns. In this exercise we will create a function that will validate the file loaded.\n",
    "\n",
    "**Instructions**\n",
    "\n",
    "- Create a data validation function `check_load()` with parameters `df` a dataframe, `num_records` as the number of records and `num_columns` the number of columns.\n",
    "- Using `num_records` create a check to see if the input dataframe df has the same amount with `count()`.\n",
    "- Compare input number of columns the input dataframe has `withnum_columns` by using `len()` on columns.\n",
    "- If both of these return True, then print Validation Passed"
   ]
  },
  {
   "cell_type": "code",
   "execution_count": 13,
   "id": "a3737cf0",
   "metadata": {},
   "outputs": [
    {
     "name": "stdout",
     "output_type": "stream",
     "text": [
      "Validation Passed\n"
     ]
    }
   ],
   "source": [
    "def check_load(df, num_records, num_columns):\n",
    "    # Takes a dataframe and compares record and column counts to input\n",
    "    # Message to return if the critera below aren't met\n",
    "    message = 'Validation Failed'\n",
    "    # Check number of records\n",
    "    if num_records == df.count():\n",
    "    # Check number of columns\n",
    "        if num_columns == len(df.columns):\n",
    "        # Success message\n",
    "            message = 'Validation Passed'\n",
    "    return message\n",
    "\n",
    "# Print the data validation message\n",
    "print(check_load(df, 5000, 74))"
   ]
  },
  {
   "cell_type": "markdown",
   "id": "ccde9e4a",
   "metadata": {},
   "source": [
    "### Verifying DataTypes\n",
    "In the age of data we have access to more attributes than we ever had before. To handle all of them we will build a lot of automation but at a minimum requires that their datatypes be correct. In this exercise we will validate a dictionary of attributes and their datatypes to see if they are correct. This dictionary is stored in the variable `validation_dict` and is available in your workspace.\n",
    "\n",
    "**Instructions**\n",
    "\n",
    "- Using `df` create a list of attribute and datatype tuples with dtypes called `actual_dtypes_list`.\n",
    "- Iterate through `actual_dtypes_list`, checking if the column names exist in the dictionary of expected dtypes `validation_dict`.\n",
    "- For the keys that exist in the dictionary, check their dtypes and print those that match."
   ]
  },
  {
   "cell_type": "code",
   "execution_count": 14,
   "id": "5729d07e",
   "metadata": {},
   "outputs": [],
   "source": [
    "validation_dict = {'AssumableMortgage': 'string', 'SQFTBELOWGROUND': 'bigint', 'AssociationFee': 'bigint', 'AssessedValuation': 'double', 'ASSESSMENTPENDING': 'string'}"
   ]
  },
  {
   "cell_type": "code",
   "execution_count": 15,
   "id": "1fdca094",
   "metadata": {},
   "outputs": [
    {
     "data": {
      "text/plain": [
       "[('No.', 'int'),\n",
       " ('MLSID', 'string'),\n",
       " ('StreetNumberNumeric', 'int'),\n",
       " ('streetaddress', 'string'),\n",
       " ('STREETNAME', 'string'),\n",
       " ('PostalCode', 'int'),\n",
       " ('StateOrProvince', 'string'),\n",
       " ('City', 'string'),\n",
       " ('SalesClosePrice', 'int'),\n",
       " ('LISTDATE', 'string'),\n",
       " ('LISTPRICE', 'int'),\n",
       " ('LISTTYPE', 'string'),\n",
       " ('OriginalListPrice', 'int'),\n",
       " ('PricePerTSFT', 'double'),\n",
       " ('FOUNDATIONSIZE', 'int'),\n",
       " ('FENCE', 'string'),\n",
       " ('MapLetter', 'string'),\n",
       " ('LotSizeDimensions', 'string'),\n",
       " ('SchoolDistrictNumber', 'string'),\n",
       " ('DAYSONMARKET', 'int'),\n",
       " ('offmarketdate', 'string'),\n",
       " ('Fireplaces', 'int'),\n",
       " ('RoomArea4', 'string'),\n",
       " ('roomtype', 'string'),\n",
       " ('ROOF', 'string'),\n",
       " ('RoomFloor4', 'string'),\n",
       " ('PotentialShortSale', 'string'),\n",
       " ('PoolDescription', 'string'),\n",
       " ('PDOM', 'int'),\n",
       " ('GarageDescription', 'string'),\n",
       " ('SQFTABOVEGROUND', 'int'),\n",
       " ('Taxes', 'int'),\n",
       " ('RoomFloor1', 'string'),\n",
       " ('RoomArea1', 'string'),\n",
       " ('TAXWITHASSESSMENTS', 'double'),\n",
       " ('TAXYEAR', 'int'),\n",
       " ('LivingArea', 'int'),\n",
       " ('UNITNUMBER', 'string'),\n",
       " ('YEARBUILT', 'int'),\n",
       " ('ZONING', 'string'),\n",
       " ('STYLE', 'string'),\n",
       " ('ACRES', 'double'),\n",
       " ('CoolingDescription', 'string'),\n",
       " ('APPLIANCES', 'string'),\n",
       " ('backonmarketdate', 'int'),\n",
       " ('ROOMFAMILYCHAR', 'string'),\n",
       " ('RoomArea3', 'string'),\n",
       " ('EXTERIOR', 'string'),\n",
       " ('RoomFloor3', 'string'),\n",
       " ('RoomFloor2', 'string'),\n",
       " ('RoomArea2', 'string'),\n",
       " ('DiningRoomDescription', 'string'),\n",
       " ('BASEMENT', 'string'),\n",
       " ('BathsFull', 'int'),\n",
       " ('BathsHalf', 'int'),\n",
       " ('BATHQUARTER', 'int'),\n",
       " ('BATHSTHREEQUARTER', 'double'),\n",
       " ('Class', 'string'),\n",
       " ('BATHSTOTAL', 'int'),\n",
       " ('BATHDESC', 'string'),\n",
       " ('RoomArea5', 'string'),\n",
       " ('RoomFloor5', 'string'),\n",
       " ('RoomArea6', 'string'),\n",
       " ('RoomFloor6', 'string'),\n",
       " ('RoomArea7', 'string'),\n",
       " ('RoomFloor7', 'string'),\n",
       " ('RoomArea8', 'string'),\n",
       " ('RoomFloor8', 'string'),\n",
       " ('Bedrooms', 'int'),\n",
       " ('SQFTBELOWGROUND', 'int'),\n",
       " ('AssumableMortgage', 'string'),\n",
       " ('AssociationFee', 'int'),\n",
       " ('ASSESSMENTPENDING', 'string'),\n",
       " ('AssessedValuation', 'double')]"
      ]
     },
     "execution_count": 15,
     "metadata": {},
     "output_type": "execute_result"
    }
   ],
   "source": [
    "df.dtypes"
   ]
  },
  {
   "cell_type": "code",
   "execution_count": 16,
   "id": "3938f536",
   "metadata": {},
   "outputs": [
    {
     "name": "stdout",
     "output_type": "stream",
     "text": [
      "AssumableMortgage has expected dtype.\n",
      "ASSESSMENTPENDING has expected dtype.\n",
      "AssessedValuation has expected dtype.\n"
     ]
    }
   ],
   "source": [
    "# create list of actual dtypes to check\n",
    "actual_dtypes_list = df.dtypes\n",
    "#print(actual_dtypes_list)\n",
    "\n",
    "# Iterate through the list of actual dtypes tuples\n",
    "for attribute_tuple in actual_dtypes_list:\n",
    "  \n",
    "    # Check if column name is dictionary of expected dtypes\n",
    "    col_name = attribute_tuple[0]\n",
    "    if col_name in validation_dict.keys():\n",
    "\n",
    "        # Compare attribute types\n",
    "        col_type = attribute_tuple[1]\n",
    "        if col_type == validation_dict[col_name]:\n",
    "            print(col_name + ' has expected dtype.')"
   ]
  },
  {
   "cell_type": "markdown",
   "id": "77c5c8f0",
   "metadata": {},
   "source": [
    "#### Should be\n",
    "- **SQFTBELOWGROUND has expected dtype.**\n",
    "- AssumableMortgage has expected dtype.\n",
    "- **AssociationFee has expected dtype.**\n",
    "- ASSESSMENTPENDING has expected dtype.\n",
    "- AssessedValuation has expected dtype."
   ]
  },
  {
   "cell_type": "code",
   "execution_count": 17,
   "id": "e1ceee8e",
   "metadata": {},
   "outputs": [
    {
     "name": "stdout",
     "output_type": "stream",
     "text": [
      "[('No.', 'int'), ('MLSID', 'string'), ('StreetNumberNumeric', 'int'), ('streetaddress', 'string'), ('STREETNAME', 'string'), ('PostalCode', 'int'), ('StateOrProvince', 'string'), ('City', 'string'), ('SalesClosePrice', 'int'), ('LISTDATE', 'string'), ('LISTPRICE', 'int'), ('LISTTYPE', 'string'), ('OriginalListPrice', 'int'), ('PricePerTSFT', 'double'), ('FOUNDATIONSIZE', 'int'), ('FENCE', 'string'), ('MapLetter', 'string'), ('LotSizeDimensions', 'string'), ('SchoolDistrictNumber', 'string'), ('DAYSONMARKET', 'int'), ('offmarketdate', 'string'), ('Fireplaces', 'int'), ('RoomArea4', 'string'), ('roomtype', 'string'), ('ROOF', 'string'), ('RoomFloor4', 'string'), ('PotentialShortSale', 'string'), ('PoolDescription', 'string'), ('PDOM', 'int'), ('GarageDescription', 'string'), ('SQFTABOVEGROUND', 'int'), ('Taxes', 'int'), ('RoomFloor1', 'string'), ('RoomArea1', 'string'), ('TAXWITHASSESSMENTS', 'double'), ('TAXYEAR', 'int'), ('LivingArea', 'int'), ('UNITNUMBER', 'string'), ('YEARBUILT', 'int'), ('ZONING', 'string'), ('STYLE', 'string'), ('ACRES', 'double'), ('CoolingDescription', 'string'), ('APPLIANCES', 'string'), ('backonmarketdate', 'int'), ('ROOMFAMILYCHAR', 'string'), ('RoomArea3', 'string'), ('EXTERIOR', 'string'), ('RoomFloor3', 'string'), ('RoomFloor2', 'string'), ('RoomArea2', 'string'), ('DiningRoomDescription', 'string'), ('BASEMENT', 'string'), ('BathsFull', 'int'), ('BathsHalf', 'int'), ('BATHQUARTER', 'int'), ('BATHSTHREEQUARTER', 'double'), ('Class', 'string'), ('BATHSTOTAL', 'int'), ('BATHDESC', 'string'), ('RoomArea5', 'string'), ('RoomFloor5', 'string'), ('RoomArea6', 'string'), ('RoomFloor6', 'string'), ('RoomArea7', 'string'), ('RoomFloor7', 'string'), ('RoomArea8', 'string'), ('RoomFloor8', 'string'), ('Bedrooms', 'int'), ('SQFTBELOWGROUND', 'int'), ('AssumableMortgage', 'string'), ('AssociationFee', 'int'), ('ASSESSMENTPENDING', 'string'), ('AssessedValuation', 'double')]\n"
     ]
    }
   ],
   "source": [
    "print(actual_dtypes_list)"
   ]
  },
  {
   "cell_type": "markdown",
   "id": "3b869e3e",
   "metadata": {},
   "source": [
    "## Visually Inspecting Data / EDA\n",
    "1. Visually Inspecting Data\n",
    "\n",
    "Data comes in all shapes and sizes. In the field, you will be tasked with using less than perfect data. This means you will need to understand its strengths, weaknesses, and limitations to leverage it effectively.\n",
    "\n",
    "2. Getting Descriptive with DataFrame.describe()\n",
    "\n",
    "To get started with understanding your data take a peek at each column to see what they contain. The describe function provides some bare bones basics of Count, Mean, Std Dev, Min and Max. You can run it on the whole dataframe, a single column or a list of columns. Remember to add show to the end if you wish to immediately display results.\n",
    "\n",
    "3. Many descriptive functions are already available\n",
    "\n",
    "To further help us understand our data, Pyspark has many built-in descriptive functions available.\n",
    "\n",
    "4. Example with mean()\n",
    "\n",
    "The Mean function is considered an aggregate function and as such needs to be passed to the agg method along with the column to run it on as a dictionary. Spark uses lazy evaluation, meaning that it waits to execute code until a specific type of command, called an action forces it to. To force it to return the results immediately, use the collect function.\n",
    "\n",
    "5. Example with cov()\n",
    "\n",
    "Covariance is a function that let's us see how two variables vary together. This function is applied to a dataframe and takes two numeric columns and returns a value.\n",
    "\n",
    "6. seaborn: statistical data visualization\n",
    "\n",
    "An excellent way to explore your data is through statistical plotting. Seaborn is a Python data visualization library designed specifically for this. We will look at a few plotting examples but there are many, many more for you to follow up on.\n",
    "\n",
    "7. Notes on plotting\n",
    "\n",
    "We can plot data using non-Spark libraries like Seaborn but they require converting your pySpark DataFrame to a Pandas DataFrame. Be aware that converting large datasets can cause Pandas to crash. This is because PySpark is made for massive datasets, where pandas is not. The Sample function can help us get a smaller dataset to plot. Here, we will keep sampling with replacement off, take 50% of the data and set a random seed for reproducibility. Using count shows us that the number of records has changed.\n",
    "\n",
    "8. Prepping for plotting a distribution\n",
    "\n",
    "We will leverage Seaborn's distplot which will show us the distribution of our dependent variable 'SalesClosePrice'. Please note there are many optional parameters which aren't covered here. Here we import seaborn, then filter the Spark DataFrame down to the SalesClosePrice column and sample it. Then we convert it into a pandas dataframe so we can use it with Seaborn. Lastly, call the distplot function with pandas underscore df to plot.\n",
    "\n",
    "9. Distribution plot of sales closing price\n",
    "\n",
    "After plotting we can we can see that most of the data is pushed to the left, something that may need to be remedied depending on the model type we choose. We will cover one option, log scaling, in 'Adjusting Data' later in this course.\n",
    "\n",
    "10. Relationship plotting\n",
    "\n",
    "Another great plot to use is lmplot. lm is short for linear model and allows us to quickly see if there is a linear relationship between two variables. For this example, we will look at how 'SalesClosePrice' changes depending on 'SQFTABOVEGROUND'. To do this we will import seaborn, filter our dataset to the two columns, sample it and then convert it to a pandas DataFrame. Lastly, use the sns lmplot function with our x and y columns and dataframe.\n",
    "\n",
    "11. Linear model plot between SQFT above ground and sales price\n",
    "\n",
    "Here we can see there is what looks to be a strong relationship between the size of a home and the price it sells for. Therefore we might make the assumption that SQFTABOVEGROUND is a good variable to consider in predicting house prices!\n",
    "\n",
    "12. Let's practice!\n",
    "\n",
    "In this video, we explored our data with numerical summaries and visualizations. Now it's your turn to try them out!"
   ]
  },
  {
   "cell_type": "markdown",
   "id": "06473232",
   "metadata": {},
   "source": [
    "## Using Corr()\n",
    "The old adage 'Correlation does not imply Causation' is a cautionary tale. However, correlation does give us a good nudge to know where to start looking promising features to use in our models. Use this exercise to get a feel for searching through your data for the first time, trying to find patterns.\n",
    "\n",
    "A list called `columns` containing column names has been created for you. In this exercise you will compute the correlation between those `columns` and `'SALESCLOSEPRICE'`, and find the maximum.\n",
    "\n",
    "**Instructions**\n",
    "\n",
    "- Use a `for` loop iterate through the `columns`.\n",
    "- In each loop cycle, compute the correlation between the current column and `'SALESCLOSEPRICE'` using the `corr()` method.\n",
    "- Create logic to update the maximum observed correlation and with which column.\n",
    "- Print out the name of the column that has the maximum correlation with `'SALESCLOSEPRICE'`."
   ]
  },
  {
   "cell_type": "code",
   "execution_count": 18,
   "id": "a6be6051",
   "metadata": {},
   "outputs": [],
   "source": [
    "columns = ['FOUNDATIONSIZE', 'DAYSONMARKET', 'FIREPLACES', 'PDOM', 'SQFTABOVEGROUND', 'TAXES', 'TAXWITHASSESSMENTS', 'TAXYEAR', 'LIVINGAREA', 'YEARBUILT', 'ACRES', 'BACKONMARKETDATE', 'BATHSFULL', 'BATHSHALF', 'BATHQUARTER', 'BATHSTHREEQUARTER', 'BATHSTOTAL', 'BEDROOMS', 'SQFTBELOWGROUND', 'ASSOCIATIONFEE', 'ASSESSEDVALUATION']\n"
   ]
  },
  {
   "cell_type": "code",
   "execution_count": 19,
   "id": "71bf7a97",
   "metadata": {},
   "outputs": [
    {
     "name": "stdout",
     "output_type": "stream",
     "text": [
      "LIVINGAREA\n"
     ]
    }
   ],
   "source": [
    "# Name and value of col with max corr\n",
    "corr_max = 0\n",
    "corr_max_col = columns[0]\n",
    "\n",
    "# Loop to check all columns contained in list\n",
    "for col in columns:\n",
    "    # Check the correlation of a pair of columns\n",
    "    corr_val = df.corr(col, 'SALESCLOSEPRICE')\n",
    "    # Logic to compare corr_max with current corr_val\n",
    "    if corr_val > corr_max:\n",
    "        # Update the column name and corr value\n",
    "        corr_max = corr_val\n",
    "        corr_max_col = col\n",
    "\n",
    "print(corr_max_col)"
   ]
  },
  {
   "cell_type": "markdown",
   "id": "d76d85a7",
   "metadata": {},
   "source": [
    "### Using Visualizations: distplot\n",
    "Understanding the distribution of our dependent variable is very important and can impact the type of model or preprocessing we do. A great way to do this is to plot it, however plotting is not a built in function in PySpark, we will need to take some intermediary steps to make sure it works correctly. In this exercise you will visualize the variable the `'LISTPRICE'` variable, and you will gain more insights on its distribution by computing the skewness.\n",
    "\n",
    "The `matplotlib.pyplot` and `seaborn` packages have been imported for you with aliases `plt` and `sns`.\n",
    "\n",
    "**Instructions**\n",
    "\n",
    "- Sample 50% of the dataframe `df` with `sample()` making sure to not use replacement and setting the random seed to 42.\n",
    "- Convert the Spark `DataFrame` to a `pandas.DataFrame()` with `toPandas()`.\n",
    "- Plot a distribution plot using seaborn's `distplot()` method.\n",
    "- Import the `skewness()` function from `pyspark.sql.functions` and compute it on the aggregate of the `'LISTPRICE'` column with the `agg()` method. Remember to `collect()` your result to evaluate the computation. "
   ]
  },
  {
   "cell_type": "code",
   "execution_count": 20,
   "id": "07066423",
   "metadata": {},
   "outputs": [],
   "source": [
    "#!pip3 install matplotlib seaborn"
   ]
  },
  {
   "cell_type": "code",
   "execution_count": 21,
   "id": "566634e0",
   "metadata": {},
   "outputs": [],
   "source": [
    "from matplotlib import pyplot as plt\n",
    "import seaborn as sns"
   ]
  },
  {
   "cell_type": "code",
   "execution_count": 22,
   "id": "ecaea011",
   "metadata": {},
   "outputs": [
    {
     "name": "stderr",
     "output_type": "stream",
     "text": [
      "/tmp/ipykernel_8215/4078765244.py:6: UserWarning: \n",
      "\n",
      "`distplot` is a deprecated function and will be removed in seaborn v0.14.0.\n",
      "\n",
      "Please adapt your code to use either `displot` (a figure-level function with\n",
      "similar flexibility) or `histplot` (an axes-level function for histograms).\n",
      "\n",
      "For a guide to updating your code to use the new functions, please see\n",
      "https://gist.github.com/mwaskom/de44147ed2974457ad6372750bbe5751\n",
      "\n",
      "  sns.distplot(pandas_df)\n"
     ]
    },
    {
     "data": {
      "image/png": "[encoded data removed]",
      "text/plain": [
       "<Figure size 640x480 with 1 Axes>"
      ]
     },
     "metadata": {},
     "output_type": "display_data"
    },
    {
     "name": "stdout",
     "output_type": "stream",
     "text": [
      "[Row(skewness(LISTPRICE)=2.790448093916559)]\n"
     ]
    }
   ],
   "source": [
    "# Select a single column and sample and convert to pandas\n",
    "sample_df = df.select(['LISTPRICE']).sample(False, .5, 42)\n",
    "pandas_df = sample_df.toPandas()\n",
    "\n",
    "# Plot distribution of pandas_df and display plot\n",
    "sns.distplot(pandas_df)\n",
    "plt.show();\n",
    "\n",
    "# Import skewness function\n",
    "from pyspark.sql.functions import skewness\n",
    "\n",
    "# Compute and print skewness of LISTPRICE\n",
    "print(df.agg({'LISTPRICE': 'skewness'}).collect())"
   ]
  },
  {
   "cell_type": "code",
   "execution_count": 23,
   "id": "073f536d",
   "metadata": {},
   "outputs": [
    {
     "data": {
      "image/png": "[encoded data removed]",
      "text/plain": [
       "<Figure size 619.5x500 with 1 Axes>"
      ]
     },
     "metadata": {},
     "output_type": "display_data"
    }
   ],
   "source": [
    "sns.displot(pandas_df)\n",
    "plt.show();"
   ]
  },
  {
   "cell_type": "code",
   "execution_count": 24,
   "id": "2140e39c",
   "metadata": {},
   "outputs": [
    {
     "data": {
      "image/png": "[encoded data removed]",
      "text/plain": [
       "<Figure size 640x480 with 1 Axes>"
      ]
     },
     "metadata": {},
     "output_type": "display_data"
    }
   ],
   "source": [
    "sns.histplot(pandas_df)\n",
    "plt.show()"
   ]
  },
  {
   "cell_type": "markdown",
   "id": "ee2e3f28",
   "metadata": {},
   "source": [
    "### Using Visualizations: lmplot\n",
    "Creating linear model plots helps us visualize if variables have relationships with the dependent variable. If they do they are good candidates to include in our analysis. If they don't it doesn't mean that we should throw them out, it means we may have to process or wrangle them before they can be used.\n",
    "\n",
    "`seaborn` is available in your workspace with the customary alias `sns`.\n",
    "\n",
    "**Instructions**\n",
    "\n",
    "- Using the loaded data set df filter it down to the columns `'SALESCLOSEPRICE'` and `'LIVINGAREA'` with `select()`.\n",
    "- Sample 50% of the dataframe with `sample()` making sure to not use replacement and setting the random seed to 42.\n",
    "- Convert the Spark DataFrame to a `pandas.DataFrame()` with `toPandas()`.\n",
    "- Using `'SALESCLOSEPRICE'` as your dependent variable and `'LIVINGAREA'` as your independent, plot a linear model plot using seaborn `lmplot()`."
   ]
  },
  {
   "cell_type": "code",
   "execution_count": 25,
   "id": "a7ce887f",
   "metadata": {},
   "outputs": [
    {
     "data": {
      "image/png": "[encoded data removed]",
      "text/plain": [
       "<Figure size 500x500 with 1 Axes>"
      ]
     },
     "metadata": {},
     "output_type": "display_data"
    }
   ],
   "source": [
    "# Select a the relevant columns and sample\n",
    "sample_df = df.select(['SALESCLOSEPRICE', 'LIVINGAREA']).sample(False, 0.5, 42)\n",
    "\n",
    "# Convert to pandas dataframe\n",
    "pandas_df = sample_df.toPandas()\n",
    "\n",
    "# Linear model plot of pandas_df\n",
    "sns.lmplot(x='LIVINGAREA', y='SALESCLOSEPRICE', data=pandas_df)\n",
    "plt.show();"
   ]
  },
  {
   "cell_type": "markdown",
   "id": "c35837d6",
   "metadata": {},
   "source": [
    "# Wrangling with Spark Functions"
   ]
  },
  {
   "cell_type": "markdown",
   "id": "e5fc287a",
   "metadata": {},
   "source": [
    "## Dropping data\n",
    "\n",
    "1. Dropping Data\n",
    "\n",
    "More data is better right? Not if its bad data! The saying \"garbage in, garbage out\" is doubly true in data science!\n",
    "\n",
    "2. Where can data go bad?\n",
    "\n",
    "Data has a lot of places where it can get messed up. Data may be recorded incorrectly or contain extreme events. Inconsistent formatting such as mixing numeric and text data can make a field hard to use. Duplications can add redundant observations. Missing data can cause your analysis to have blind spots. Lastly, sometimes the data is just not relevant to the analysis. Failure to account for bad data can set your analysis up to fail. Please be careful!\n",
    "\n",
    "3. Dropping Columns\n",
    "\n",
    "Inspecting our data we can see there are some columns that are not worth including in our analysis. NO is just the record number, UNITNUMBER is the apartment or house number, and CLASS is completely constant.\n",
    "\n",
    "4. Dropping Columns\n",
    "\n",
    "Dropping the columns requires entering a single column name or passing a list of columns to drop. Here we pass a list called cols_to_drop to the function and then drop them. Please note the star, which tells the function to unpack the list and feed them to the function one by one.\n",
    "\n",
    "5. Text Filtering\n",
    "\n",
    "A common task in cleaning your data will be filtering it. Here we will filter records that contain specific text values. Where applies the filter to the dataframe records. Like creates a True/False condition for the records. The Tilde provides a way to take the opposite, or a NOT. The PySpark code reads: Filter the dataframe where the POTENTIALSHORTSALE field is NOT like the string 'Not Disclosed'\n",
    "\n",
    "6. Outlier Filtering\n",
    "\n",
    "For an initial pass at the model, it might be helpful to remove large outliers. One definition of an outlier for near normally distributed data is something that occurs more than 3 standard deviations from the mean, only 0-point-3% of data should be filtered. Remember outliers occur on both sides, so filter on both sides of the mean!\n",
    "\n",
    "7. Value Filtering Example\n",
    "\n",
    "Here we will filter extreme values from the LISTPRICE column. To start, we will use the aggregate functions standard deviation and mean. Then use collect to force the calculation to run and use the zero, zero index to access the values. Lastly we created a multi-conditional filter, which is just two boolean statements ANDed together. It reads, filter where the LISTPRICE is less than the hi_bound and more than the low_bound.\n",
    "\n",
    "8. Dropping NA's or NULLs\n",
    "\n",
    "Dealing with missing data is something we will cover later as dropping data is usually a naive approach. Nevertheless, it is important to sometimes take shortcuts to quickly prove out the basis for further work. Dropna does what you'd expect it to do. In its basic form, it will remove a record where there is any null value in any column. You can get more specific as we'll see on the next slide.\n",
    "\n",
    "9. Dropping NA's or NULLs\n",
    "\n",
    "In the first example, we drop any record contains a NULL value. The second example we will look at only two columns and if both are NULL then we will remove the record. Lastly, we can apply a threshold across all the columns and say if more than two columns contain NULL values, remove the entire record.\n",
    "\n",
    "10. Dropping Duplicates\n",
    "\n",
    "Duplicates occur when two or more records contain the exact same information. Often this can happen after you drop columns or join datasets. dropDuplicates will drop the first duplicate it finds. Since Spark is distributed, which one it finds first may or may not be in the order of how your file was loaded. If you want to be more picky about where you are looking for duplicates you can specify a list of column names to look for them there specifically.\n",
    "\n",
    "11. Let's practice!\n",
    "\n",
    "In this video, we learned why we might have bad data and several ways to remove it so it doesn't adversely impact our analysis. Let's see you take a shot at removing some data in the exercises!\n",
    "\n"
   ]
  },
  {
   "cell_type": "markdown",
   "id": "66d4fe02",
   "metadata": {},
   "source": [
    "### Dropping a list of columns\n",
    "Our data set is rich with a lot of features, but not all are valuable. We have many that are going to be hard to wrangle into anything useful. For now, let's remove any columns that aren't immediately useful by dropping them.\n",
    "\n",
    "- `'STREETNUMBERNUMERIC'`: The postal address number on the home\n",
    "- `'FIREPLACES'`: Number of Fireplaces in the home\n",
    "- `'LOTSIZEDIMENSIONS'`: Free text describing the lot shape\n",
    "- `'LISTTYPE'`: Set list of values of sale type\n",
    "- `'ACRES'`: Numeric area of lot size\n",
    "\n",
    "'**Instructions**\n",
    "\n",
    "- Read the list of column descriptions above and explore their top 30 values with `how()`, the dataframe is already filtered to the listed columns as `df`\n",
    "- Create a list of two columns to drop based on their lack of relevance to predicting house prices called `cols_to_drop`. Recall that computers only interpret numbers explicitly and don't understand context.\n",
    "- Use the `drop()` function to remove the columns in the list `cols_to_drop` from the dataframe `df`."
   ]
  },
  {
   "cell_type": "code",
   "execution_count": 26,
   "id": "369cd403",
   "metadata": {
    "scrolled": true
   },
   "outputs": [
    {
     "name": "stdout",
     "output_type": "stream",
     "text": [
      "+-------------------+----------+-----------------+---------------+-----+\n",
      "|STREETNUMBERNUMERIC|FIREPLACES|LOTSIZEDIMENSIONS|       LISTTYPE|ACRES|\n",
      "+-------------------+----------+-----------------+---------------+-----+\n",
      "|              11511|         0|          279X200|Exclusive Right| 1.28|\n",
      "|              11200|         0|          100x140|Exclusive Right| 0.32|\n",
      "|               8583|         0|          120x296|Exclusive Right|0.822|\n",
      "|               9350|         1|          208X208|Exclusive Right| 0.94|\n",
      "|               2915|         1|          116x200|Exclusive Right|  0.0|\n",
      "+-------------------+----------+-----------------+---------------+-----+\n",
      "only showing top 5 rows\n",
      "\n"
     ]
    }
   ],
   "source": [
    "# backup the original DF and select only the columns needed in the practise \n",
    "df_full = df\n",
    "cols_remaining = ['STREETNUMBERNUMERIC','FIREPLACES','LOTSIZEDIMENSIONS', 'LISTTYPE', 'ACRES']\n",
    "df = df.select(cols_remaining)\n",
    "df.show(5)"
   ]
  },
  {
   "cell_type": "code",
   "execution_count": 27,
   "id": "16ec37d0",
   "metadata": {},
   "outputs": [
    {
     "name": "stdout",
     "output_type": "stream",
     "text": [
      "+-------------------+----------+--------------------+---------------+-----+\n",
      "|STREETNUMBERNUMERIC|FIREPLACES|   LOTSIZEDIMENSIONS|       LISTTYPE|ACRES|\n",
      "+-------------------+----------+--------------------+---------------+-----+\n",
      "|              11511|         0|             279X200|Exclusive Right| 1.28|\n",
      "|              11200|         0|             100x140|Exclusive Right| 0.32|\n",
      "|               8583|         0|             120x296|Exclusive Right|0.822|\n",
      "|               9350|         1|             208X208|Exclusive Right| 0.94|\n",
      "|               2915|         1|             116x200|Exclusive Right|  0.0|\n",
      "|               3604|         1|              50x150|Exclusive Right|0.172|\n",
      "|               9957|         0|              common|Exclusive Right| 0.05|\n",
      "|               9934|         0|              common|Exclusive Right| 0.05|\n",
      "|               9926|         0|              common|Exclusive Right| 0.05|\n",
      "|               9928|         0|              common|Exclusive Right| 0.05|\n",
      "|               9902|         0|              common|Exclusive Right| 0.05|\n",
      "|               9904|         0|              common|Exclusive Right| 0.05|\n",
      "|               9894|         0|              common|Exclusive Right| 0.05|\n",
      "|               9892|         0|              COMMON|Exclusive Right| 0.05|\n",
      "|               9295|         1|261 x 293 x 287 x...|Exclusive Right|1.661|\n",
      "|               9930|         0|               36X32|Exclusive Right| 0.05|\n",
      "|               9898|         0|               36X32|Exclusive Right| 0.05|\n",
      "|               9924|         0|              COMMON|Exclusive Right| 0.05|\n",
      "|               9906|         0|              COMMON|Exclusive Right| 0.05|\n",
      "|               9938|         0|              COMMON|Exclusive Right| 0.05|\n",
      "|               9795|         1|               32X60|Exclusive Right| 0.04|\n",
      "|               9797|         1|               32X60|Exclusive Right| 0.04|\n",
      "|               8909|         2|             125x150|Exclusive Right| 0.43|\n",
      "|               3597|         2|             100x250|Exclusive Right|0.574|\n",
      "|               8656|         1|     151x158x130x151|Exclusive Right|0.498|\n",
      "|               9775|         1|               36X32|Exclusive Right| 0.04|\n",
      "|               8687|         2|                   -|Exclusive Right| 1.03|\n",
      "|               8367|         0|             285x305|Exclusive Right|1.995|\n",
      "|               2866|         0|           Irregular|Exclusive Right| 0.72|\n",
      "|               9793|         1|               42x60|Exclusive Right| 0.06|\n",
      "+-------------------+----------+--------------------+---------------+-----+\n",
      "only showing top 30 rows\n",
      "\n"
     ]
    }
   ],
   "source": [
    "# Show top 30 records\n",
    "df.show(30)\n",
    "\n",
    "# List of columns to remove from dataset\n",
    "cols_to_drop = ['STREETNUMBERNUMERIC', 'LOTSIZEDIMENSIONS']\n",
    "\n",
    "# Drop columns in list\n",
    "df = df.drop(*cols_to_drop)"
   ]
  },
  {
   "cell_type": "markdown",
   "id": "9e781038",
   "metadata": {},
   "source": [
    "### Using text filters to remove records\n",
    "It pays to have to ask your clients lots of questions and take time to understand your variables. You find out that Assumable mortgage is an unusual occurrence in the real estate industry and your client suggests you exclude them. In this exercise we will use `isin()` which is similar to `like()` but allows us to pass a list of values to use as a filter rather than a single one.\n",
    "\n",
    "**Instructions**\n",
    "\n",
    "- Use `select()` and `show()` to inspect the distinct values in the column `'ASSUMABLEMORTGAGE'` and create the list `yes_values` for all the values containing the string `'Yes'`.\n",
    "- Use `~df['ASSUMABLEMORTGAGE']`, `isin()`, and `.isNull()` to create a NOT filter to remove records containing corresponding values in the list `yes_values` and to keep records with null values. Store this filter in the variable `text_filter`.\n",
    "- Use `where()` to apply the `text_filter` to `df`.\n",
    "- Print out the number of records remaining in `df`."
   ]
  },
  {
   "cell_type": "code",
   "execution_count": 28,
   "id": "b49b304f",
   "metadata": {},
   "outputs": [
    {
     "name": "stdout",
     "output_type": "stream",
     "text": [
      "+-------------------+\n",
      "|  ASSUMABLEMORTGAGE|\n",
      "+-------------------+\n",
      "|  Yes w/ Qualifying|\n",
      "| Information Coming|\n",
      "|               null|\n",
      "|Yes w/No Qualifying|\n",
      "|      Not Assumable|\n",
      "+-------------------+\n",
      "\n"
     ]
    }
   ],
   "source": [
    "#Return back to the full DF using the backup\n",
    "df= df_full\n",
    "# Inspect unique values in the column 'ASSUMABLEMORTGAGE'\n",
    "df.select(['ASSUMABLEMORTGAGE']).distinct().show()"
   ]
  },
  {
   "cell_type": "code",
   "execution_count": 29,
   "id": "ba69fad6",
   "metadata": {},
   "outputs": [
    {
     "name": "stdout",
     "output_type": "stream",
     "text": [
      "+-------------------+\n",
      "|  ASSUMABLEMORTGAGE|\n",
      "+-------------------+\n",
      "|  Yes w/ Qualifying|\n",
      "| Information Coming|\n",
      "|               null|\n",
      "|Yes w/No Qualifying|\n",
      "|      Not Assumable|\n",
      "+-------------------+\n",
      "\n",
      "4976\n"
     ]
    }
   ],
   "source": [
    "# Inspect unique values in the column 'ASSUMABLEMORTGAGE'\n",
    "df.select(['ASSUMABLEMORTGAGE']).distinct().show()\n",
    "\n",
    "# List of possible values containing 'yes'\n",
    "yes_values = ['Yes w/ Qualifying', 'Yes w/No Qualifying']\n",
    "\n",
    "# Filter the text values out of df but keep null values\n",
    "text_filter = ~df['ASSUMABLEMORTGAGE'].isin(yes_values) | df['ASSUMABLEMORTGAGE'].isNull()\n",
    "df = df.where(text_filter)\n",
    "\n",
    "# Print count of remaining records\n",
    "print(df.count())"
   ]
  },
  {
   "cell_type": "markdown",
   "id": "ad0b77e7",
   "metadata": {},
   "source": [
    "### Filtering numeric fields conditionally\n",
    "Again, understanding the context of your data is extremely important. We want to understand what a normal range of houses sell for. Let's make sure we exclude any outlier homes that have sold for significantly more or less than the average. Here we will calculate the mean and standard deviation and use them to filer the near normal field `log_SalesClosePrice`.\n",
    "\n",
    "**Instructions**\n",
    "\n",
    "- Import `mean()` and `stddev()` from `pyspark.sql.functions`.\n",
    "- Use `agg()` to calculate the mean and standard deviation for `'log_SalesClosePrice'` with the imported functions.\n",
    "- Create the upper and lower bounds by taking `mean_val` +/- 3 times `stddev_val`.\n",
    "- Create a `where()` filter for `'log_SalesClosePrice'` using both `low_bound` and `hi_bound`."
   ]
  },
  {
   "cell_type": "code",
   "execution_count": 30,
   "id": "21ec3a45",
   "metadata": {},
   "outputs": [
    {
     "name": "stdout",
     "output_type": "stream",
     "text": [
      "+-------------------+\n",
      "|log_SalesClosePrice|\n",
      "+-------------------+\n",
      "| 11.870606902224587|\n",
      "| 12.154784614286667|\n",
      "| 12.323860125621126|\n",
      "| 12.487488878546145|\n",
      "| 12.428820118415677|\n",
      "+-------------------+\n",
      "only showing top 5 rows\n",
      "\n"
     ]
    }
   ],
   "source": [
    "#Create the log_SalesClosePrice as in the practise\n",
    "df= df_full\n",
    "#log10 and log2 seems not the rights ones, the log1p provided the correct  statistics \n",
    "#Docs https://spark.apache.org/docs/latest/api/python/reference/pyspark.sql/api/pyspark.sql.functions.log1p.html\n",
    "from pyspark.sql.functions import log1p\n",
    "df = df.withColumn('log_SalesClosePrice', log1p(df['SalesClosePrice']))\n",
    "df.columns\n",
    "df.select('log_SalesClosePrice').show(5)"
   ]
  },
  {
   "cell_type": "code",
   "execution_count": 31,
   "id": "82d75979",
   "metadata": {},
   "outputs": [
    {
     "name": "stdout",
     "output_type": "stream",
     "text": [
      "10.778977123006351 14.346139397261565\n",
      "12.369720943418447 0.454080629857895\n"
     ]
    }
   ],
   "source": [
    "#Make sure the statistics matches in the practise\n",
    "from pyspark.sql.functions import mean, stddev, min, max\n",
    "min_val = df.agg({'log_SalesClosePrice': 'min'}).collect()[0][0]\n",
    "max_val = df.agg({'log_SalesClosePrice': 'max'}).collect()[0][0]\n",
    "\n",
    "print(min_val,max_val)\n",
    "# Calculate values used for outlier filtering\n",
    "mean_val = df.agg({'log_SalesClosePrice': 'mean'}).collect()[0][0]\n",
    "stddev_val = df.agg({'log_SalesClosePrice': 'stddev'}).collect()[0][0]\n",
    "\n",
    "print(mean_val, stddev_val)"
   ]
  },
  {
   "cell_type": "code",
   "execution_count": 32,
   "id": "81c2df2d",
   "metadata": {},
   "outputs": [],
   "source": [
    "from pyspark.sql.functions import mean, stddev\n",
    "\n",
    "# Calculate values used for outlier filtering\n",
    "mean_val = df.agg({'log_SalesClosePrice': 'mean'}).collect()[0][0]\n",
    "stddev_val = df.agg({'log_SalesClosePrice': 'stddev'}).collect()[0][0]\n",
    "\n",
    "# Create three standard deviation (μ ± 3σ) lower and upper bounds for data\n",
    "low_bound = mean_val - (3 * stddev_val)\n",
    "hi_bound = mean_val + (3 * stddev_val)\n",
    "\n",
    "# Filter the data to fit between the lower and upper bounds\n",
    "df = df.where((df['log_SalesClosePrice'] < hi_bound) & (df['log_SalesClosePrice'] > low_bound))"
   ]
  },
  {
   "cell_type": "markdown",
   "id": "7cd81bc8",
   "metadata": {},
   "source": [
    "## Adjusting Data\n",
    "1. Adjusting Data\n",
    "\n",
    "Jeff Hooper of Bell labs once said, \"data does not give up its secrets easily, it must be tortured to confess.\" This lesson will arm you with the tools to get your data to behave.\n",
    "\n",
    "2. Why Transform Data?\n",
    "\n",
    "Real data is ugly and rarely comes ready to be analyzed. Many algorithms and statistical methods have assumptions that a variable conforms to. If our data doesn't fit these criteria all hope isn't lost yet, we can try mathematical operations to adjust the data to become the beautiful butterflies our methods require.\n",
    "\n",
    "3. What is MinMax Scaling\n",
    "\n",
    "One common transformation is scaling. For many algorithms like KNN or regression, you need to ensure all your variables are on the same scale. One variable can't be from -1000 to 5000 and another between point-01 and point-02, these algorithms will try to reduce the errors in the first variable much more than the second. We can avoid this by scaling each feature between 0 and 1. This is called Minmax scaling and doesn't change the shape of the distribution of only its range. To Minmax scale, take the variable to be scaled, subtract the minimum value and divide by the difference between the max and min.\n",
    "\n",
    "4. Minmax Scaling\n",
    "\n",
    "To scale our data we need to first find the min and max values of the column we want to scale. Here we are using aggregate functions min and max. We will use collect to force the calculation to run and use the zero, zero index to access the values. To create a new column we will use withColumn that creates a new column based off some sort of transformation to an existing one, in this case, DAYSONMARKET. Lastly, we can see that our values are now all between 0 and 1.\n",
    "\n",
    "5. What is Standardization?\n",
    "\n",
    "Another common restriction is that the data must closely follow the standard normal distribution. Standardization or z-transforming is the process of shifting and scaling your data to better resemble a standard normal distribution, which has mean of 0 and standard deviation 1. In the image, you can see how the original data in blue, shifts to the green where it has mean 0 and the final step scales it to the standard normal distribution in red.\n",
    "\n",
    "6. Standardization\n",
    "\n",
    "To z transform our data, we calculate the aggregate functions mean and std deviation of the column we are transforming. Since want to use the values in the next step we will use collect to immediately calculate them and use the index values of [0][0] to access the returned values. We can then apply the standardization formula to our column and put the results in a new column ztrans_days by using withColumn. Lastly, we can verify that the transformed data does have approximate mean 0 and std deviation of 1.\n",
    "\n",
    "7. What is Log Scaling\n",
    "\n",
    "Our data for SALESCLOSEPRICE is pushed to the left. This is called positive skew. One potential way to treat skewed data is to apply a log transformation on the data. This has the impact of making our data look more like a normal distribution.\n",
    "\n",
    "8. Log Scaling\n",
    "\n",
    "To apply a log transformation you will need to import the log function from pyspark sql functions. We can then create a new column log_SalesClosePrice based on the application of the log function on SALESCLOSEPRICE.\n",
    "\n",
    "9. Let's practice!\n",
    "\n",
    "In this video, you learned why and how to apply transformations to your data. Now its time for you to adjust some data!"
   ]
  },
  {
   "cell_type": "markdown",
   "id": "57b5da1c",
   "metadata": {},
   "source": [
    "### Custom Percentage Scaling\n",
    "In the slides we showed how to scale the data between 0 and 1. Sometimes you may wish to scale things differently for modeling or display purposes.\n",
    "\n",
    "**Instructions**\n",
    "\n",
    "- Calculate the max and min of `DAYSONMARKET` and put them into variables `max_days` and `min_days`, don't forget to use `collect()` on `agg()`.\n",
    "- Using `withColumn()` create a new column called `'percentagescaleddays'` based on `DAYSONMARKET`.\n",
    "- `percentage_scaled_days` should be a column of integers ranging from 0 to 100, use `round()` to get integers.\n",
    "- Print the `max()` and `min()` for the new column `percentage_scaled_days`."
   ]
  },
  {
   "cell_type": "code",
   "execution_count": 33,
   "id": "ab256e05",
   "metadata": {},
   "outputs": [],
   "source": [
    "from pyspark.sql.functions import round"
   ]
  },
  {
   "cell_type": "code",
   "execution_count": 34,
   "id": "4e86f286",
   "metadata": {},
   "outputs": [
    {
     "name": "stdout",
     "output_type": "stream",
     "text": [
      "[Row(min(percentage_scaled_days)=0.0)]\n",
      "[Row(max(percentage_scaled_days)=100.0)]\n"
     ]
    }
   ],
   "source": [
    "# Define max and min values and collect them\n",
    "max_days = df.agg({'DAYSONMARKET': 'max'}).collect()[0][0]\n",
    "min_days = df.agg({'DAYSONMARKET': 'min'}).collect()[0][0]\n",
    "\n",
    "# Create a new column based off the scaled data\n",
    "df = df.withColumn('percentage_scaled_days', \n",
    "                  round((df['DAYSONMARKET'] - min_days) / (max_days - min_days)) * 100)\n",
    "\n",
    "# Calc max and min for new column\n",
    "print(df.agg({'percentage_scaled_days': 'min'}).collect())\n",
    "print(df.agg({'percentage_scaled_days': 'max'}).collect())"
   ]
  },
  {
   "cell_type": "markdown",
   "id": "3e7bba4d",
   "metadata": {},
   "source": [
    "### Scaling your scalers\n",
    "In the previous exercise, we minmax scaled a single variable. Suppose you have a LOT of variables to scale, you don't want hundreds of lines to code for each. Let's expand on the previous exercise and make it a function.\n",
    "\n",
    "**Instructions**\n",
    "\n",
    "- Define a function called `min_max_scaler` that takes parameters df a dataframe and `cols_to_scale` the list of columns to scale.\n",
    "- Use a for loop to iterate through each column in the list and minmax scale them.\n",
    "- Return the dataframe df with the new columns added.\n",
    "- Apply the function `min_max_scaler()` on `df` and the list of columns `cols_to_scale`."
   ]
  },
  {
   "cell_type": "code",
   "execution_count": 35,
   "id": "8931a2af",
   "metadata": {},
   "outputs": [],
   "source": [
    "cols_to_scale = ['FOUNDATIONSIZE', 'DAYSONMARKET', 'FIREPLACES']"
   ]
  },
  {
   "cell_type": "code",
   "execution_count": 36,
   "id": "fe8f263e",
   "metadata": {},
   "outputs": [
    {
     "name": "stdout",
     "output_type": "stream",
     "text": [
      "+------------+--------------------+\n",
      "|DAYSONMARKET| scaled_DAYSONMARKET|\n",
      "+------------+--------------------+\n",
      "|          10|0.044444444444444446|\n",
      "|           4|0.017777777777777778|\n",
      "|          28| 0.12444444444444444|\n",
      "|          19| 0.08444444444444445|\n",
      "|          21| 0.09333333333333334|\n",
      "|          17| 0.07555555555555556|\n",
      "|          32| 0.14222222222222222|\n",
      "|           5|0.022222222222222223|\n",
      "|          23| 0.10222222222222223|\n",
      "|          73|  0.3244444444444444|\n",
      "|          80| 0.35555555555555557|\n",
      "|          79|  0.3511111111111111|\n",
      "|          12| 0.05333333333333334|\n",
      "|           1|0.004444444444444...|\n",
      "|          18|                0.08|\n",
      "|           2|0.008888888888888889|\n",
      "|          12| 0.05333333333333334|\n",
      "|          45|                 0.2|\n",
      "|          31| 0.13777777777777778|\n",
      "|          16| 0.07111111111111111|\n",
      "+------------+--------------------+\n",
      "only showing top 20 rows\n",
      "\n"
     ]
    }
   ],
   "source": [
    "def min_max_scaler(df, cols_to_scale):\n",
    "  # Takes a dataframe and list of columns to minmax scale. Returns a dataframe.\n",
    "    for col in cols_to_scale:\n",
    "        # Define min and max values and collect them\n",
    "        max_days = df.agg({col: 'max'}).collect()[0][0]\n",
    "        min_days = df.agg({col: 'min'}).collect()[0][0]\n",
    "        new_column_name = 'scaled_' + col\n",
    "        # Create a new column based off the scaled data\n",
    "        df = df.withColumn(new_column_name, \n",
    "                          (df[col] - min_days) / (max_days - min_days))\n",
    "    return df\n",
    "#print(cols_to_scale)\n",
    "df = min_max_scaler(df, cols_to_scale)\n",
    "# Show that our data is now between 0 and 1\n",
    "df[['DAYSONMARKET', 'scaled_DAYSONMARKET']].show()"
   ]
  },
  {
   "cell_type": "markdown",
   "id": "55910859",
   "metadata": {},
   "source": [
    "### Correcting Right Skew Data\n",
    "In the slides we showed how you might use log transforms to fix positively skewed data (data whose distribution is mostly to the left). To correct negative skew (data mostly to the right) you need to take an extra step called \"reflecting\" before you can apply the inverse of $\\log$, written as (1/ $\\log$) to make the data look more like normal a normal distribution. Reflecting data uses the following formula to reflect each value: \n",
    "$(x_{\\text{max}} +1) – x$.\n",
    "\n",
    "**Instructions**\n",
    "\n",
    "- Use the aggregate function `skewness()` to verify that `'YEARBUILT'` has negative skew.\n",
    "- Use the `withColumn()` to create a new column `'Reflect_YearBuilt'` and reflect the values of `'YEARBUILT'`.\n",
    "- Using `'Reflect_YearBuilt'` column, create another column `'adj_yearbuilt'` by taking `1/log()` of the values.\n",
    "\n"
   ]
  },
  {
   "cell_type": "code",
   "execution_count": 37,
   "id": "75371b8e",
   "metadata": {},
   "outputs": [],
   "source": [
    "from pyspark.sql.functions import skewness"
   ]
  },
  {
   "cell_type": "code",
   "execution_count": 38,
   "id": "d623b164",
   "metadata": {},
   "outputs": [
    {
     "name": "stdout",
     "output_type": "stream",
     "text": [
      "[Row(skewness(YEARBUILT)=-0.24797344910486546)]\n"
     ]
    }
   ],
   "source": [
    "from pyspark.sql.functions import log\n",
    "\n",
    "# Compute the skewness\n",
    "print(df.agg({'YEARBUILT': 'skewness'}).collect())\n",
    "\n",
    "# Calculate the max year\n",
    "max_year = df.agg({'YEARBUILT': 'max'}).collect()[0][0]\n",
    "\n",
    "# Create a new column of reflected data\n",
    "df = df.withColumn('Reflect_YearBuilt', (max_year + 1) - df['YEARBUILT'])\n",
    "\n",
    "# Create a new column based reflected data\n",
    "df = df.withColumn('adj_yearbuilt', 1 / log(df['Reflect_YearBuilt']))"
   ]
  },
  {
   "cell_type": "markdown",
   "id": "71d07bab",
   "metadata": {},
   "source": [
    "## Working with Missing Data\n",
    "1. Working with Missing Data\n",
    "\n",
    "Missing data is frustrating, in this lesson we will touch on a few ways to handle it.\n",
    "\n",
    "2. How does data go missing in the digital age?\n",
    "\n",
    "How does data go missing in the digital age? Sensors can fail, surveys can miss people or new ways to measure things can cause gaps in data sets. Data storage rules can force data that doesn't fit the specified type to be null. For example dates in different formats, abbreviations or a currency with a comma instead of a period. Joining datasets can enrich your model but can induce missing values if they are not at captured at the same granularity. If you combine daily data with monthly data, it will create gaps for all the days where the monthly data was not captured. Lastly, data can be missing intentionally, attributes used in combination might be enough to compromise privacy. This can be seen in government datasets like the census where they will omit data if there is a concern.\n",
    "\n",
    "3. Types of Missing\n",
    "\n",
    "Understanding why your data is missing is important. Missing Completely at Random occurs when the data is missing with no pattern. Your data is likely still representative of the whole population. Missing at Random occurs when the probability of missing data on the Y variable is unrelated to the value of Y. For example, suppose males are less likely to answer a depression survey; this has no relationship with their level of depression, after accounting for maleness. Missing not at random is when the value that is missing is related to the reason why it is missing. Supposing that people with severe health problems do not answer a question asking them to rank their health would indicate missing not at random.\n",
    "\n",
    "4. Assessing Missing Values\n",
    "\n",
    "Earlier we showed how to use the function dropna but we didn't talk about when to use it. If your data only has a few missing values and they are missing completely at random it may be fine to remove the rows. But how can we check to see how many missing values we have in our dataset though? We can use the isNull function. It returns true if the condition is true. Here we use it to filter our data to records where they are NULL and then count them.\n",
    "\n",
    "5. Plotting Missing Values\n",
    "\n",
    "We can also use seaborn to help us visualize missing values by leveraging the heatmap function. Using the same steps as before where we sample our data, convert it and then use seaborn to plot the heat map. Note we use pandas DataFrame isnull to convert the dataframe into a T/F for null values.\n",
    "\n",
    "6. Missing Values Heatmap\n",
    "\n",
    "Here we can see the missing values as white spaces in the chart.\n",
    "\n",
    "7. Imputation of Missing Values\n",
    "\n",
    "Another way to handle missing values is to replace them. The replacement value might be based on business rules such as missing sales means there were no sales and replace with 0. If the data is missing completely at random, it may make sense to impute them using the mean or the median. Another option could be to use interpolation, creating another model to predict the values. Replacing values shouldn't be done without some serious considerations; make sure you research the appropriateness.\n",
    "\n",
    "8. Imputation of Missing Values\n",
    "\n",
    "To replace missing values we will use pyspark's fillna which takes the value to use for replacement as well as a list of column names. Here we replace values with 0 We can also replace values with the mean by calculating it using an aggregate function and use collect to force the calculation immediately and then access the value by using the zero, zero index. Then col_mean only needs to be placed in the fillna function.\n",
    "\n",
    "9. Let's practice!\n",
    "\n",
    "In this video, you learned about types of missing data, how to assess missing values and some methods to treat them. Take some time to do the exercises and try out what you learned."
   ]
  },
  {
   "cell_type": "markdown",
   "id": "ebeab137",
   "metadata": {},
   "source": [
    "### Visualizing Missing Data\n",
    "Being able to plot missing values is a great way to quickly understand how much of your data is missing. It can also help highlight when variables are missing in a pattern something that will need to be handled with care lest your model be biased.\n",
    "\n",
    "Which variable has the most missing values? Run all lines of code except the last one to determine the answer. Once you're confident, and fill out the value and hit \"Submit Answer\".\n",
    "\n",
    "**Instructions**\n",
    "\n",
    "- Use `select()` to subset the dataframe df with the list of columns columns and Sample with the provided `sample()` function, and assign this dataframe to the variable `sample_df`.\n",
    "- Convert the Subset dataframe to a pandas dataframe `pandas_df`, and use pandas `isnull()` to convert it DataFrame into True/False. Store this result in `tf_df`.\n",
    "- Use seaborn's `heatmap()` to plot `tf_df`.\n",
    "- Hit \"Run Code\" to view the plot. Then assign the name of the variable with most missing values to `answer`."
   ]
  },
  {
   "cell_type": "code",
   "execution_count": 39,
   "id": "b889fa6d",
   "metadata": {},
   "outputs": [],
   "source": [
    "columns = ['APPLIANCES', 'BACKONMARKETDATE', 'ROOMFAMILYCHAR', 'BASEMENT', 'DININGROOMDESCRIPTION']"
   ]
  },
  {
   "cell_type": "code",
   "execution_count": 40,
   "id": "4eb4094f",
   "metadata": {},
   "outputs": [
    {
     "data": {
      "image/png": "[encoded data removed]",
      "text/plain": [
       "<Figure size 640x480 with 2 Axes>"
      ]
     },
     "metadata": {},
     "output_type": "display_data"
    }
   ],
   "source": [
    "# Sample the dataframe and convert to Pandas\n",
    "#print(columns)\n",
    "sample_df = df.select(columns).sample(False, 0.1, 42)\n",
    "pandas_df = sample_df.toPandas()\n",
    "\n",
    "# Convert all values to T/F\n",
    "tf_df = pandas_df.isnull()\n",
    "\n",
    "# Plot it\n",
    "sns.heatmap(data=tf_df)\n",
    "plt.xticks(rotation=30, fontsize=10)\n",
    "plt.yticks(rotation=0, fontsize=10)\n",
    "plt.show()\n",
    "\n",
    "# Set the answer to the column with the most missing data\n",
    "answer = 'BACKONMARKETDATE'"
   ]
  },
  {
   "cell_type": "markdown",
   "id": "2fa39b1b",
   "metadata": {},
   "source": [
    "### Imputing Missing Data\n",
    "Missing data happens. If we make the assumption that our data is missing completely at random, we are making the assumption that what data we do have, is a good representation of the population. If we have a few values we could remove them or we could use the mean or median as a replacement. In this exercise, we will look at `'PDOM'`: Days on Market at Current Price.\n",
    "\n",
    "**Instructions**\n",
    "\n",
    "- Get a count of the missing values in the column `'PDOM'` using `where()`, `isNull()` and `count()`.\n",
    "- Calculate the mean value of `'PDOM'` using the aggregate function `mean()`.\n",
    "- Use `fillna()` with the value set to the `'PDOM'` mean value and only apply it to the column `'PDOM'` using the subset parameter."
   ]
  },
  {
   "cell_type": "code",
   "execution_count": 41,
   "id": "7d123663",
   "metadata": {},
   "outputs": [
    {
     "data": {
      "text/plain": [
       "DataFrame[No.: int, MLSID: string, StreetNumberNumeric: int, streetaddress: string, STREETNAME: string, PostalCode: int, StateOrProvince: string, City: string, SalesClosePrice: int, LISTDATE: string, LISTPRICE: int, LISTTYPE: string, OriginalListPrice: int, PricePerTSFT: double, FOUNDATIONSIZE: int, FENCE: string, MapLetter: string, LotSizeDimensions: string, SchoolDistrictNumber: string, DAYSONMARKET: int, offmarketdate: string, Fireplaces: int, RoomArea4: string, roomtype: string, ROOF: string, RoomFloor4: string, PotentialShortSale: string, PoolDescription: string, PDOM: int, GarageDescription: string, SQFTABOVEGROUND: int, Taxes: int, RoomFloor1: string, RoomArea1: string, TAXWITHASSESSMENTS: double, TAXYEAR: int, LivingArea: int, UNITNUMBER: string, YEARBUILT: int, ZONING: string, STYLE: string, ACRES: double, CoolingDescription: string, APPLIANCES: string, backonmarketdate: int, ROOMFAMILYCHAR: string, RoomArea3: string, EXTERIOR: string, RoomFloor3: string, RoomFloor2: string, RoomArea2: string, DiningRoomDescription: string, BASEMENT: string, BathsFull: int, BathsHalf: int, BATHQUARTER: int, BATHSTHREEQUARTER: double, Class: string, BATHSTOTAL: int, BATHDESC: string, RoomArea5: string, RoomFloor5: string, RoomArea6: string, RoomFloor6: string, RoomArea7: string, RoomFloor7: string, RoomArea8: string, RoomFloor8: string, Bedrooms: int, SQFTBELOWGROUND: int, AssumableMortgage: string, AssociationFee: int, ASSESSMENTPENDING: string, AssessedValuation: double, log_SalesClosePrice: double, percentage_scaled_days: double, scaled_FOUNDATIONSIZE: double, scaled_DAYSONMARKET: double, scaled_FIREPLACES: double, Reflect_YearBuilt: int, adj_yearbuilt: double]"
      ]
     },
     "execution_count": 41,
     "metadata": {},
     "output_type": "execute_result"
    }
   ],
   "source": [
    "# Count missing rows\n",
    "missing = df.where(df['PDOM'].isNull()).count()\n",
    "\n",
    "# Calculate the mean value\n",
    "col_mean = df.agg({'PDOM': 'mean'}).collect()[0][0]\n",
    "\n",
    "# Replacing with the mean value for that column\n",
    "df.fillna(col_mean, subset=['PDOM'])"
   ]
  },
  {
   "cell_type": "markdown",
   "id": "0a4b8e9a",
   "metadata": {},
   "source": [
    "### Calculate Missing Percents\n",
    "Automation is the future of data science. Learning to automate some of your data preparation pays dividends. In this exercise, we will automate dropping columns if they are missing data beyond a specific threshold.\n",
    "\n",
    "**Instructions**\n",
    "\n",
    "- Define a function `column_dropper()` that takes the parameters df a dataframe and threshold a float between 0 and 1.\n",
    "- Calculate the percentage of values that are missing using `where()`, `isNull()` and `count()`.\n",
    "- Check to see if the percentage of missing is higher than the threshold, if so, drop the column using `drop()`.\n",
    "- Run `column_dropper()` on df with the threshold set to .6"
   ]
  },
  {
   "cell_type": "code",
   "execution_count": 42,
   "id": "0e52ef82",
   "metadata": {},
   "outputs": [],
   "source": [
    "from pyspark.sql.functions import col, isnull\n",
    "from pyspark.sql import Column, Row"
   ]
  },
  {
   "cell_type": "code",
   "execution_count": 43,
   "id": "0063f800",
   "metadata": {},
   "outputs": [],
   "source": [
    "df = df.withColumnRenamed(\"No.\", \"No\")"
   ]
  },
  {
   "cell_type": "code",
   "execution_count": 44,
   "id": "7ea26787",
   "metadata": {},
   "outputs": [
    {
     "data": {
      "text/plain": [
       "81"
      ]
     },
     "execution_count": 44,
     "metadata": {},
     "output_type": "execute_result"
    }
   ],
   "source": [
    "len(df.columns)"
   ]
  },
  {
   "cell_type": "code",
   "execution_count": 45,
   "id": "07dbf080",
   "metadata": {},
   "outputs": [],
   "source": [
    "def column_dropper(df, threshold):\n",
    "    # Takes a dataframe and threshold for missing values. Returns a dataframe.\n",
    "    total_records = df.count()\n",
    "    for col in df.columns:\n",
    "        # Calculate the percentage of missing values\n",
    "        missing = df.where(isnull(df[col])).count()\n",
    "        missing_percent = missing / total_records\n",
    "        # Drop column if percent of missing is more than threshold\n",
    "        if missing_percent > threshold:\n",
    "            df = df.drop(col)\n",
    "    return df\n",
    "\n",
    "# Drop columns that are more than 60% missing\n",
    "df = column_dropper(df, 0.6)"
   ]
  },
  {
   "cell_type": "code",
   "execution_count": 46,
   "id": "dc90d1f1",
   "metadata": {},
   "outputs": [
    {
     "data": {
      "text/plain": [
       "75"
      ]
     },
     "execution_count": 46,
     "metadata": {},
     "output_type": "execute_result"
    }
   ],
   "source": [
    "len(df.columns)"
   ]
  },
  {
   "cell_type": "markdown",
   "id": "65adf142",
   "metadata": {},
   "source": [
    "## Getting More Data\n",
    "1. Getting More Data\n",
    "\n",
    "The world of Big Data means having access to much more information to include in our analysis. In this video, we will cover how to connect additional data to our dataset.\n",
    "\n",
    "2. Thoughts on External Data Sets\n",
    "\n",
    "External data is a wonderful way to boost model performance but there are pros and cons to choosing to include it. Adding external data may add excellent predictors for a model but adding too many features may impact the performance of the model. There is a serious risk of spurious correlations between variables in the world of big data. External data can be a great way to replace missing or aggregated values with a better feature. Adding data comes at the risk of inducing data leakage. If we wish to include local crime information, we will have to ensure that buyers would also have access to that information at the time of purchasing a home. To include data available later is leaking information from the future. Another consideration is how cheap and easy it is to obtain. Today we have many more datasets easily available to us but this may come at the cost of us needing to become the subject matter experts to know the meaning and credibility of our sources.\n",
    "\n",
    "3. About Joins\n",
    "\n",
    "To understand the different kinds of joins we'll need to orient ourselves. We will call the original data set we started with the \"Left\" and the one we wish to incorporate our \"Right\". There are many ways to join data together most commonly the Inner or Left joins depending on your goals. For us, we want to make sure we ALWAYS keep the full LEFT dataset and add data where available from the RIGHT. This means we will be using a LEFT JOIN.\n",
    "\n",
    "4. PySpark DataFrame Joins\n",
    "\n",
    "Joins can be done one of two ways in Pyspark. First is the dataframe join method. The dataframe that calls join is the LEFT dataframe. other is the right dataframe, in this case, the new dataset. on is the pairs of column conditions we will match on. how is the type of join to perform.\n",
    "\n",
    "5. PySpark Join Example\n",
    "\n",
    "Suppose we want to see the impact of homes sold on bank holidays. We can join the dataframes together by creating a join condition where df OFFMARKETDATE equals hdf dt We then can put this condition into our join function and use 'left' to make sure we keep all the original records in df. Lastly, count holiday sales by using the tilde to take the NOT of isNull. Not surprising, no houses are sold on a bank holidays, perhaps later we can check if a holiday week impacts sales\n",
    "\n",
    "6. SparkSQL Join\n",
    "\n",
    "The second way we can join dataframes together is to use Spark SQL which allows us to apply SQL statments directly to dataframes. This may be your preferred method if you are familiar with SQL or attempting to do complicated joins or filters. To do this we need to register the dataframe as temp table and give it a name. Once that's done we can then use spark sql to execute a query and return it back in the form of a dataframe. In this one, we are using SELECT star to get all of the columns available, using FROM df to create our starting table, LEFT JOIN hdf as the table we'd like to join with and using ON df OFFMARKETDATE equals hdf dt to create the join condition.\n",
    "\n",
    "7. Let's Join Some Data!\n",
    "\n",
    "In this video, we learned combining datasets can be powerful but requires some caution. We also learned how to join data in two different ways. In the exercises, we will build on these and learn some things to watch out for!"
   ]
  },
  {
   "cell_type": "markdown",
   "id": "584da101",
   "metadata": {},
   "source": [
    "### A Dangerous Join\n",
    "In this exercise, we will be joining on Latitude and Longitude to bring in another dataset that measures how walk-friendly a neighborhood is. We'll need to be careful to make sure our joining columns are the same data type and ensure we are joining on the same precision (number of digits after the decimal) or our join won't work!\n",
    "\n",
    "Below you will find that `df['latitude']` and `df['longitude']` are at a higher precision than `walk_df['longitude']` and `walk_df['latitude']` we'll need to round them to the same precision so the join will work correctly.\n",
    "\n",
    "**Instructions**\n",
    "\n",
    "- Convert `walk_df['latitude']` and `walk_df['longitude']` to type double by using `cast('double')` on the column and replacing the column in place `withColumn()`.\n",
    "- Round the columns in place with `withColumn()` and `round('latitude', 5)` and `round('longitude', 5)`.\n",
    "- Create the join condition of `walk_df['latitude']` matching `df['latitude']` and `walk_df['longitude']` matching `df['longitude']`.\n",
    "- Join `df` and `walk_df` together with `join()`, using the condition above and the left join type. Save the joined dataframe as `join_df`."
   ]
  },
  {
   "cell_type": "code",
   "execution_count": 47,
   "id": "2aae137b",
   "metadata": {},
   "outputs": [],
   "source": [
    "# This cell should be used to import the walk_df dataset once they send it\n"
   ]
  },
  {
   "cell_type": "code",
   "execution_count": 48,
   "id": "0754e39e",
   "metadata": {},
   "outputs": [
    {
     "data": {
      "text/plain": [
       "\"\\n# Cast data types\\nwalk_df = walk_df.withColumn('latitude', walk_df['latitude'].cast('double'))\\nwalk_df = walk_df.withColumn('longitude', walk_df['longitude'].cast('double'))\\n\\n# Round precision\\ndf = df.withColumn('longitude', round('longitude', 5))\\ndf = df.withColumn('latitude', round('latitude', 5))\\n\\n# Create join condition\\ncondition = [walk_df['latitude'] == df['latitude'], walk_df['longitude'] == df['longitude']]\\n\\n# Join the dataframes together\\njoin_df = df.join(walk_df, on=condition, how='left')\\n# Count non-null records from new field\\nprint(join_df.where(~join_df['walkscore'].isNull()).count())\\n\""
      ]
     },
     "execution_count": 48,
     "metadata": {},
     "output_type": "execute_result"
    }
   ],
   "source": [
    "'''\n",
    "# Cast data types\n",
    "walk_df = walk_df.withColumn('latitude', walk_df['latitude'].cast('double'))\n",
    "walk_df = walk_df.withColumn('longitude', walk_df['longitude'].cast('double'))\n",
    "\n",
    "# Round precision\n",
    "df = df.withColumn('longitude', round('longitude', 5))\n",
    "df = df.withColumn('latitude', round('latitude', 5))\n",
    "\n",
    "# Create join condition\n",
    "condition = [walk_df['latitude'] == df['latitude'], walk_df['longitude'] == df['longitude']]\n",
    "\n",
    "# Join the dataframes together\n",
    "join_df = df.join(walk_df, on=condition, how='left')\n",
    "# Count non-null records from new field\n",
    "print(join_df.where(~join_df['walkscore'].isNull()).count())\n",
    "'''"
   ]
  },
  {
   "cell_type": "markdown",
   "id": "dc38ea3d",
   "metadata": {},
   "source": [
    "### Spark SQL Join\n",
    "Sometimes it is much easier to write complex joins in SQL. In this exercise, we will start with the join keys already in the same format and precision but will use SparkSQL to do the joining.\n",
    "\n",
    "**Instructions**\n",
    "\n",
    "- Register the Dataframes as SparkSQL tables with `createOrReplaceTempView`, name them the `df` and `walk_df` respectively.\n",
    "- In the `join_sql` string, set the left table to `df` and the right table to `walk_df`\n",
    "- Call `spark.sql()` on the `join_sql` string to perform the join."
   ]
  },
  {
   "cell_type": "code",
   "execution_count": 49,
   "id": "c5925993",
   "metadata": {},
   "outputs": [
    {
     "data": {
      "text/plain": [
       "'\\n# Register dataframes as tables\\ndf.createOrReplaceTempView(\"df\")\\nwalk_df.createOrReplaceTempView(\"walk_df\")\\n\\n# SQL to join dataframes\\njoin_sql = \\t\"\"\"\\n            SELECT \\n                *\\n            FROM df\\n            LEFT JOIN walk_df\\n            ON df.longitude = walk_df.longitude\\n            AND df.latitude = walk_df.latitude\\n            \"\"\"\\n# Perform sql join\\njoined_df = spark.sql(join_sql)\\n'"
      ]
     },
     "execution_count": 49,
     "metadata": {},
     "output_type": "execute_result"
    }
   ],
   "source": [
    "'''\n",
    "# Register dataframes as tables\n",
    "df.createOrReplaceTempView(\"df\")\n",
    "walk_df.createOrReplaceTempView(\"walk_df\")\n",
    "\n",
    "# SQL to join dataframes\n",
    "join_sql = \t\"\"\"\n",
    "            SELECT \n",
    "                *\n",
    "            FROM df\n",
    "            LEFT JOIN walk_df\n",
    "            ON df.longitude = walk_df.longitude\n",
    "            AND df.latitude = walk_df.latitude\n",
    "            \"\"\"\n",
    "# Perform sql join\n",
    "joined_df = spark.sql(join_sql)\n",
    "'''"
   ]
  },
  {
   "cell_type": "markdown",
   "id": "93a3eb41",
   "metadata": {},
   "source": [
    "### Checking for Bad Joins\n",
    "Joins can go bad silently if we are not careful, meaning they will not error out but instead return mangled data with more or less data than you'd intended. Let's take a look at a couple ways that joining incorrectly can change your data set for the worse.\n",
    "\n",
    "In this example we will look at what happens if you join two dataframes together when the join keys are not the same precision and compare the record counts between the correct join and the incorrect one.\n",
    "\n",
    "**Instructions**\n",
    "\n",
    "- Create a join between `df_orig`, the dataframe before its precision was corrected, and `walk_df` that matches on longitude and latitude in the respective dataframes.\n",
    "- Count the number of missing values with `where()` `isNull()` on `df['walkscore']` and `correct_join['walkscore']`. You should notice that there are many missing values because our datatypes and precision do not match.\n",
    "- Create a join between `df` and `walk_df` that only matches on longitude\n",
    "- Count the number of records with `count()`: few_keys_df and `correct_join_df`. You should notice that there are many more values as we have not constrained our matching correctly."
   ]
  },
  {
   "cell_type": "code",
   "execution_count": 50,
   "id": "8b397574",
   "metadata": {},
   "outputs": [],
   "source": [
    "#This cell should be used to create the right condition df and the origial df"
   ]
  },
  {
   "cell_type": "code",
   "execution_count": 51,
   "id": "ab2f1ac3",
   "metadata": {},
   "outputs": [
    {
     "data": {
      "text/plain": [
       "'\\n# Join on mismatched keys precision \\nwrong_prec_cond = [df_orig[\\'longitude\\'] == walk_df[\\'longitude\\'], df_orig[\\'latitude\\'] == walk_df[\\'latitude\\']]\\nwrong_prec_df = df_orig.join(walk_df, on=wrong_prec_cond, how=\\'left\\')\\n\\n# Compare bad join to the correct one\\nprint(wrong_prec_df.where(wrong_prec_df[\\'walkscore\\'].isNull()).count())\\nprint(correct_join_df.where(correct_join_df[\\'walkscore\\'].isNull()).count())\\n\\n# Create a join on too few keys\\nfew_keys_cond = [df[\\'longitude\\'] == walk_df[\\'longitude\\']]\\nfew_keys_df = df.join(walk_df, on=few_keys_cond, how=\\'left\\')\\n\\n# Compare bad join to the correct one\\nprint(\"Record Count of the Too Few Keys Join Example: \" + str(few_keys_df.count()))\\nprint(\"Record Count of the Correct Join Example: \" + str(correct_join_df.count()))\\n'"
      ]
     },
     "execution_count": 51,
     "metadata": {},
     "output_type": "execute_result"
    }
   ],
   "source": [
    "'''\n",
    "# Join on mismatched keys precision \n",
    "wrong_prec_cond = [df_orig['longitude'] == walk_df['longitude'], df_orig['latitude'] == walk_df['latitude']]\n",
    "wrong_prec_df = df_orig.join(walk_df, on=wrong_prec_cond, how='left')\n",
    "\n",
    "# Compare bad join to the correct one\n",
    "print(wrong_prec_df.where(wrong_prec_df['walkscore'].isNull()).count())\n",
    "print(correct_join_df.where(correct_join_df['walkscore'].isNull()).count())\n",
    "\n",
    "# Create a join on too few keys\n",
    "few_keys_cond = [df['longitude'] == walk_df['longitude']]\n",
    "few_keys_df = df.join(walk_df, on=few_keys_cond, how='left')\n",
    "\n",
    "# Compare bad join to the correct one\n",
    "print(\"Record Count of the Too Few Keys Join Example: \" + str(few_keys_df.count()))\n",
    "print(\"Record Count of the Correct Join Example: \" + str(correct_join_df.count()))\n",
    "'''"
   ]
  },
  {
   "cell_type": "markdown",
   "id": "e77630d2",
   "metadata": {},
   "source": [
    "# Feature Engineering"
   ]
  },
  {
   "cell_type": "markdown",
   "id": "21cc1a83",
   "metadata": {},
   "source": [
    "## Feature Generation\n",
    "1. Feature Generation\n",
    "\n",
    "In this video, we will learn a lot about the nuts and bolts of feature engineering. Just because it's called 'machine learning' doesn't mean that it can figure everything out on its own. So we will use some tricks to help it out by creating new features that will better capture patterns in the data. This video will cover feature generation and show you how using the new features can improve a model.\n",
    "\n",
    "2. Why generate new features?\n",
    "\n",
    "Why generate new features if the information is already available in the dataset? Combining features together can capture subtle dependent effects between them that impact the outcome variable. These can be represented by multiplying, summing, differencing or dividing two or more variables.\n",
    "\n",
    "3. Why generate new features?\n",
    "\n",
    "To see the impact of generating these features let's suppose you have two attributes, length, and width and the price of single story home. If these are your only two features how can you best create a model to predict price? They certainly don't look to be very strong features as is.\n",
    "\n",
    "4. Combining Two Features\n",
    "\n",
    "Taking the previous example a step further we can think about how a person might buy a home. If we use some intuition that people often consider the area of a home, we can create a new feature, Total Square Footage by multiplying the width and length. The results are much better with an R-squared of point-81! Applying your reasoning and understanding of the problem can help you build powerful predictors.\n",
    "\n",
    "5. Other Ways to Combine Two Features\n",
    "\n",
    "Our dataset doesn't include WIDTH and LENGTH because no one would ever actually look for a house that way. However, we don't have Total Square Footage calculated but we can create it using withColumn and by adding SQFTBELOWGROUND and SQFTABOVEGROUND together. We can build another feature, PRICEPERTSQFT using our previous feature TSQFT. This is now the combination of three independent variables. There isn't a limit to how deep you can go but interpretability of what it means starts to become difficult after three. We can create DAYSONMARKET as a difference between LISTDATE and OFFMARKETDATE. We will cover how to get LISTDATE and OFFMARKETDATE into the datetime format in the next section but for now, know that new features can be generated many ways!\n",
    "\n",
    "6. What's the limit?\n",
    "\n",
    "There is a major push in the data science community to automate some of the generation of features. If this is of interest to you, I'd recommend you check out the Python libraries FeatureTools and TSFresh. I will caution you that simply multiplying each feature pairwise will square your number of features. This can cause an explosion of features that can be unwieldy to model or could potentially overfit your model by pure coincidence. Many of the features may convey similar information and won't be needed Lastly, there is no limit to how many features you can combine but the interpretability certainly takes a steep dive after three. Beyond this is the realm of deep feature generation, a topic for another course!\n",
    "\n",
    "7. Go forth and combine!\n",
    "\n",
    "In this video, you learned that you can generate new powerful features to represent complex relations between them. Lastly, you saw that features combinations are everywhere and many are already in our dataset. It's your turn to take what you learned to build and evaluate new features generated from what's available!"
   ]
  },
  {
   "cell_type": "markdown",
   "id": "70315a4c",
   "metadata": {},
   "source": [
    "### Differences\n",
    "Let's explore generating features using existing ones. In the midwest of the U.S. many single family homes have extra land around them for green space. In this example you will create a new feature called `'YARD_SIZE'`, and then see if the new feature is correlated with our outcome variable.\n",
    "\n",
    "**Instructions**\n",
    "\n",
    "- Create a new column using `withColumn()` called `LOT_SIZE_SQFT` and convert `ACRES` to square feet by multiplying by `acres_to_sqfeet` the conversion factor.\n",
    "- Create another new column called `YARD_SIZE` by subtracting `FOUNDATIONSIZE` from `LOT_SIZE_SQFT`.\n",
    "- Run `corr()` on each of the independent variables `YARD_SIZE`, `FOUNDATIONSIZE`, `LOT_SIZE_SQFT` against the dependent variable `SALESCLOSEPRICE`. Does new feature show a stronger correlation than either of its components?"
   ]
  },
  {
   "cell_type": "code",
   "execution_count": 52,
   "id": "336f2d9a",
   "metadata": {},
   "outputs": [],
   "source": [
    "from pyspark.sql.functions import corr"
   ]
  },
  {
   "cell_type": "code",
   "execution_count": 53,
   "id": "a599736b",
   "metadata": {},
   "outputs": [
    {
     "name": "stdout",
     "output_type": "stream",
     "text": [
      "Corr of ACRES vs SALESCLOSEPRICE: 0.210707856427045\n",
      "Corr of FOUNDATIONSIZE vs SALESCLOSEPRICE: 0.5940326167154751\n",
      "Corr of YARD_SIZE vs SALESCLOSEPRICE: 0.1980334672592903\n"
     ]
    }
   ],
   "source": [
    "# Lot size in square feet\n",
    "acres_to_sqfeet = 43560\n",
    "df = df.withColumn('LOT_SIZE_SQFT', df['ACRES'] * acres_to_sqfeet)\n",
    "\n",
    "# Create new column YARD_SIZE\n",
    "df = df.withColumn('YARD_SIZE', df['LOT_SIZE_SQFT'] - df['FOUNDATIONSIZE'])\n",
    "\n",
    "# Corr of ACRES vs SALESCLOSEPRICE\n",
    "print(\"Corr of ACRES vs SALESCLOSEPRICE: \" + str(df.corr('ACRES', 'SALESCLOSEPRICE')))\n",
    "# Corr of FOUNDATIONSIZE vs SALESCLOSEPRICE\n",
    "print(\"Corr of FOUNDATIONSIZE vs SALESCLOSEPRICE: \" + str(df.corr('FOUNDATIONSIZE', 'SALESCLOSEPRICE')))\n",
    "# Corr of YARD_SIZE vs SALESCLOSEPRICE\n",
    "print(\"Corr of YARD_SIZE vs SALESCLOSEPRICE: \" + str(df.corr('YARD_SIZE', 'SALESCLOSEPRICE')))"
   ]
  },
  {
   "cell_type": "markdown",
   "id": "3968f3f6",
   "metadata": {},
   "source": [
    "### Ratios\n",
    "Ratios are all around us. Whether it's miles per gallon or click through rate, they are everywhere. In this exercise, we'll create some ratios by dividing out pairs of columns.\n",
    "\n",
    "**Instructions**\n",
    "\n",
    "- Create a new variable `ASSESSED_TO_LIST` by dividing `ASSESSEDVALUATION` by `LISTPRICE` to help us understand if the having a high or low assessment value impacts our price.\n",
    "- Create another new variable `TAX_TO_LIST` to help us understand the approximate tax rate by dividing `TAXES` by `LISTPRICE`.\n",
    "- Lastly create another variable `BED_TO_BATHS` to help us know how crowded our bathrooms might be by dividing `BEDROOMS` by `BATHSTOTAL`."
   ]
  },
  {
   "cell_type": "code",
   "execution_count": 54,
   "id": "2ed52068",
   "metadata": {},
   "outputs": [
    {
     "name": "stdout",
     "output_type": "stream",
     "text": [
      "+-----------------+---------+----------------+\n",
      "|ASSESSEDVALUATION|LISTPRICE|ASSESSED_TO_LIST|\n",
      "+-----------------+---------+----------------+\n",
      "|              0.0|   139900|             0.0|\n",
      "|              0.0|   210000|             0.0|\n",
      "|              0.0|   225000|             0.0|\n",
      "|              0.0|   230000|             0.0|\n",
      "|              0.0|   239900|             0.0|\n",
      "+-----------------+---------+----------------+\n",
      "only showing top 5 rows\n",
      "\n",
      "+--------------------+-----+---------+\n",
      "|         TAX_TO_LIST|TAXES|LISTPRICE|\n",
      "+--------------------+-----+---------+\n",
      "|0.013280914939242315| 1858|   139900|\n",
      "| 0.00780952380952381| 1640|   210000|\n",
      "|0.010622222222222222| 2390|   225000|\n",
      "|0.009330434782608695| 2146|   230000|\n",
      "|0.008378491037932471| 2010|   239900|\n",
      "+--------------------+-----+---------+\n",
      "only showing top 5 rows\n",
      "\n",
      "+------------------+--------+----------+\n",
      "|      BED_TO_BATHS|BEDROOMS|BATHSTOTAL|\n",
      "+------------------+--------+----------+\n",
      "|               1.5|       3|         2|\n",
      "|1.3333333333333333|       4|         3|\n",
      "|               2.0|       2|         1|\n",
      "|               1.0|       2|         2|\n",
      "|               1.5|       3|         2|\n",
      "+------------------+--------+----------+\n",
      "only showing top 5 rows\n",
      "\n"
     ]
    }
   ],
   "source": [
    "# ASSESSED_TO_LIST\n",
    "df = df.withColumn('ASSESSED_TO_LIST', df['ASSESSEDVALUATION'] / df['LISTPRICE'])\n",
    "df[['ASSESSEDVALUATION', 'LISTPRICE', 'ASSESSED_TO_LIST']].show(5)\n",
    "# TAX_TO_LIST\n",
    "df = df.withColumn('TAX_TO_LIST', df['TAXES'] / df['LISTPRICE'])\n",
    "df[['TAX_TO_LIST', 'TAXES', 'LISTPRICE']].show(5)\n",
    "# BED_TO_BATHS\n",
    "df = df.withColumn('BED_TO_BATHS', df['BEDROOMS'] / df['BATHSTOTAL'])\n",
    "df[['BED_TO_BATHS', 'BEDROOMS', 'BATHSTOTAL']].show(5)"
   ]
  },
  {
   "cell_type": "markdown",
   "id": "15bdb2c2",
   "metadata": {},
   "source": [
    "### Deeper Features\n",
    "In previous exercises we showed how combining two features together can create good additional features for a predictive model. In this exercise, you will generate `'deeper'` features by combining the effects of three variables into one. Then you will check to see if deeper and more complicated features always make for better predictors.\n",
    "\n",
    "**Instructions**\n",
    "\n",
    "- Create a new feature by adding `SQFTBELOWGROUND` and `SQFTABOVEGROUND` and creating a new column `Total_SQFT`\n",
    "- Using `Total_SQFT`, create yet another feature called `BATHS_PER_1000SQFT` with `BATHSTOTAL`. Be sure to scale `Total_SQFT` to 1000's\n",
    "- Use `describe()` to inspect the new min, max and mean of our newest feature `BATHS_PER_1000SQFT`. Notice anything strange?\n",
    "- Create two `jointplots()`s with `Total_SQFT` and `BATHS_PER_1000SQFT` as the $x$ values and `SALESCLOSEPRICE` as the $y$ value to see which has the better $R^2$ ($R ** 2$) fit. Does this more complicated feature have a stronger relationship with `SALESCLOSEPRICE`?"
   ]
  },
  {
   "cell_type": "code",
   "execution_count": 55,
   "id": "95d942a3",
   "metadata": {},
   "outputs": [],
   "source": [
    "#!pip3 install scipy sklearn \n",
    "#!pip install -U scikit-learn scipy matplotlib"
   ]
  },
  {
   "cell_type": "code",
   "execution_count": 56,
   "id": "19e3f037",
   "metadata": {},
   "outputs": [],
   "source": [
    "#import scipy.stats as stats\n",
    "from sklearn.metrics import r2_score as r2"
   ]
  },
  {
   "cell_type": "code",
   "execution_count": 57,
   "id": "799e6088",
   "metadata": {},
   "outputs": [],
   "source": [
    "from warnings import filterwarnings\n",
    "filterwarnings('ignore')"
   ]
  },
  {
   "cell_type": "code",
   "execution_count": 58,
   "id": "8ae52537",
   "metadata": {},
   "outputs": [
    {
     "name": "stdout",
     "output_type": "stream",
     "text": [
      "+-------+------------------+\n",
      "|summary|   SALESCLOSEPRICE|\n",
      "+-------+------------------+\n",
      "|  count|              4968|\n",
      "|   mean|258700.73953301128|\n",
      "| stddev| 124174.5222219254|\n",
      "|    min|             61000|\n",
      "|    max|            905000|\n",
      "+-------+------------------+\n",
      "\n"
     ]
    }
   ],
   "source": [
    "df[['SALESCLOSEPRICE']].describe().show()"
   ]
  },
  {
   "cell_type": "code",
   "execution_count": 59,
   "id": "acf2c67a",
   "metadata": {
    "scrolled": false
   },
   "outputs": [
    {
     "name": "stdout",
     "output_type": "stream",
     "text": [
      "+-------+-------------------+\n",
      "|summary| BATHS_PER_1000SQFT|\n",
      "+-------+-------------------+\n",
      "|  count|               4968|\n",
      "|   mean| 1.4327927279152162|\n",
      "| stddev| 14.174291725012424|\n",
      "|    min|0.39123630672926446|\n",
      "|    max|             1000.0|\n",
      "+-------+-------------------+\n",
      "\n"
     ]
    },
    {
     "data": {
      "image/png": "[encoded data removed]",
      "text/plain": [
       "<Figure size 600x600 with 3 Axes>"
      ]
     },
     "metadata": {},
     "output_type": "display_data"
    },
    {
     "data": {
      "image/png": "[encoded data removed]",
      "text/plain": [
       "<Figure size 600x600 with 3 Axes>"
      ]
     },
     "metadata": {},
     "output_type": "display_data"
    }
   ],
   "source": [
    "# Create new feature by adding two features together\n",
    "df = df.withColumn('Total_SQFT', df['SQFTBELOWGROUND'] + df['SQFTABOVEGROUND'])\n",
    "\n",
    "# Create additional new feature using previously created feature\n",
    "df = df.withColumn('BATHS_PER_1000SQFT', df['BATHSTOTAL'] / (df['Total_SQFT'] / 1000))\n",
    "df[['BATHS_PER_1000SQFT']].describe().show()\n",
    "\n",
    "# Sample and create pandas dataframe\n",
    "pandas_df = df[['Total_SQFT','BATHS_PER_1000SQFT', 'SALESCLOSEPRICE']].sample(False, 0.5, 0).toPandas()\n",
    "\n",
    "# Linear model plots\n",
    "sns.jointplot(x='Total_SQFT', y='SALESCLOSEPRICE', data=pandas_df, kind=\"reg\")#, stat_func=r2)\n",
    "plt.show()\n",
    "sns.jointplot(x='BATHS_PER_1000SQFT', y='SALESCLOSEPRICE', data=pandas_df, kind=\"reg\")#, stat_func=r2)\n",
    "plt.show()"
   ]
  },
  {
   "cell_type": "markdown",
   "id": "8cb93dd1",
   "metadata": {},
   "source": [
    "## Time Features\n",
    "1. Time Features\n",
    "\n",
    "In this video, we will talk about using Time in our models since it isn't as easy as throwing it into our model as a continuous variable.\n",
    "\n",
    "2. The Cyclical Nature of Things\n",
    "\n",
    "Things repeat; each day has a noon, each week as a Monday and each year has a January. We want to help our model by building features that help it associate cyclical events with changes in our outcome variable. Such as summer having a higher volume of homes sold than in winter.\n",
    "\n",
    "3. Choosing the Right Level\n",
    "\n",
    "Building the RIGHT time features is important. The high variation in the daily number of homes sold makes this pattern hard for us to see and the model to understand.\n",
    "\n",
    "4. Choosing the Right Level\n",
    "\n",
    "If we change the aggregation to look at grouping by month we can see the pattern much more clearly. Choosing the right level to build out time-related features is important as too granular and they are too noisy for our model, too broad and our model misses trends.\n",
    "\n",
    "5. Treating Date Fields as Dates...\n",
    "\n",
    "To work with dates we need them to be of Spark date type. We can do the conversion with the to_date function that takes a single column. If you wish to keep the time component use to_timestamp instead.\n",
    "\n",
    "6. Time Components\n",
    "\n",
    "With our data typed correctly, we can use build-ins to get various time components. One popular way to handle dates is to convert them into ordinal features like year or month using the functions year and month respectively. We can also extract more complicated things like day number in the month with dayofmonth or the week number in the year with weekofyear to further build out our features. Many more functions can be found in the pyspark sql functions docs online.\n",
    "\n",
    "7. Basic Time Based Metrics\n",
    "\n",
    "One simple time-based metric is the number of days a property remains in unsold from the date it was listed. Days on Market is an important feature to buyers. They may perceive that a house that has been on the market for a while has something wrong with it or that the seller may be more willing to give them a discount. We can create this metric by applying the datediff function to OFFMARKETDATE and LISTDATE columns.\n",
    "\n",
    "8. Lagging Features\n",
    "\n",
    "Lagging Time Features is a very common approach to add propagation time for a variable's effect to impact the outcome variable. This is similar to how a drop creates waves that take time to hit the edge of a glass. To capture this, we will shift values forwards or backward until the timings line up. To create a lagged feature we will need a few new functions. First the window function. window allows you to return a value for each record based on some calculation against a group of records such as rank or moving average. The second function is lag a window function that returns the value that is offset by rows before the current row. It takes a dataframe column as an input. Count is how many periods you wish to lag. Let's see it in action.\n",
    "\n",
    "9. Lagging Features, the PySpark Way\n",
    "\n",
    "For this example, we will look at lagging weekly Mortgage rates as it often takes time for people to adjust the price of their homes. To begin we will need to import our new functions. Then we create our window which will group things by our ordered DATE column, making the window weekly. Once that is done we can create a new column using the lag function, telling it to lag MORTGAGE-30-US rate by one period. The over function takes the window w so that lag knows how to compare the current record.\n",
    "\n",
    "10. It's TIME to practice!\n",
    "\n",
    "Now it's your turn to create some of your own time-related features with built-in datetime functions as well as more complex ones using the window function."
   ]
  },
  {
   "cell_type": "markdown",
   "id": "7dba187c",
   "metadata": {},
   "source": [
    "### Time Components\n",
    "Being able to work with time components for building features is important but you can also use them to explore and understand your data further. In this exercise, you'll be looking to see if there is a pattern to which day of the week a house lists on. Please keep in mind that PySpark's week starts on Sunday, with a value of 1 and ends on Saturday, a value of 7.\n",
    "\n",
    "**Instructions**\n",
    "\n",
    "- Import `to_date()` and `dayofweek()` functions from `pyspark.sql.functions`\n",
    "- Use the `to_date()` function to convert `LISTDATE` to a Spark date type, save the converted column in place using `withColumn()`\n",
    "- Create a new column using `LISTDATE` and `dayofweek()` then save it as `List_Day_of_Week` using `withColumn()`\n",
    "- Sample half the dataframe and convert it to a pandas dataframe with `toPandas()` and plot the count of the pandas dataframe's `List_Day_of_Week` column by using seaborn `countplot()` where `x` = `List_Day_of_Week`."
   ]
  },
  {
   "cell_type": "code",
   "execution_count": 60,
   "id": "bb1b0f63",
   "metadata": {
    "scrolled": true
   },
   "outputs": [
    {
     "name": "stdout",
     "output_type": "stream",
     "text": [
      "+--------------+\n",
      "|      LISTDATE|\n",
      "+--------------+\n",
      "|7/15/2017 0:00|\n",
      "|10/9/2017 0:00|\n",
      "|6/26/2017 0:00|\n",
      "|8/25/2017 0:00|\n",
      "|9/12/2017 0:00|\n",
      "+--------------+\n",
      "only showing top 5 rows\n",
      "\n"
     ]
    }
   ],
   "source": [
    "df[['LISTDATE']].show(5)"
   ]
  },
  {
   "cell_type": "code",
   "execution_count": 61,
   "id": "11164dc0",
   "metadata": {
    "scrolled": false
   },
   "outputs": [
    {
     "data": {
      "image/png": "[encoded data removed]",
      "text/plain": [
       "<Figure size 640x480 with 1 Axes>"
      ]
     },
     "metadata": {},
     "output_type": "display_data"
    }
   ],
   "source": [
    "# Import needed functions\n",
    "from pyspark.sql.functions import to_date, dayofweek\n",
    "\n",
    "# Convert to date type\n",
    "df = df.withColumn('List_date', to_date(df['LISTDATE'], 'M/d/yyyy H:mm'))\n",
    "\n",
    "# Get the day of the week\n",
    "df = df.withColumn('List_Day_of_Week', dayofweek(df['List_date']))\n",
    "\n",
    "# Sample and convert to pandas dataframe\n",
    "sample_df = df[['List_Day_of_Week']].sample(False, 0.5, 42).toPandas()\n",
    "\n",
    "# Plot count plot of of day of week\n",
    "sns.countplot(x=\"List_Day_of_Week\", data=sample_df)\n",
    "plt.show()"
   ]
  },
  {
   "cell_type": "code",
   "execution_count": 62,
   "id": "132ab094",
   "metadata": {
    "scrolled": false
   },
   "outputs": [
    {
     "name": "stdout",
     "output_type": "stream",
     "text": [
      "+--------------+----------+----------------+\n",
      "|      LISTDATE| List_date|List_Day_of_Week|\n",
      "+--------------+----------+----------------+\n",
      "|7/15/2017 0:00|2017-07-15|               7|\n",
      "|10/9/2017 0:00|2017-10-09|               2|\n",
      "|6/26/2017 0:00|2017-06-26|               2|\n",
      "|8/25/2017 0:00|2017-08-25|               6|\n",
      "|9/12/2017 0:00|2017-09-12|               3|\n",
      "+--------------+----------+----------------+\n",
      "only showing top 5 rows\n",
      "\n"
     ]
    }
   ],
   "source": [
    "df[['LISTDATE','List_date','List_Day_of_Week']].show(5)"
   ]
  },
  {
   "cell_type": "markdown",
   "id": "ea672c2e",
   "metadata": {},
   "source": [
    "### Joining On Time Components\n",
    "Often times you will use date components to join in other sets of information. However, in this example, we need to use data that would have been available to those considering buying a house. This means we will need to use the previous year's reporting data for our analysis.\n",
    "\n",
    "**Instructions**\n",
    "\n",
    "- Extract the year from `LISTDATE` using `year()` and put it into a new column called `list_year` with `withColumn()`\n",
    "- Create another new column called `report_year` by subtracting 1 from the `list_year`\n",
    "- Create a join condition that matches `df['CITY']` with `price_df['City']` and `df['report_year']` with `price_df['Year']`\n",
    "- Perform a left join between `df` and `price_df`"
   ]
  },
  {
   "cell_type": "code",
   "execution_count": 63,
   "id": "99c94a55",
   "metadata": {},
   "outputs": [
    {
     "data": {
      "text/plain": [
       "\"\\nfrom pyspark.sql.functions import year\\n\\n# Initialize dataframes\\ndf = real_estate_df\\nprice_df = median_prices_df\\n\\n# Create year column\\ndf = df.withColumn('list_year', year('LISTDATE'))\\n\\n# Adjust year to match\\ndf = df.withColumn('report_year', (df['list_year'] - 1))\\n\\n# Create join condition\\ncondition = [df['CITY'] == price_df['City'], df['report_year'] == price_df['Year']]\\n\\n# Join the dataframes together\\ndf = df.join(price_df, on=condition, how='left')\\n# Inspect that new columns are available\\ndf[['MedianHomeValue']].show()\\n\""
      ]
     },
     "execution_count": 63,
     "metadata": {},
     "output_type": "execute_result"
    }
   ],
   "source": [
    "'''\n",
    "from pyspark.sql.functions import year\n",
    "\n",
    "# Initialize dataframes\n",
    "df = real_estate_df\n",
    "price_df = median_prices_df\n",
    "\n",
    "# Create year column\n",
    "df = df.withColumn('list_year', year('LISTDATE'))\n",
    "\n",
    "# Adjust year to match\n",
    "df = df.withColumn('report_year', (df['list_year'] - 1))\n",
    "\n",
    "# Create join condition\n",
    "condition = [df['CITY'] == price_df['City'], df['report_year'] == price_df['Year']]\n",
    "\n",
    "# Join the dataframes together\n",
    "df = df.join(price_df, on=condition, how='left')\n",
    "# Inspect that new columns are available\n",
    "df[['MedianHomeValue']].show()\n",
    "'''"
   ]
  },
  {
   "cell_type": "markdown",
   "id": "8932cbc7",
   "metadata": {},
   "source": [
    "### Date Math\n",
    "In this example, we'll look at verifying the frequency of our data. The Mortgage dataset is supposed to have weekly data but let's make sure by lagging the report date and then taking the difference of the dates.\n",
    "\n",
    "Recall that to create a lagged feature we will need to create a `window()`. `window()` allows you to return a value for each record based off some calculation against a group of records, in this case, the previous period's mortgage rate.\n",
    "\n",
    "**Instructions**\n",
    "\n",
    "- Cast `mort_df['DATE']` to date type with `to_date()`\n",
    "- Create a window with the `Window()` function and use `orderBy()` to sort by `mort_df[DATE]`\n",
    "- Create a new column `DATE-1` using `withColumn()` by lagging the DATE column with `lag()` and window it using `over(w)`\n",
    "- Calculate the difference between `DATE` and `DATE-1` using `datediff()` and name it `Days_Between_Report`"
   ]
  },
  {
   "cell_type": "code",
   "execution_count": 64,
   "id": "f0505620",
   "metadata": {},
   "outputs": [
    {
     "data": {
      "text/plain": [
       "\"\\nfrom pyspark.sql.functions import lag, datediff, to_date\\nfrom pyspark.sql.window import Window\\n\\n# Cast data type\\nmort_df = mort_df.withColumn('DATE', to_date(mort_df['DATE']))\\n\\n# Create window\\nw = Window().orderBy(mort_df['DATE'])\\n# Create lag column\\nmort_df = mort_df.withColumn('DATE-1', lag(mort_df['DATE'], count=1).over(w))\\n\\n# Calculate difference between date columns\\nmort_df = mort_df.withColumn('Days_Between_Report', datediff(mort_df['DATE'], mort_df['DATE-1']))\\n# Print results\\nmort_df.select('Days_Between_Report').distinct().show()\\n\""
      ]
     },
     "execution_count": 64,
     "metadata": {},
     "output_type": "execute_result"
    }
   ],
   "source": [
    "'''\n",
    "from pyspark.sql.functions import lag, datediff, to_date\n",
    "from pyspark.sql.window import Window\n",
    "\n",
    "# Cast data type\n",
    "mort_df = mort_df.withColumn('DATE', to_date(mort_df['DATE']))\n",
    "\n",
    "# Create window\n",
    "w = Window().orderBy(mort_df['DATE'])\n",
    "# Create lag column\n",
    "mort_df = mort_df.withColumn('DATE-1', lag(mort_df['DATE'], count=1).over(w))\n",
    "\n",
    "# Calculate difference between date columns\n",
    "mort_df = mort_df.withColumn('Days_Between_Report', datediff(mort_df['DATE'], mort_df['DATE-1']))\n",
    "# Print results\n",
    "mort_df.select('Days_Between_Report').distinct().show()\n",
    "'''"
   ]
  },
  {
   "cell_type": "markdown",
   "id": "f08ed0b5",
   "metadata": {},
   "source": [
    "## Extracting Features\n",
    "1. Extracting Features\n",
    "\n",
    "Datasets frequently have rich features trapped in messy combination fields, lists or even free-form text. In this video, we'll go over how to wrangle columns into useful information for machine learning.\n",
    "\n",
    "2. Extracting Age with Text Match\n",
    "\n",
    "We can see that within this ROOF column there are many useful features. For instance, an old roof is very expensive to replace and knowing that might impact the price of the house. The age in this dataset is either over 8 years or less. This would be better as a boolean variable, 1 or 0, something that we can calculate on.\n",
    "\n",
    "3. Extracting Age with Text Match\n",
    "\n",
    "To create the boolean column we will use the when function to create an if-then. The when function evaluates a boolean condition and does something. In this case our boolean conditions are find_over_8 and find_under_8 which use the like function to return true/false depending on if string is found. You might notice we use percent sign before and after the string we are looking for. These are wildcards that allow any number of characters before or after the string. Now that we have these conditions created we can put them in the when function. When find_over_8 is true, assign the value 1, when find_under_8 is true assign 0. If neither is true, the otherwise function allows us to assign None so they are null. We can see that the roof age has now been created into a new boolean variable!\n",
    "\n",
    "4. Splitting Columns\n",
    "\n",
    "Let's look at the ROOF column again. You'll notice that if there is a value in ROOF it seems to be a list starting with the type of materials it was made out of. If we know the pattern we can split this into its own column called Roof Material.\n",
    "\n",
    "5. Splitting Columns\n",
    "\n",
    "To split a column we need to introduce a new function from the pyspark sql functions module, split, which takes a column to split and a character to split on. In our example, we will split on df ROOF and use the comma as the delimiter between values. Once we have that created we can use our familiar withColumn to create a new column from the first value with split_col get Item zero. get Item zero takes the 0 index position of the split column and returns the value. Here we can verify that our code performed as expected, splitting the ROOF column and putting the first value into a new column Roof_Material.\n",
    "\n",
    "6. Explode!\n",
    "\n",
    "What if the order of the listed values in a column is not guaranteed and we want to extract out the values to their own columns? To do this is a two-step process. The first step is called 'exploding'. Changing a compound field so that each value has a separate record, with everything else repeated.\n",
    "\n",
    "7. Pivot!\n",
    "\n",
    "The second step is to pivot those repeated fields into columns. You'll notice we now have columns for each POSSIBLE value in the compound field we started with.\n",
    "\n",
    "8. Explode & Pivot!\n",
    "\n",
    "To do this in PySpark we have to import several functions: split, explode, lit, coalesce and first. Then we need to split our ROOF column into an array column. Now we can explode roof_list to create a new record for each value. Next we'll create a constant column to help our pivot. The pivot function will groupBy our record id number so that only one row is returned for pivoting ex_roof_list. Since pivot is an aggregate function we will use our constant_val column with coalesce to ignore nulls and first to take the first value.\n",
    "\n",
    "9. Let's wrangle some features!\n",
    "\n",
    "In this video, we learned how to salvage some messy fields into machine learnable features. Now it's your turn to wrangle some features on your own!"
   ]
  },
  {
   "cell_type": "markdown",
   "id": "1c6b46b2",
   "metadata": {},
   "source": [
    "### Extracting Text to New Features\n",
    "Garages are an important consideration for houses in Minnesota where most people own a car and the snow is annoying to clear off a car parked outside. The type of garage is also important, can you get to your car without braving the cold or not? Let's look at creating a feature `has_attached_garage` that captures whether the garage is attached to the house or not.\n",
    "\n",
    "**Instructions**\n",
    "\n",
    "- Import the needed function `when()` from `pyspark.sql.functions`.\n",
    "- Create a string matching condition using `like()` to look for for the string pattern Attached Garage in `df['GARAGEDESCRIPTION']` and use wildcards `%` so it will match anywhere in the field.\n",
    "- Similarly, create another condition using `like()` to find the string pattern Detached Garage in `df['GARAGEDESCRIPTION']` and use wildcards `%` so it will match anywhere in the field.\n",
    "- Create a new column `has_attached_garage` using `when()` to assign the value 1 if it has an attached garage, zero if detached and use `otherwise()` to assign null with `None` if it is neither."
   ]
  },
  {
   "cell_type": "code",
   "execution_count": 66,
   "id": "ab6ccb73",
   "metadata": {},
   "outputs": [
    {
     "name": "stdout",
     "output_type": "stream",
     "text": [
      "+------------------------------------------------------------------+-------------------+\n",
      "|                                                 GARAGEDESCRIPTION|has_attached_garage|\n",
      "+------------------------------------------------------------------+-------------------+\n",
      "|                                                   Attached Garage|                  1|\n",
      "|           Attached Garage, Driveway - Asphalt, Garage Door Opener|                  1|\n",
      "|                                                   Attached Garage|                  1|\n",
      "|    Attached Garage, Detached Garage, Tuckunder, Driveway - Gravel|                  1|\n",
      "|           Attached Garage, Driveway - Asphalt, Garage Door Opener|                  1|\n",
      "|                               Attached Garage, Driveway - Asphalt|                  1|\n",
      "|           Attached Garage, Driveway - Asphalt, Garage Door Opener|                  1|\n",
      "|                                                   Attached Garage|                  1|\n",
      "|                                                   Attached Garage|                  1|\n",
      "|                                                   Attached Garage|                  1|\n",
      "|                                                   Attached Garage|                  1|\n",
      "|                                                   Attached Garage|                  1|\n",
      "|                                                   Attached Garage|                  1|\n",
      "|           Attached Garage, Driveway - Asphalt, Garage Door Opener|                  1|\n",
      "|Attached Garage, Tuckunder, Driveway - Asphalt, Garage Door Opener|                  1|\n",
      "|           Attached Garage, Driveway - Asphalt, Garage Door Opener|                  1|\n",
      "|           Attached Garage, Driveway - Asphalt, Garage Door Opener|                  1|\n",
      "|           Attached Garage, Driveway - Asphalt, Garage Door Opener|                  1|\n",
      "|           Attached Garage, Driveway - Asphalt, Garage Door Opener|                  1|\n",
      "|           Attached Garage, Driveway - Asphalt, Garage Door Opener|                  1|\n",
      "+------------------------------------------------------------------+-------------------+\n",
      "only showing top 20 rows\n",
      "\n"
     ]
    }
   ],
   "source": [
    "# Import needed functions\n",
    "from pyspark.sql.functions import when\n",
    "\n",
    "# Create boolean conditions for string matches\n",
    "has_attached_garage = df['GARAGEDESCRIPTION'].like('%Attached Garage%')\n",
    "has_detached_garage = df['GARAGEDESCRIPTION'].like('%Detached Garage%')\n",
    "\n",
    "# Conditional value assignment \n",
    "df = df.withColumn('has_attached_garage', (when(has_attached_garage, 1)\n",
    "                                          .when(has_detached_garage, 0)\n",
    "                                          .otherwise(None)))\n",
    "\n",
    "# Inspect results\n",
    "df[['GARAGEDESCRIPTION', 'has_attached_garage']].show(truncate=100)"
   ]
  },
  {
   "cell_type": "markdown",
   "id": "28f57158",
   "metadata": {},
   "source": [
    "### Splitting & Exploding\n",
    "Being able to take a compound field like `GARAGEDESCRIPTION` and massaging it into something useful is an involved process. It's helpful to understand early what value you might gain out of expanding it. In this example, we will convert our string to a list-like array, explode it and then inspect the unique values.\n",
    "\n",
    "**Instructions**\n",
    "\n",
    "+ Import the needed functions `split()` and `explode()` from `pyspark.sql.functions`\n",
    "- Use `split()` to create a new column `garage_list` by splitting `df['GARAGEDESCRIPTION']` on `', '` which is both a comma and a space.\n",
    "- Create a new record for each value in the `df['garage_list']` using `explode()` and assign it a new column `ex_garage_list`\n",
    "- Use `distinct()` to get unique values of `ex_garage_list` and `show` the 100 first rows, truncating them at 50 characters to display the values."
   ]
  },
  {
   "cell_type": "code",
   "execution_count": 67,
   "id": "ed85fd8b",
   "metadata": {},
   "outputs": [
    {
     "name": "stdout",
     "output_type": "stream",
     "text": [
      "+----------------------------+\n",
      "|              ex_garage_list|\n",
      "+----------------------------+\n",
      "|             Attached Garage|\n",
      "|      On-Street Parking Only|\n",
      "|                        None|\n",
      "| More Parking Onsite for Fee|\n",
      "|          Garage Door Opener|\n",
      "|   No Int Access to Dwelling|\n",
      "|           Driveway - Gravel|\n",
      "|       Valet Parking for Fee|\n",
      "|              Uncovered/Open|\n",
      "|               Heated Garage|\n",
      "|          Underground Garage|\n",
      "|                       Other|\n",
      "|                  Unassigned|\n",
      "|More Parking Offsite for Fee|\n",
      "|    Driveway - Other Surface|\n",
      "|       Contract Pkg Required|\n",
      "|                     Carport|\n",
      "|                     Secured|\n",
      "|             Detached Garage|\n",
      "|          Driveway - Asphalt|\n",
      "|                  Units Vary|\n",
      "|                    Assigned|\n",
      "|                   Tuckunder|\n",
      "|                     Covered|\n",
      "|            Insulated Garage|\n",
      "|         Driveway - Concrete|\n",
      "|                      Tandem|\n",
      "|           Driveway - Shared|\n",
      "+----------------------------+\n",
      "\n"
     ]
    }
   ],
   "source": [
    "# Import needed functions\n",
    "from pyspark.sql.functions import split, explode\n",
    "\n",
    "# Convert string to list-like array\n",
    "df = df.withColumn('garage_list', split(df['GARAGEDESCRIPTION'], ', '))\n",
    "\n",
    "# Explode the values into new records\n",
    "ex_df = df.withColumn('ex_garage_list', explode(df['garage_list']))\n",
    "\n",
    "# Inspect the values\n",
    "ex_df[['ex_garage_list']].distinct().show(100, truncate=50)"
   ]
  },
  {
   "cell_type": "markdown",
   "id": "179aaae5",
   "metadata": {},
   "source": [
    "### Lets descover what happened in each step"
   ]
  },
  {
   "cell_type": "code",
   "execution_count": 71,
   "id": "1906ddf5",
   "metadata": {
    "scrolled": true
   },
   "outputs": [
    {
     "name": "stdout",
     "output_type": "stream",
     "text": [
      "+--------------------------------------------------------------+\n",
      "|                                             GARAGEDESCRIPTION|\n",
      "+--------------------------------------------------------------+\n",
      "|                                               Attached Garage|\n",
      "|       Attached Garage, Driveway - Asphalt, Garage Door Opener|\n",
      "|                                               Attached Garage|\n",
      "|Attached Garage, Detached Garage, Tuckunder, Driveway - Gravel|\n",
      "|       Attached Garage, Driveway - Asphalt, Garage Door Opener|\n",
      "|                           Attached Garage, Driveway - Asphalt|\n",
      "|       Attached Garage, Driveway - Asphalt, Garage Door Opener|\n",
      "|                                               Attached Garage|\n",
      "|                                               Attached Garage|\n",
      "|                                               Attached Garage|\n",
      "+--------------------------------------------------------------+\n",
      "only showing top 10 rows\n",
      "\n"
     ]
    }
   ],
   "source": [
    "df[['GARAGEDESCRIPTION']].show(10,truncate=200)"
   ]
  },
  {
   "cell_type": "code",
   "execution_count": 72,
   "id": "86dd7852",
   "metadata": {},
   "outputs": [
    {
     "name": "stdout",
     "output_type": "stream",
     "text": [
      "+----------------------------------------------------------------+\n",
      "|                                                     garage_list|\n",
      "+----------------------------------------------------------------+\n",
      "|                                               [Attached Garage]|\n",
      "|       [Attached Garage, Driveway - Asphalt, Garage Door Opener]|\n",
      "|                                               [Attached Garage]|\n",
      "|[Attached Garage, Detached Garage, Tuckunder, Driveway - Gravel]|\n",
      "|       [Attached Garage, Driveway - Asphalt, Garage Door Opener]|\n",
      "|                           [Attached Garage, Driveway - Asphalt]|\n",
      "|       [Attached Garage, Driveway - Asphalt, Garage Door Opener]|\n",
      "|                                               [Attached Garage]|\n",
      "|                                               [Attached Garage]|\n",
      "|                                               [Attached Garage]|\n",
      "+----------------------------------------------------------------+\n",
      "only showing top 10 rows\n",
      "\n"
     ]
    }
   ],
   "source": [
    "df[[\"garage_list\"]].show(10,truncate=200)"
   ]
  },
  {
   "cell_type": "code",
   "execution_count": 73,
   "id": "23020574",
   "metadata": {},
   "outputs": [
    {
     "name": "stdout",
     "output_type": "stream",
     "text": [
      "+------------------+\n",
      "|    ex_garage_list|\n",
      "+------------------+\n",
      "|   Attached Garage|\n",
      "|   Attached Garage|\n",
      "|Driveway - Asphalt|\n",
      "|Garage Door Opener|\n",
      "|   Attached Garage|\n",
      "|   Attached Garage|\n",
      "|   Detached Garage|\n",
      "|         Tuckunder|\n",
      "| Driveway - Gravel|\n",
      "|   Attached Garage|\n",
      "+------------------+\n",
      "only showing top 10 rows\n",
      "\n"
     ]
    }
   ],
   "source": [
    "ex_df[['ex_garage_list']].show(10,truncate=200)"
   ]
  },
  {
   "cell_type": "markdown",
   "id": "b6e2579f",
   "metadata": {},
   "source": [
    "**It seems that `explode()` is Unpivotting the list** "
   ]
  },
  {
   "cell_type": "markdown",
   "id": "5f8ad751",
   "metadata": {},
   "source": [
    "### Pivot & Join\n",
    "Being able to explode and pivot a compound field is great, but you are left with a dataframe of only those pivoted values. To really be valuable you'll need to rejoin it to the original dataset! After joining the datasets we will have a lot of NULL values for the newly created columns since we know the context of how they were created we can safely fill them in with zero as either the new has an attribute or it doesn't.\n",
    "\n",
    "**Instructions**\n",
    "\n",
    "- Pivot the values of `ex_garage_list` by grouping by the record id `NO` with `groupBy()` use the provided code to aggregate `constant_val` to ignore nulls and take the first value.\n",
    "- Left join `piv_df` to df using `NO` as the join condition.\n",
    "- Create the list of columns, `zfill_cols`, to zero fill by using the columns attribute on `piv_df`\n",
    "- Zero fill the pivoted dataframes columns, `zfill_cols`, by using `fillna()` with a subset.\n"
   ]
  },
  {
   "cell_type": "markdown",
   "id": "6105a1f3",
   "metadata": {},
   "source": [
    "#### Prepare the DF by adding the constant_val of 1 to pivot with"
   ]
  },
  {
   "cell_type": "code",
   "execution_count": 81,
   "id": "cd6c827f",
   "metadata": {
    "scrolled": true
   },
   "outputs": [
    {
     "data": {
      "text/plain": [
       "['No',\n",
       " 'MLSID',\n",
       " 'StreetNumberNumeric',\n",
       " 'streetaddress',\n",
       " 'STREETNAME',\n",
       " 'PostalCode',\n",
       " 'StateOrProvince',\n",
       " 'City',\n",
       " 'SalesClosePrice',\n",
       " 'LISTDATE',\n",
       " 'LISTPRICE',\n",
       " 'LISTTYPE',\n",
       " 'OriginalListPrice',\n",
       " 'PricePerTSFT',\n",
       " 'FOUNDATIONSIZE',\n",
       " 'FENCE',\n",
       " 'MapLetter',\n",
       " 'LotSizeDimensions',\n",
       " 'SchoolDistrictNumber',\n",
       " 'DAYSONMARKET',\n",
       " 'offmarketdate',\n",
       " 'Fireplaces',\n",
       " 'RoomArea4',\n",
       " 'roomtype',\n",
       " 'ROOF',\n",
       " 'RoomFloor4',\n",
       " 'PotentialShortSale',\n",
       " 'PDOM',\n",
       " 'GarageDescription',\n",
       " 'SQFTABOVEGROUND',\n",
       " 'Taxes',\n",
       " 'RoomFloor1',\n",
       " 'RoomArea1',\n",
       " 'TAXWITHASSESSMENTS',\n",
       " 'TAXYEAR',\n",
       " 'LivingArea',\n",
       " 'YEARBUILT',\n",
       " 'ZONING',\n",
       " 'STYLE',\n",
       " 'ACRES',\n",
       " 'CoolingDescription',\n",
       " 'APPLIANCES',\n",
       " 'ROOMFAMILYCHAR',\n",
       " 'RoomArea3',\n",
       " 'EXTERIOR',\n",
       " 'RoomFloor3',\n",
       " 'RoomFloor2',\n",
       " 'RoomArea2',\n",
       " 'DiningRoomDescription',\n",
       " 'BASEMENT',\n",
       " 'BathsFull',\n",
       " 'BathsHalf',\n",
       " 'BATHQUARTER',\n",
       " 'BATHSTHREEQUARTER',\n",
       " 'Class',\n",
       " 'BATHSTOTAL',\n",
       " 'BATHDESC',\n",
       " 'RoomArea5',\n",
       " 'RoomFloor5',\n",
       " 'RoomArea6',\n",
       " 'RoomFloor6',\n",
       " 'RoomArea7',\n",
       " 'RoomFloor7',\n",
       " 'Bedrooms',\n",
       " 'SQFTBELOWGROUND',\n",
       " 'AssociationFee',\n",
       " 'ASSESSMENTPENDING',\n",
       " 'AssessedValuation',\n",
       " 'log_SalesClosePrice',\n",
       " 'percentage_scaled_days',\n",
       " 'scaled_FOUNDATIONSIZE',\n",
       " 'scaled_DAYSONMARKET',\n",
       " 'scaled_FIREPLACES',\n",
       " 'Reflect_YearBuilt',\n",
       " 'adj_yearbuilt',\n",
       " 'LOT_SIZE_SQFT',\n",
       " 'YARD_SIZE',\n",
       " 'ASSESSED_TO_LIST',\n",
       " 'TAX_TO_LIST',\n",
       " 'BED_TO_BATHS',\n",
       " 'Total_SQFT',\n",
       " 'BATHS_PER_1000SQFT',\n",
       " 'List_date',\n",
       " 'List_Day_of_Week',\n",
       " 'has_attached_garage',\n",
       " 'garage_list',\n",
       " 'ex_garage_list',\n",
       " 'constant_val']"
      ]
     },
     "execution_count": 81,
     "metadata": {},
     "output_type": "execute_result"
    }
   ],
   "source": [
    "from pyspark.sql.functions import lit\n",
    "ex_df = ex_df.withColumn('constant_val', lit(1))\n",
    "ex_df.columns"
   ]
  },
  {
   "cell_type": "code",
   "execution_count": 82,
   "id": "6449e72d",
   "metadata": {},
   "outputs": [
    {
     "name": "stdout",
     "output_type": "stream",
     "text": [
      "+---+------------------+------------+\n",
      "| No|    ex_garage_list|constant_val|\n",
      "+---+------------------+------------+\n",
      "|  1|   Attached Garage|           1|\n",
      "|  2|   Attached Garage|           1|\n",
      "|  2|Driveway - Asphalt|           1|\n",
      "|  2|Garage Door Opener|           1|\n",
      "|  3|   Attached Garage|           1|\n",
      "|  4|   Attached Garage|           1|\n",
      "|  4|   Detached Garage|           1|\n",
      "|  4|         Tuckunder|           1|\n",
      "|  4| Driveway - Gravel|           1|\n",
      "|  5|   Attached Garage|           1|\n",
      "+---+------------------+------------+\n",
      "only showing top 10 rows\n",
      "\n"
     ]
    }
   ],
   "source": [
    "ex_df[['No','ex_garage_list','constant_val']].show(10, truncate = 50)"
   ]
  },
  {
   "cell_type": "code",
   "execution_count": 83,
   "id": "77913cfd",
   "metadata": {},
   "outputs": [],
   "source": [
    "from pyspark.sql.functions import coalesce, first\n",
    "\n",
    "# Pivot \n",
    "piv_df = ex_df.groupBy('No').pivot('ex_garage_list').agg(coalesce(first('constant_val')))\n",
    "\n",
    "# Join the dataframes together and fill null\n",
    "joined_df = df.join(piv_df, on='No', how='left')\n",
    "\n",
    "# Columns to zero fill\n",
    "zfill_cols = piv_df.columns\n",
    "\n",
    "# Zero fill the pivoted values\n",
    "zfilled_df = joined_df.fillna(0, subset=zfill_cols)"
   ]
  },
  {
   "cell_type": "markdown",
   "id": "2f8f2962",
   "metadata": {},
   "source": [
    "#### Let's check what happened step-by-step"
   ]
  },
  {
   "cell_type": "code",
   "execution_count": 86,
   "id": "8c9b4ebe",
   "metadata": {
    "scrolled": true
   },
   "outputs": [
    {
     "data": {
      "text/plain": [
       "['No',\n",
       " 'Assigned',\n",
       " 'Attached Garage',\n",
       " 'Carport',\n",
       " 'Contract Pkg Required',\n",
       " 'Covered',\n",
       " 'Detached Garage',\n",
       " 'Driveway - Asphalt',\n",
       " 'Driveway - Concrete',\n",
       " 'Driveway - Gravel',\n",
       " 'Driveway - Other Surface',\n",
       " 'Driveway - Shared',\n",
       " 'Garage Door Opener',\n",
       " 'Heated Garage',\n",
       " 'Insulated Garage',\n",
       " 'More Parking Offsite for Fee',\n",
       " 'More Parking Onsite for Fee',\n",
       " 'No Int Access to Dwelling',\n",
       " 'None',\n",
       " 'On-Street Parking Only',\n",
       " 'Other',\n",
       " 'Secured',\n",
       " 'Tandem',\n",
       " 'Tuckunder',\n",
       " 'Unassigned',\n",
       " 'Uncovered/Open',\n",
       " 'Underground Garage',\n",
       " 'Units Vary',\n",
       " 'Valet Parking for Fee']"
      ]
     },
     "execution_count": 86,
     "metadata": {},
     "output_type": "execute_result"
    }
   ],
   "source": [
    "piv_df.columns"
   ]
  },
  {
   "cell_type": "code",
   "execution_count": 87,
   "id": "3b42bf01",
   "metadata": {
    "scrolled": true
   },
   "outputs": [
    {
     "name": "stdout",
     "output_type": "stream",
     "text": [
      "+----+--------+---------------+-------+---------------------+-------+---------------+------------------+-------------------+-----------------+------------------------+-----------------+------------------+-------------+----------------+----------------------------+---------------------------+-------------------------+----+----------------------+-----+-------+------+---------+----------+--------------+------------------+----------+---------------------+\n",
      "|  No|Assigned|Attached Garage|Carport|Contract Pkg Required|Covered|Detached Garage|Driveway - Asphalt|Driveway - Concrete|Driveway - Gravel|Driveway - Other Surface|Driveway - Shared|Garage Door Opener|Heated Garage|Insulated Garage|More Parking Offsite for Fee|More Parking Onsite for Fee|No Int Access to Dwelling|None|On-Street Parking Only|Other|Secured|Tandem|Tuckunder|Unassigned|Uncovered/Open|Underground Garage|Units Vary|Valet Parking for Fee|\n",
      "+----+--------+---------------+-------+---------------------+-------+---------------+------------------+-------------------+-----------------+------------------------+-----------------+------------------+-------------+----------------+----------------------------+---------------------------+-------------------------+----+----------------------+-----+-------+------+---------+----------+--------------+------------------+----------+---------------------+\n",
      "|3918|    null|              1|   null|                 null|   null|           null|                 1|               null|             null|                    null|             null|                 1|         null|               1|                        null|                       null|                     null|null|                  null| null|   null|  null|     null|      null|          null|              null|      null|                 null|\n",
      "|4519|    null|              1|   null|                 null|   null|           null|                 1|               null|             null|                    null|             null|                 1|         null|               1|                        null|                       null|                     null|null|                  null| null|   null|  null|     null|      null|          null|              null|      null|                 null|\n",
      "|1238|    null|           null|   null|                 null|   null|              1|              null|               null|             null|                    null|             null|              null|         null|            null|                        null|                       null|                     null|null|                  null| null|   null|  null|     null|      null|          null|              null|      null|                 null|\n",
      "|1580|    null|           null|   null|                 null|   null|              1|              null|               null|                1|                    null|             null|              null|         null|            null|                        null|                       null|                     null|null|                  null| null|   null|  null|     null|      null|             1|              null|      null|                 null|\n",
      "| 148|    null|              1|   null|                 null|   null|           null|                 1|               null|             null|                    null|             null|                 1|            1|               1|                        null|                       null|                     null|null|                  null| null|   null|  null|     null|      null|          null|              null|      null|                 null|\n",
      "+----+--------+---------------+-------+---------------------+-------+---------------+------------------+-------------------+-----------------+------------------------+-----------------+------------------+-------------+----------------+----------------------------+---------------------------+-------------------------+----+----------------------+-----+-------+------+---------+----------+--------------+------------------+----------+---------------------+\n",
      "only showing top 5 rows\n",
      "\n"
     ]
    }
   ],
   "source": [
    "piv_df.show(5,truncate = 10)"
   ]
  },
  {
   "cell_type": "markdown",
   "id": "482a0831",
   "metadata": {},
   "source": [
    "#### Not clear, let's check it as a pandas DF"
   ]
  },
  {
   "cell_type": "code",
   "execution_count": 88,
   "id": "cd5ba7aa",
   "metadata": {},
   "outputs": [
    {
     "data": {
      "text/html": [
       "<div>\n",
       "<style scoped>\n",
       "    .dataframe tbody tr th:only-of-type {\n",
       "        vertical-align: middle;\n",
       "    }\n",
       "\n",
       "    .dataframe tbody tr th {\n",
       "        vertical-align: top;\n",
       "    }\n",
       "\n",
       "    .dataframe thead th {\n",
       "        text-align: right;\n",
       "    }\n",
       "</style>\n",
       "<table border=\"1\" class=\"dataframe\">\n",
       "  <thead>\n",
       "    <tr style=\"text-align: right;\">\n",
       "      <th></th>\n",
       "      <th>No</th>\n",
       "      <th>Assigned</th>\n",
       "      <th>Attached Garage</th>\n",
       "      <th>Carport</th>\n",
       "      <th>Contract Pkg Required</th>\n",
       "      <th>Covered</th>\n",
       "      <th>Detached Garage</th>\n",
       "      <th>Driveway - Asphalt</th>\n",
       "      <th>Driveway - Concrete</th>\n",
       "      <th>Driveway - Gravel</th>\n",
       "      <th>...</th>\n",
       "      <th>On-Street Parking Only</th>\n",
       "      <th>Other</th>\n",
       "      <th>Secured</th>\n",
       "      <th>Tandem</th>\n",
       "      <th>Tuckunder</th>\n",
       "      <th>Unassigned</th>\n",
       "      <th>Uncovered/Open</th>\n",
       "      <th>Underground Garage</th>\n",
       "      <th>Units Vary</th>\n",
       "      <th>Valet Parking for Fee</th>\n",
       "    </tr>\n",
       "  </thead>\n",
       "  <tbody>\n",
       "    <tr>\n",
       "      <th>0</th>\n",
       "      <td>3918</td>\n",
       "      <td>NaN</td>\n",
       "      <td>1.0</td>\n",
       "      <td>NaN</td>\n",
       "      <td>NaN</td>\n",
       "      <td>NaN</td>\n",
       "      <td>NaN</td>\n",
       "      <td>1.0</td>\n",
       "      <td>NaN</td>\n",
       "      <td>NaN</td>\n",
       "      <td>...</td>\n",
       "      <td>NaN</td>\n",
       "      <td>NaN</td>\n",
       "      <td>NaN</td>\n",
       "      <td>NaN</td>\n",
       "      <td>NaN</td>\n",
       "      <td>NaN</td>\n",
       "      <td>NaN</td>\n",
       "      <td>NaN</td>\n",
       "      <td>NaN</td>\n",
       "      <td>NaN</td>\n",
       "    </tr>\n",
       "    <tr>\n",
       "      <th>1</th>\n",
       "      <td>4519</td>\n",
       "      <td>NaN</td>\n",
       "      <td>1.0</td>\n",
       "      <td>NaN</td>\n",
       "      <td>NaN</td>\n",
       "      <td>NaN</td>\n",
       "      <td>NaN</td>\n",
       "      <td>1.0</td>\n",
       "      <td>NaN</td>\n",
       "      <td>NaN</td>\n",
       "      <td>...</td>\n",
       "      <td>NaN</td>\n",
       "      <td>NaN</td>\n",
       "      <td>NaN</td>\n",
       "      <td>NaN</td>\n",
       "      <td>NaN</td>\n",
       "      <td>NaN</td>\n",
       "      <td>NaN</td>\n",
       "      <td>NaN</td>\n",
       "      <td>NaN</td>\n",
       "      <td>NaN</td>\n",
       "    </tr>\n",
       "    <tr>\n",
       "      <th>2</th>\n",
       "      <td>1238</td>\n",
       "      <td>NaN</td>\n",
       "      <td>NaN</td>\n",
       "      <td>NaN</td>\n",
       "      <td>NaN</td>\n",
       "      <td>NaN</td>\n",
       "      <td>1.0</td>\n",
       "      <td>NaN</td>\n",
       "      <td>NaN</td>\n",
       "      <td>NaN</td>\n",
       "      <td>...</td>\n",
       "      <td>NaN</td>\n",
       "      <td>NaN</td>\n",
       "      <td>NaN</td>\n",
       "      <td>NaN</td>\n",
       "      <td>NaN</td>\n",
       "      <td>NaN</td>\n",
       "      <td>NaN</td>\n",
       "      <td>NaN</td>\n",
       "      <td>NaN</td>\n",
       "      <td>NaN</td>\n",
       "    </tr>\n",
       "    <tr>\n",
       "      <th>3</th>\n",
       "      <td>1580</td>\n",
       "      <td>NaN</td>\n",
       "      <td>NaN</td>\n",
       "      <td>NaN</td>\n",
       "      <td>NaN</td>\n",
       "      <td>NaN</td>\n",
       "      <td>1.0</td>\n",
       "      <td>NaN</td>\n",
       "      <td>NaN</td>\n",
       "      <td>1.0</td>\n",
       "      <td>...</td>\n",
       "      <td>NaN</td>\n",
       "      <td>NaN</td>\n",
       "      <td>NaN</td>\n",
       "      <td>NaN</td>\n",
       "      <td>NaN</td>\n",
       "      <td>NaN</td>\n",
       "      <td>1.0</td>\n",
       "      <td>NaN</td>\n",
       "      <td>NaN</td>\n",
       "      <td>NaN</td>\n",
       "    </tr>\n",
       "    <tr>\n",
       "      <th>4</th>\n",
       "      <td>148</td>\n",
       "      <td>NaN</td>\n",
       "      <td>1.0</td>\n",
       "      <td>NaN</td>\n",
       "      <td>NaN</td>\n",
       "      <td>NaN</td>\n",
       "      <td>NaN</td>\n",
       "      <td>1.0</td>\n",
       "      <td>NaN</td>\n",
       "      <td>NaN</td>\n",
       "      <td>...</td>\n",
       "      <td>NaN</td>\n",
       "      <td>NaN</td>\n",
       "      <td>NaN</td>\n",
       "      <td>NaN</td>\n",
       "      <td>NaN</td>\n",
       "      <td>NaN</td>\n",
       "      <td>NaN</td>\n",
       "      <td>NaN</td>\n",
       "      <td>NaN</td>\n",
       "      <td>NaN</td>\n",
       "    </tr>\n",
       "    <tr>\n",
       "      <th>5</th>\n",
       "      <td>2659</td>\n",
       "      <td>NaN</td>\n",
       "      <td>NaN</td>\n",
       "      <td>1.0</td>\n",
       "      <td>NaN</td>\n",
       "      <td>NaN</td>\n",
       "      <td>1.0</td>\n",
       "      <td>1.0</td>\n",
       "      <td>1.0</td>\n",
       "      <td>NaN</td>\n",
       "      <td>...</td>\n",
       "      <td>NaN</td>\n",
       "      <td>NaN</td>\n",
       "      <td>NaN</td>\n",
       "      <td>NaN</td>\n",
       "      <td>NaN</td>\n",
       "      <td>NaN</td>\n",
       "      <td>NaN</td>\n",
       "      <td>NaN</td>\n",
       "      <td>NaN</td>\n",
       "      <td>NaN</td>\n",
       "    </tr>\n",
       "    <tr>\n",
       "      <th>6</th>\n",
       "      <td>3794</td>\n",
       "      <td>1.0</td>\n",
       "      <td>NaN</td>\n",
       "      <td>NaN</td>\n",
       "      <td>NaN</td>\n",
       "      <td>NaN</td>\n",
       "      <td>1.0</td>\n",
       "      <td>NaN</td>\n",
       "      <td>NaN</td>\n",
       "      <td>NaN</td>\n",
       "      <td>...</td>\n",
       "      <td>NaN</td>\n",
       "      <td>1.0</td>\n",
       "      <td>1.0</td>\n",
       "      <td>NaN</td>\n",
       "      <td>NaN</td>\n",
       "      <td>NaN</td>\n",
       "      <td>NaN</td>\n",
       "      <td>NaN</td>\n",
       "      <td>NaN</td>\n",
       "      <td>NaN</td>\n",
       "    </tr>\n",
       "    <tr>\n",
       "      <th>7</th>\n",
       "      <td>4101</td>\n",
       "      <td>NaN</td>\n",
       "      <td>NaN</td>\n",
       "      <td>NaN</td>\n",
       "      <td>NaN</td>\n",
       "      <td>NaN</td>\n",
       "      <td>NaN</td>\n",
       "      <td>NaN</td>\n",
       "      <td>NaN</td>\n",
       "      <td>NaN</td>\n",
       "      <td>...</td>\n",
       "      <td>NaN</td>\n",
       "      <td>NaN</td>\n",
       "      <td>NaN</td>\n",
       "      <td>NaN</td>\n",
       "      <td>1.0</td>\n",
       "      <td>NaN</td>\n",
       "      <td>NaN</td>\n",
       "      <td>NaN</td>\n",
       "      <td>NaN</td>\n",
       "      <td>NaN</td>\n",
       "    </tr>\n",
       "    <tr>\n",
       "      <th>8</th>\n",
       "      <td>1959</td>\n",
       "      <td>NaN</td>\n",
       "      <td>NaN</td>\n",
       "      <td>NaN</td>\n",
       "      <td>NaN</td>\n",
       "      <td>NaN</td>\n",
       "      <td>NaN</td>\n",
       "      <td>1.0</td>\n",
       "      <td>NaN</td>\n",
       "      <td>NaN</td>\n",
       "      <td>...</td>\n",
       "      <td>NaN</td>\n",
       "      <td>1.0</td>\n",
       "      <td>NaN</td>\n",
       "      <td>NaN</td>\n",
       "      <td>NaN</td>\n",
       "      <td>NaN</td>\n",
       "      <td>NaN</td>\n",
       "      <td>NaN</td>\n",
       "      <td>NaN</td>\n",
       "      <td>NaN</td>\n",
       "    </tr>\n",
       "    <tr>\n",
       "      <th>9</th>\n",
       "      <td>463</td>\n",
       "      <td>NaN</td>\n",
       "      <td>1.0</td>\n",
       "      <td>NaN</td>\n",
       "      <td>NaN</td>\n",
       "      <td>NaN</td>\n",
       "      <td>NaN</td>\n",
       "      <td>1.0</td>\n",
       "      <td>NaN</td>\n",
       "      <td>NaN</td>\n",
       "      <td>...</td>\n",
       "      <td>NaN</td>\n",
       "      <td>NaN</td>\n",
       "      <td>NaN</td>\n",
       "      <td>NaN</td>\n",
       "      <td>1.0</td>\n",
       "      <td>NaN</td>\n",
       "      <td>NaN</td>\n",
       "      <td>NaN</td>\n",
       "      <td>NaN</td>\n",
       "      <td>NaN</td>\n",
       "    </tr>\n",
       "  </tbody>\n",
       "</table>\n",
       "<p>10 rows × 29 columns</p>\n",
       "</div>"
      ],
      "text/plain": [
       "     No  Assigned  Attached Garage  Carport  Contract Pkg Required  Covered  \\\n",
       "0  3918       NaN              1.0      NaN                    NaN      NaN   \n",
       "1  4519       NaN              1.0      NaN                    NaN      NaN   \n",
       "2  1238       NaN              NaN      NaN                    NaN      NaN   \n",
       "3  1580       NaN              NaN      NaN                    NaN      NaN   \n",
       "4   148       NaN              1.0      NaN                    NaN      NaN   \n",
       "5  2659       NaN              NaN      1.0                    NaN      NaN   \n",
       "6  3794       1.0              NaN      NaN                    NaN      NaN   \n",
       "7  4101       NaN              NaN      NaN                    NaN      NaN   \n",
       "8  1959       NaN              NaN      NaN                    NaN      NaN   \n",
       "9   463       NaN              1.0      NaN                    NaN      NaN   \n",
       "\n",
       "   Detached Garage  Driveway - Asphalt  Driveway - Concrete  \\\n",
       "0              NaN                 1.0                  NaN   \n",
       "1              NaN                 1.0                  NaN   \n",
       "2              1.0                 NaN                  NaN   \n",
       "3              1.0                 NaN                  NaN   \n",
       "4              NaN                 1.0                  NaN   \n",
       "5              1.0                 1.0                  1.0   \n",
       "6              1.0                 NaN                  NaN   \n",
       "7              NaN                 NaN                  NaN   \n",
       "8              NaN                 1.0                  NaN   \n",
       "9              NaN                 1.0                  NaN   \n",
       "\n",
       "   Driveway - Gravel  ...  On-Street Parking Only  Other  Secured  Tandem  \\\n",
       "0                NaN  ...                     NaN    NaN      NaN     NaN   \n",
       "1                NaN  ...                     NaN    NaN      NaN     NaN   \n",
       "2                NaN  ...                     NaN    NaN      NaN     NaN   \n",
       "3                1.0  ...                     NaN    NaN      NaN     NaN   \n",
       "4                NaN  ...                     NaN    NaN      NaN     NaN   \n",
       "5                NaN  ...                     NaN    NaN      NaN     NaN   \n",
       "6                NaN  ...                     NaN    1.0      1.0     NaN   \n",
       "7                NaN  ...                     NaN    NaN      NaN     NaN   \n",
       "8                NaN  ...                     NaN    1.0      NaN     NaN   \n",
       "9                NaN  ...                     NaN    NaN      NaN     NaN   \n",
       "\n",
       "   Tuckunder  Unassigned  Uncovered/Open  Underground Garage  Units Vary  \\\n",
       "0        NaN         NaN             NaN                 NaN         NaN   \n",
       "1        NaN         NaN             NaN                 NaN         NaN   \n",
       "2        NaN         NaN             NaN                 NaN         NaN   \n",
       "3        NaN         NaN             1.0                 NaN         NaN   \n",
       "4        NaN         NaN             NaN                 NaN         NaN   \n",
       "5        NaN         NaN             NaN                 NaN         NaN   \n",
       "6        NaN         NaN             NaN                 NaN         NaN   \n",
       "7        1.0         NaN             NaN                 NaN         NaN   \n",
       "8        NaN         NaN             NaN                 NaN         NaN   \n",
       "9        1.0         NaN             NaN                 NaN         NaN   \n",
       "\n",
       "   Valet Parking for Fee  \n",
       "0                    NaN  \n",
       "1                    NaN  \n",
       "2                    NaN  \n",
       "3                    NaN  \n",
       "4                    NaN  \n",
       "5                    NaN  \n",
       "6                    NaN  \n",
       "7                    NaN  \n",
       "8                    NaN  \n",
       "9                    NaN  \n",
       "\n",
       "[10 rows x 29 columns]"
      ]
     },
     "execution_count": 88,
     "metadata": {},
     "output_type": "execute_result"
    }
   ],
   "source": [
    "piv_df.toPandas().head(10)"
   ]
  },
  {
   "cell_type": "code",
   "execution_count": 89,
   "id": "295c6ffe",
   "metadata": {
    "scrolled": true
   },
   "outputs": [
    {
     "name": "stderr",
     "output_type": "stream",
     "text": [
      "                                                                                \r"
     ]
    },
    {
     "data": {
      "text/html": [
       "<div>\n",
       "<style scoped>\n",
       "    .dataframe tbody tr th:only-of-type {\n",
       "        vertical-align: middle;\n",
       "    }\n",
       "\n",
       "    .dataframe tbody tr th {\n",
       "        vertical-align: top;\n",
       "    }\n",
       "\n",
       "    .dataframe thead th {\n",
       "        text-align: right;\n",
       "    }\n",
       "</style>\n",
       "<table border=\"1\" class=\"dataframe\">\n",
       "  <thead>\n",
       "    <tr style=\"text-align: right;\">\n",
       "      <th></th>\n",
       "      <th>No</th>\n",
       "      <th>MLSID</th>\n",
       "      <th>StreetNumberNumeric</th>\n",
       "      <th>streetaddress</th>\n",
       "      <th>STREETNAME</th>\n",
       "      <th>PostalCode</th>\n",
       "      <th>StateOrProvince</th>\n",
       "      <th>City</th>\n",
       "      <th>SalesClosePrice</th>\n",
       "      <th>LISTDATE</th>\n",
       "      <th>...</th>\n",
       "      <th>On-Street Parking Only</th>\n",
       "      <th>Other</th>\n",
       "      <th>Secured</th>\n",
       "      <th>Tandem</th>\n",
       "      <th>Tuckunder</th>\n",
       "      <th>Unassigned</th>\n",
       "      <th>Uncovered/Open</th>\n",
       "      <th>Underground Garage</th>\n",
       "      <th>Units Vary</th>\n",
       "      <th>Valet Parking for Fee</th>\n",
       "    </tr>\n",
       "  </thead>\n",
       "  <tbody>\n",
       "    <tr>\n",
       "      <th>0</th>\n",
       "      <td>1</td>\n",
       "      <td>RMLS</td>\n",
       "      <td>11511</td>\n",
       "      <td>11511 Stillwater Blvd N</td>\n",
       "      <td>Stillwater</td>\n",
       "      <td>55042</td>\n",
       "      <td>MN</td>\n",
       "      <td>LELM - Lake Elmo</td>\n",
       "      <td>143000</td>\n",
       "      <td>7/15/2017 0:00</td>\n",
       "      <td>...</td>\n",
       "      <td>NaN</td>\n",
       "      <td>NaN</td>\n",
       "      <td>NaN</td>\n",
       "      <td>NaN</td>\n",
       "      <td>NaN</td>\n",
       "      <td>NaN</td>\n",
       "      <td>NaN</td>\n",
       "      <td>NaN</td>\n",
       "      <td>NaN</td>\n",
       "      <td>NaN</td>\n",
       "    </tr>\n",
       "    <tr>\n",
       "      <th>1</th>\n",
       "      <td>2</td>\n",
       "      <td>RMLS</td>\n",
       "      <td>11200</td>\n",
       "      <td>11200 31st St N</td>\n",
       "      <td>31st</td>\n",
       "      <td>55042</td>\n",
       "      <td>MN</td>\n",
       "      <td>LELM - Lake Elmo</td>\n",
       "      <td>190000</td>\n",
       "      <td>10/9/2017 0:00</td>\n",
       "      <td>...</td>\n",
       "      <td>NaN</td>\n",
       "      <td>NaN</td>\n",
       "      <td>NaN</td>\n",
       "      <td>NaN</td>\n",
       "      <td>NaN</td>\n",
       "      <td>NaN</td>\n",
       "      <td>NaN</td>\n",
       "      <td>NaN</td>\n",
       "      <td>NaN</td>\n",
       "      <td>NaN</td>\n",
       "    </tr>\n",
       "    <tr>\n",
       "      <th>2</th>\n",
       "      <td>3</td>\n",
       "      <td>RMLS</td>\n",
       "      <td>8583</td>\n",
       "      <td>8583 Stillwater Blvd N</td>\n",
       "      <td>Stillwater</td>\n",
       "      <td>55042</td>\n",
       "      <td>MN</td>\n",
       "      <td>LELM - Lake Elmo</td>\n",
       "      <td>225000</td>\n",
       "      <td>6/26/2017 0:00</td>\n",
       "      <td>...</td>\n",
       "      <td>NaN</td>\n",
       "      <td>NaN</td>\n",
       "      <td>NaN</td>\n",
       "      <td>NaN</td>\n",
       "      <td>NaN</td>\n",
       "      <td>NaN</td>\n",
       "      <td>NaN</td>\n",
       "      <td>NaN</td>\n",
       "      <td>NaN</td>\n",
       "      <td>NaN</td>\n",
       "    </tr>\n",
       "    <tr>\n",
       "      <th>3</th>\n",
       "      <td>4</td>\n",
       "      <td>RMLS</td>\n",
       "      <td>9350</td>\n",
       "      <td>9350 31st St N</td>\n",
       "      <td>31st</td>\n",
       "      <td>55042</td>\n",
       "      <td>MN</td>\n",
       "      <td>LELM - Lake Elmo</td>\n",
       "      <td>265000</td>\n",
       "      <td>8/25/2017 0:00</td>\n",
       "      <td>...</td>\n",
       "      <td>NaN</td>\n",
       "      <td>NaN</td>\n",
       "      <td>NaN</td>\n",
       "      <td>NaN</td>\n",
       "      <td>1.0</td>\n",
       "      <td>NaN</td>\n",
       "      <td>NaN</td>\n",
       "      <td>NaN</td>\n",
       "      <td>NaN</td>\n",
       "      <td>NaN</td>\n",
       "    </tr>\n",
       "    <tr>\n",
       "      <th>4</th>\n",
       "      <td>5</td>\n",
       "      <td>RMLS</td>\n",
       "      <td>2915</td>\n",
       "      <td>2915 Inwood Ave N</td>\n",
       "      <td>Inwood</td>\n",
       "      <td>55042</td>\n",
       "      <td>MN</td>\n",
       "      <td>LELM - Lake Elmo</td>\n",
       "      <td>249900</td>\n",
       "      <td>9/12/2017 0:00</td>\n",
       "      <td>...</td>\n",
       "      <td>NaN</td>\n",
       "      <td>NaN</td>\n",
       "      <td>NaN</td>\n",
       "      <td>NaN</td>\n",
       "      <td>NaN</td>\n",
       "      <td>NaN</td>\n",
       "      <td>NaN</td>\n",
       "      <td>NaN</td>\n",
       "      <td>NaN</td>\n",
       "      <td>NaN</td>\n",
       "    </tr>\n",
       "    <tr>\n",
       "      <th>5</th>\n",
       "      <td>6</td>\n",
       "      <td>RMLS</td>\n",
       "      <td>3604</td>\n",
       "      <td>3604 Layton Ave N</td>\n",
       "      <td>Layton</td>\n",
       "      <td>55042</td>\n",
       "      <td>MN</td>\n",
       "      <td>LELM - Lake Elmo</td>\n",
       "      <td>255000</td>\n",
       "      <td>4/10/2017 0:00</td>\n",
       "      <td>...</td>\n",
       "      <td>NaN</td>\n",
       "      <td>NaN</td>\n",
       "      <td>NaN</td>\n",
       "      <td>NaN</td>\n",
       "      <td>NaN</td>\n",
       "      <td>NaN</td>\n",
       "      <td>NaN</td>\n",
       "      <td>NaN</td>\n",
       "      <td>NaN</td>\n",
       "      <td>NaN</td>\n",
       "    </tr>\n",
       "    <tr>\n",
       "      <th>6</th>\n",
       "      <td>7</td>\n",
       "      <td>RMLS</td>\n",
       "      <td>9957</td>\n",
       "      <td>9957 5th Street Ln N</td>\n",
       "      <td>5th Street</td>\n",
       "      <td>55042</td>\n",
       "      <td>MN</td>\n",
       "      <td>LELM - Lake Elmo</td>\n",
       "      <td>248000</td>\n",
       "      <td>6/8/2017 0:00</td>\n",
       "      <td>...</td>\n",
       "      <td>NaN</td>\n",
       "      <td>NaN</td>\n",
       "      <td>NaN</td>\n",
       "      <td>NaN</td>\n",
       "      <td>NaN</td>\n",
       "      <td>NaN</td>\n",
       "      <td>NaN</td>\n",
       "      <td>NaN</td>\n",
       "      <td>NaN</td>\n",
       "      <td>NaN</td>\n",
       "    </tr>\n",
       "    <tr>\n",
       "      <th>7</th>\n",
       "      <td>8</td>\n",
       "      <td>RMLS</td>\n",
       "      <td>9934</td>\n",
       "      <td>9934 5th Street Ln N</td>\n",
       "      <td>5th Street</td>\n",
       "      <td>55042</td>\n",
       "      <td>MN</td>\n",
       "      <td>LELM - Lake Elmo</td>\n",
       "      <td>245000</td>\n",
       "      <td>11/5/2017 0:00</td>\n",
       "      <td>...</td>\n",
       "      <td>NaN</td>\n",
       "      <td>NaN</td>\n",
       "      <td>NaN</td>\n",
       "      <td>NaN</td>\n",
       "      <td>NaN</td>\n",
       "      <td>NaN</td>\n",
       "      <td>NaN</td>\n",
       "      <td>NaN</td>\n",
       "      <td>NaN</td>\n",
       "      <td>NaN</td>\n",
       "    </tr>\n",
       "    <tr>\n",
       "      <th>8</th>\n",
       "      <td>9</td>\n",
       "      <td>RMLS</td>\n",
       "      <td>9926</td>\n",
       "      <td>9926 5th Street Ln N</td>\n",
       "      <td>5th Street</td>\n",
       "      <td>55042</td>\n",
       "      <td>MN</td>\n",
       "      <td>LELM - Lake Elmo</td>\n",
       "      <td>254990</td>\n",
       "      <td>10/12/2017 0:00</td>\n",
       "      <td>...</td>\n",
       "      <td>NaN</td>\n",
       "      <td>NaN</td>\n",
       "      <td>NaN</td>\n",
       "      <td>NaN</td>\n",
       "      <td>NaN</td>\n",
       "      <td>NaN</td>\n",
       "      <td>NaN</td>\n",
       "      <td>NaN</td>\n",
       "      <td>NaN</td>\n",
       "      <td>NaN</td>\n",
       "    </tr>\n",
       "    <tr>\n",
       "      <th>9</th>\n",
       "      <td>10</td>\n",
       "      <td>RMLS</td>\n",
       "      <td>9928</td>\n",
       "      <td>9928 5th Street Ln N</td>\n",
       "      <td>5th Street</td>\n",
       "      <td>55042</td>\n",
       "      <td>MN</td>\n",
       "      <td>LELM - Lake Elmo</td>\n",
       "      <td>250000</td>\n",
       "      <td>9/2/2017 0:00</td>\n",
       "      <td>...</td>\n",
       "      <td>NaN</td>\n",
       "      <td>NaN</td>\n",
       "      <td>NaN</td>\n",
       "      <td>NaN</td>\n",
       "      <td>NaN</td>\n",
       "      <td>NaN</td>\n",
       "      <td>NaN</td>\n",
       "      <td>NaN</td>\n",
       "      <td>NaN</td>\n",
       "      <td>NaN</td>\n",
       "    </tr>\n",
       "  </tbody>\n",
       "</table>\n",
       "<p>10 rows × 114 columns</p>\n",
       "</div>"
      ],
      "text/plain": [
       "   No MLSID  StreetNumberNumeric            streetaddress  STREETNAME  \\\n",
       "0   1  RMLS                11511  11511 Stillwater Blvd N  Stillwater   \n",
       "1   2  RMLS                11200          11200 31st St N        31st   \n",
       "2   3  RMLS                 8583   8583 Stillwater Blvd N  Stillwater   \n",
       "3   4  RMLS                 9350           9350 31st St N        31st   \n",
       "4   5  RMLS                 2915        2915 Inwood Ave N      Inwood   \n",
       "5   6  RMLS                 3604        3604 Layton Ave N      Layton   \n",
       "6   7  RMLS                 9957     9957 5th Street Ln N  5th Street   \n",
       "7   8  RMLS                 9934     9934 5th Street Ln N  5th Street   \n",
       "8   9  RMLS                 9926     9926 5th Street Ln N  5th Street   \n",
       "9  10  RMLS                 9928     9928 5th Street Ln N  5th Street   \n",
       "\n",
       "   PostalCode StateOrProvince              City  SalesClosePrice  \\\n",
       "0       55042              MN  LELM - Lake Elmo           143000   \n",
       "1       55042              MN  LELM - Lake Elmo           190000   \n",
       "2       55042              MN  LELM - Lake Elmo           225000   \n",
       "3       55042              MN  LELM - Lake Elmo           265000   \n",
       "4       55042              MN  LELM - Lake Elmo           249900   \n",
       "5       55042              MN  LELM - Lake Elmo           255000   \n",
       "6       55042              MN  LELM - Lake Elmo           248000   \n",
       "7       55042              MN  LELM - Lake Elmo           245000   \n",
       "8       55042              MN  LELM - Lake Elmo           254990   \n",
       "9       55042              MN  LELM - Lake Elmo           250000   \n",
       "\n",
       "          LISTDATE  ...  On-Street Parking Only Other  Secured  Tandem  \\\n",
       "0   7/15/2017 0:00  ...                     NaN   NaN      NaN     NaN   \n",
       "1   10/9/2017 0:00  ...                     NaN   NaN      NaN     NaN   \n",
       "2   6/26/2017 0:00  ...                     NaN   NaN      NaN     NaN   \n",
       "3   8/25/2017 0:00  ...                     NaN   NaN      NaN     NaN   \n",
       "4   9/12/2017 0:00  ...                     NaN   NaN      NaN     NaN   \n",
       "5   4/10/2017 0:00  ...                     NaN   NaN      NaN     NaN   \n",
       "6    6/8/2017 0:00  ...                     NaN   NaN      NaN     NaN   \n",
       "7   11/5/2017 0:00  ...                     NaN   NaN      NaN     NaN   \n",
       "8  10/12/2017 0:00  ...                     NaN   NaN      NaN     NaN   \n",
       "9    9/2/2017 0:00  ...                     NaN   NaN      NaN     NaN   \n",
       "\n",
       "   Tuckunder Unassigned Uncovered/Open Underground Garage Units Vary  \\\n",
       "0        NaN        NaN            NaN                NaN        NaN   \n",
       "1        NaN        NaN            NaN                NaN        NaN   \n",
       "2        NaN        NaN            NaN                NaN        NaN   \n",
       "3        1.0        NaN            NaN                NaN        NaN   \n",
       "4        NaN        NaN            NaN                NaN        NaN   \n",
       "5        NaN        NaN            NaN                NaN        NaN   \n",
       "6        NaN        NaN            NaN                NaN        NaN   \n",
       "7        NaN        NaN            NaN                NaN        NaN   \n",
       "8        NaN        NaN            NaN                NaN        NaN   \n",
       "9        NaN        NaN            NaN                NaN        NaN   \n",
       "\n",
       "   Valet Parking for Fee  \n",
       "0                    NaN  \n",
       "1                    NaN  \n",
       "2                    NaN  \n",
       "3                    NaN  \n",
       "4                    NaN  \n",
       "5                    NaN  \n",
       "6                    NaN  \n",
       "7                    NaN  \n",
       "8                    NaN  \n",
       "9                    NaN  \n",
       "\n",
       "[10 rows x 114 columns]"
      ]
     },
     "execution_count": 89,
     "metadata": {},
     "output_type": "execute_result"
    }
   ],
   "source": [
    "joined_df.toPandas().head(10)"
   ]
  },
  {
   "cell_type": "code",
   "execution_count": 90,
   "id": "29257f71",
   "metadata": {
    "scrolled": true
   },
   "outputs": [
    {
     "name": "stderr",
     "output_type": "stream",
     "text": [
      "                                                                                \r"
     ]
    },
    {
     "data": {
      "text/html": [
       "<div>\n",
       "<style scoped>\n",
       "    .dataframe tbody tr th:only-of-type {\n",
       "        vertical-align: middle;\n",
       "    }\n",
       "\n",
       "    .dataframe tbody tr th {\n",
       "        vertical-align: top;\n",
       "    }\n",
       "\n",
       "    .dataframe thead th {\n",
       "        text-align: right;\n",
       "    }\n",
       "</style>\n",
       "<table border=\"1\" class=\"dataframe\">\n",
       "  <thead>\n",
       "    <tr style=\"text-align: right;\">\n",
       "      <th></th>\n",
       "      <th>No</th>\n",
       "      <th>MLSID</th>\n",
       "      <th>StreetNumberNumeric</th>\n",
       "      <th>streetaddress</th>\n",
       "      <th>STREETNAME</th>\n",
       "      <th>PostalCode</th>\n",
       "      <th>StateOrProvince</th>\n",
       "      <th>City</th>\n",
       "      <th>SalesClosePrice</th>\n",
       "      <th>LISTDATE</th>\n",
       "      <th>...</th>\n",
       "      <th>On-Street Parking Only</th>\n",
       "      <th>Other</th>\n",
       "      <th>Secured</th>\n",
       "      <th>Tandem</th>\n",
       "      <th>Tuckunder</th>\n",
       "      <th>Unassigned</th>\n",
       "      <th>Uncovered/Open</th>\n",
       "      <th>Underground Garage</th>\n",
       "      <th>Units Vary</th>\n",
       "      <th>Valet Parking for Fee</th>\n",
       "    </tr>\n",
       "  </thead>\n",
       "  <tbody>\n",
       "    <tr>\n",
       "      <th>0</th>\n",
       "      <td>1</td>\n",
       "      <td>RMLS</td>\n",
       "      <td>11511</td>\n",
       "      <td>11511 Stillwater Blvd N</td>\n",
       "      <td>Stillwater</td>\n",
       "      <td>55042</td>\n",
       "      <td>MN</td>\n",
       "      <td>LELM - Lake Elmo</td>\n",
       "      <td>143000</td>\n",
       "      <td>7/15/2017 0:00</td>\n",
       "      <td>...</td>\n",
       "      <td>0</td>\n",
       "      <td>0</td>\n",
       "      <td>0</td>\n",
       "      <td>0</td>\n",
       "      <td>0</td>\n",
       "      <td>0</td>\n",
       "      <td>0</td>\n",
       "      <td>0</td>\n",
       "      <td>0</td>\n",
       "      <td>0</td>\n",
       "    </tr>\n",
       "    <tr>\n",
       "      <th>1</th>\n",
       "      <td>2</td>\n",
       "      <td>RMLS</td>\n",
       "      <td>11200</td>\n",
       "      <td>11200 31st St N</td>\n",
       "      <td>31st</td>\n",
       "      <td>55042</td>\n",
       "      <td>MN</td>\n",
       "      <td>LELM - Lake Elmo</td>\n",
       "      <td>190000</td>\n",
       "      <td>10/9/2017 0:00</td>\n",
       "      <td>...</td>\n",
       "      <td>0</td>\n",
       "      <td>0</td>\n",
       "      <td>0</td>\n",
       "      <td>0</td>\n",
       "      <td>0</td>\n",
       "      <td>0</td>\n",
       "      <td>0</td>\n",
       "      <td>0</td>\n",
       "      <td>0</td>\n",
       "      <td>0</td>\n",
       "    </tr>\n",
       "    <tr>\n",
       "      <th>2</th>\n",
       "      <td>3</td>\n",
       "      <td>RMLS</td>\n",
       "      <td>8583</td>\n",
       "      <td>8583 Stillwater Blvd N</td>\n",
       "      <td>Stillwater</td>\n",
       "      <td>55042</td>\n",
       "      <td>MN</td>\n",
       "      <td>LELM - Lake Elmo</td>\n",
       "      <td>225000</td>\n",
       "      <td>6/26/2017 0:00</td>\n",
       "      <td>...</td>\n",
       "      <td>0</td>\n",
       "      <td>0</td>\n",
       "      <td>0</td>\n",
       "      <td>0</td>\n",
       "      <td>0</td>\n",
       "      <td>0</td>\n",
       "      <td>0</td>\n",
       "      <td>0</td>\n",
       "      <td>0</td>\n",
       "      <td>0</td>\n",
       "    </tr>\n",
       "    <tr>\n",
       "      <th>3</th>\n",
       "      <td>4</td>\n",
       "      <td>RMLS</td>\n",
       "      <td>9350</td>\n",
       "      <td>9350 31st St N</td>\n",
       "      <td>31st</td>\n",
       "      <td>55042</td>\n",
       "      <td>MN</td>\n",
       "      <td>LELM - Lake Elmo</td>\n",
       "      <td>265000</td>\n",
       "      <td>8/25/2017 0:00</td>\n",
       "      <td>...</td>\n",
       "      <td>0</td>\n",
       "      <td>0</td>\n",
       "      <td>0</td>\n",
       "      <td>0</td>\n",
       "      <td>1</td>\n",
       "      <td>0</td>\n",
       "      <td>0</td>\n",
       "      <td>0</td>\n",
       "      <td>0</td>\n",
       "      <td>0</td>\n",
       "    </tr>\n",
       "    <tr>\n",
       "      <th>4</th>\n",
       "      <td>5</td>\n",
       "      <td>RMLS</td>\n",
       "      <td>2915</td>\n",
       "      <td>2915 Inwood Ave N</td>\n",
       "      <td>Inwood</td>\n",
       "      <td>55042</td>\n",
       "      <td>MN</td>\n",
       "      <td>LELM - Lake Elmo</td>\n",
       "      <td>249900</td>\n",
       "      <td>9/12/2017 0:00</td>\n",
       "      <td>...</td>\n",
       "      <td>0</td>\n",
       "      <td>0</td>\n",
       "      <td>0</td>\n",
       "      <td>0</td>\n",
       "      <td>0</td>\n",
       "      <td>0</td>\n",
       "      <td>0</td>\n",
       "      <td>0</td>\n",
       "      <td>0</td>\n",
       "      <td>0</td>\n",
       "    </tr>\n",
       "    <tr>\n",
       "      <th>5</th>\n",
       "      <td>6</td>\n",
       "      <td>RMLS</td>\n",
       "      <td>3604</td>\n",
       "      <td>3604 Layton Ave N</td>\n",
       "      <td>Layton</td>\n",
       "      <td>55042</td>\n",
       "      <td>MN</td>\n",
       "      <td>LELM - Lake Elmo</td>\n",
       "      <td>255000</td>\n",
       "      <td>4/10/2017 0:00</td>\n",
       "      <td>...</td>\n",
       "      <td>0</td>\n",
       "      <td>0</td>\n",
       "      <td>0</td>\n",
       "      <td>0</td>\n",
       "      <td>0</td>\n",
       "      <td>0</td>\n",
       "      <td>0</td>\n",
       "      <td>0</td>\n",
       "      <td>0</td>\n",
       "      <td>0</td>\n",
       "    </tr>\n",
       "    <tr>\n",
       "      <th>6</th>\n",
       "      <td>7</td>\n",
       "      <td>RMLS</td>\n",
       "      <td>9957</td>\n",
       "      <td>9957 5th Street Ln N</td>\n",
       "      <td>5th Street</td>\n",
       "      <td>55042</td>\n",
       "      <td>MN</td>\n",
       "      <td>LELM - Lake Elmo</td>\n",
       "      <td>248000</td>\n",
       "      <td>6/8/2017 0:00</td>\n",
       "      <td>...</td>\n",
       "      <td>0</td>\n",
       "      <td>0</td>\n",
       "      <td>0</td>\n",
       "      <td>0</td>\n",
       "      <td>0</td>\n",
       "      <td>0</td>\n",
       "      <td>0</td>\n",
       "      <td>0</td>\n",
       "      <td>0</td>\n",
       "      <td>0</td>\n",
       "    </tr>\n",
       "    <tr>\n",
       "      <th>7</th>\n",
       "      <td>8</td>\n",
       "      <td>RMLS</td>\n",
       "      <td>9934</td>\n",
       "      <td>9934 5th Street Ln N</td>\n",
       "      <td>5th Street</td>\n",
       "      <td>55042</td>\n",
       "      <td>MN</td>\n",
       "      <td>LELM - Lake Elmo</td>\n",
       "      <td>245000</td>\n",
       "      <td>11/5/2017 0:00</td>\n",
       "      <td>...</td>\n",
       "      <td>0</td>\n",
       "      <td>0</td>\n",
       "      <td>0</td>\n",
       "      <td>0</td>\n",
       "      <td>0</td>\n",
       "      <td>0</td>\n",
       "      <td>0</td>\n",
       "      <td>0</td>\n",
       "      <td>0</td>\n",
       "      <td>0</td>\n",
       "    </tr>\n",
       "    <tr>\n",
       "      <th>8</th>\n",
       "      <td>9</td>\n",
       "      <td>RMLS</td>\n",
       "      <td>9926</td>\n",
       "      <td>9926 5th Street Ln N</td>\n",
       "      <td>5th Street</td>\n",
       "      <td>55042</td>\n",
       "      <td>MN</td>\n",
       "      <td>LELM - Lake Elmo</td>\n",
       "      <td>254990</td>\n",
       "      <td>10/12/2017 0:00</td>\n",
       "      <td>...</td>\n",
       "      <td>0</td>\n",
       "      <td>0</td>\n",
       "      <td>0</td>\n",
       "      <td>0</td>\n",
       "      <td>0</td>\n",
       "      <td>0</td>\n",
       "      <td>0</td>\n",
       "      <td>0</td>\n",
       "      <td>0</td>\n",
       "      <td>0</td>\n",
       "    </tr>\n",
       "    <tr>\n",
       "      <th>9</th>\n",
       "      <td>10</td>\n",
       "      <td>RMLS</td>\n",
       "      <td>9928</td>\n",
       "      <td>9928 5th Street Ln N</td>\n",
       "      <td>5th Street</td>\n",
       "      <td>55042</td>\n",
       "      <td>MN</td>\n",
       "      <td>LELM - Lake Elmo</td>\n",
       "      <td>250000</td>\n",
       "      <td>9/2/2017 0:00</td>\n",
       "      <td>...</td>\n",
       "      <td>0</td>\n",
       "      <td>0</td>\n",
       "      <td>0</td>\n",
       "      <td>0</td>\n",
       "      <td>0</td>\n",
       "      <td>0</td>\n",
       "      <td>0</td>\n",
       "      <td>0</td>\n",
       "      <td>0</td>\n",
       "      <td>0</td>\n",
       "    </tr>\n",
       "  </tbody>\n",
       "</table>\n",
       "<p>10 rows × 114 columns</p>\n",
       "</div>"
      ],
      "text/plain": [
       "   No MLSID  StreetNumberNumeric            streetaddress  STREETNAME  \\\n",
       "0   1  RMLS                11511  11511 Stillwater Blvd N  Stillwater   \n",
       "1   2  RMLS                11200          11200 31st St N        31st   \n",
       "2   3  RMLS                 8583   8583 Stillwater Blvd N  Stillwater   \n",
       "3   4  RMLS                 9350           9350 31st St N        31st   \n",
       "4   5  RMLS                 2915        2915 Inwood Ave N      Inwood   \n",
       "5   6  RMLS                 3604        3604 Layton Ave N      Layton   \n",
       "6   7  RMLS                 9957     9957 5th Street Ln N  5th Street   \n",
       "7   8  RMLS                 9934     9934 5th Street Ln N  5th Street   \n",
       "8   9  RMLS                 9926     9926 5th Street Ln N  5th Street   \n",
       "9  10  RMLS                 9928     9928 5th Street Ln N  5th Street   \n",
       "\n",
       "   PostalCode StateOrProvince              City  SalesClosePrice  \\\n",
       "0       55042              MN  LELM - Lake Elmo           143000   \n",
       "1       55042              MN  LELM - Lake Elmo           190000   \n",
       "2       55042              MN  LELM - Lake Elmo           225000   \n",
       "3       55042              MN  LELM - Lake Elmo           265000   \n",
       "4       55042              MN  LELM - Lake Elmo           249900   \n",
       "5       55042              MN  LELM - Lake Elmo           255000   \n",
       "6       55042              MN  LELM - Lake Elmo           248000   \n",
       "7       55042              MN  LELM - Lake Elmo           245000   \n",
       "8       55042              MN  LELM - Lake Elmo           254990   \n",
       "9       55042              MN  LELM - Lake Elmo           250000   \n",
       "\n",
       "          LISTDATE  ...  On-Street Parking Only Other  Secured  Tandem  \\\n",
       "0   7/15/2017 0:00  ...                       0     0        0       0   \n",
       "1   10/9/2017 0:00  ...                       0     0        0       0   \n",
       "2   6/26/2017 0:00  ...                       0     0        0       0   \n",
       "3   8/25/2017 0:00  ...                       0     0        0       0   \n",
       "4   9/12/2017 0:00  ...                       0     0        0       0   \n",
       "5   4/10/2017 0:00  ...                       0     0        0       0   \n",
       "6    6/8/2017 0:00  ...                       0     0        0       0   \n",
       "7   11/5/2017 0:00  ...                       0     0        0       0   \n",
       "8  10/12/2017 0:00  ...                       0     0        0       0   \n",
       "9    9/2/2017 0:00  ...                       0     0        0       0   \n",
       "\n",
       "   Tuckunder Unassigned Uncovered/Open Underground Garage Units Vary  \\\n",
       "0          0          0              0                  0          0   \n",
       "1          0          0              0                  0          0   \n",
       "2          0          0              0                  0          0   \n",
       "3          1          0              0                  0          0   \n",
       "4          0          0              0                  0          0   \n",
       "5          0          0              0                  0          0   \n",
       "6          0          0              0                  0          0   \n",
       "7          0          0              0                  0          0   \n",
       "8          0          0              0                  0          0   \n",
       "9          0          0              0                  0          0   \n",
       "\n",
       "   Valet Parking for Fee  \n",
       "0                      0  \n",
       "1                      0  \n",
       "2                      0  \n",
       "3                      0  \n",
       "4                      0  \n",
       "5                      0  \n",
       "6                      0  \n",
       "7                      0  \n",
       "8                      0  \n",
       "9                      0  \n",
       "\n",
       "[10 rows x 114 columns]"
      ]
     },
     "execution_count": 90,
     "metadata": {},
     "output_type": "execute_result"
    }
   ],
   "source": [
    "zfilled_df.toPandas().head(10)"
   ]
  },
  {
   "cell_type": "markdown",
   "id": "2db67143",
   "metadata": {},
   "source": [
    "## Binarizing, Bucketing & Encoding\n",
    "1. Binarizing, Bucketing & Encoding\n",
    "\n",
    "This video will cover the basics of Binarizing, Bucketing & Encoding in Pyspark with spark ml transformers. These methods are great ways to get the most out of your features.\n",
    "\n",
    "2. Binarizing\n",
    "\n",
    "Binarization of data is a is a helpful way to collapse some nuance in your model to just a yes/no. Homeowners often use yes/no filters to narrow their search for homes. For example, they may only consider homes that have a fireplace but may not care about how many fireplaces as long as its more than 1. Binarization takes values below or equal to a threshold and replaces them by 0, values above it by 1.\n",
    "\n",
    "3. Binarizing\n",
    "\n",
    "For this example, we will leverage the spark ml feature transformer Binarizer. Introduction to Pyspark, showcased transformers in detail so we'll spend time just using them. After importing Binarizer we need to make sure the column we want to apply it to is of type double. We need to create a transformation called bin with the Binarizer class, setting the threshold to 0, so anything over 0 will be converted to 1, then set our input Col to FIREPLACES and output to FireplaceT. To apply the transformation we apply transform with our dataframe. We can see the transformation worked as expected below.\n",
    "\n",
    "4. Bucketing\n",
    "\n",
    "If you are a homeowner you might want to know that a house has 1, 2, 3 or more bathrooms. But once you hit a certain point you don't really care whether the house has 7 or 8 bathrooms. Bucketing, also known as binning, is a way to create ordinal variables. Like the binarizer, we will import Bucketizer. Then we need to define our splits for buckets of values. We want 0 to 1, mapped to 1, greater than 1 to 2, mapped to 2, greater 2 to 3, mapped to 3 and lastly anything more than 4 to mapped to 4 by using the infinity value float INF for the upper bound. Then we can create the transformer buck with our splits, the input column, and the output column. We can then apply the transformer to our dataframe with transform As you can see the transformation created buckets for our values correctly.\n",
    "\n",
    "5. One Hot Encoding\n",
    "\n",
    "Some algorithms cannot handle categorical data like the text field 'City', and it must be converted to a numeric format like the ones to the right to be evaluated correctly. One method to handle this is called One-Hot encoding where you pivot each categorical value into a True/False column of its own. Keep in mind for columns with a lot of different values this can create potentially hundreds or thousands of new columns!\n",
    "\n",
    "6. One Hot Encoding the PySpark Way\n",
    "\n",
    "To apply OneHotEncoder transformer we will need to do it in two steps. First, we will need the stringIndexer transformer. The StringIndexer takes a string in and maps each word to a number. Then we can use the fit and transform methods perform the mapping and transform strings to numbers.\n",
    "\n",
    "7. One Hot Encoding the PySpark Way\n",
    "\n",
    "Now we can apply the OneHotEncoder transformer on our indexed city values and output all the encoded indexes to a single column of type vector which is more efficient than storing them all individual columns. Another thing to note is that the last category is not included by default because it is linearly dependent on the other columns and not is needed.\n",
    "\n",
    "8. Get Transforming!\n",
    "\n",
    "In this video, we learned how to group values together as well as how to convert categorical values to numeric. You will apply these transformers in the following examples, good luck!"
   ]
  },
  {
   "cell_type": "markdown",
   "id": "362e09d2",
   "metadata": {},
   "source": [
    "### Binarizing Day of Week\n",
    "In a previous video, we saw that it was very unlikely for a home to list on the weekend. Let's create a new field that says if the house is listed for sale on a weekday or not. In this example there is a field called `List_Day_of_Week` that has Monday is labeled 1.0 and Sunday is 7.0. Let's convert this to a binary field with weekday being 0 and weekend being 1. We can use the pyspark feature transformer Binarizer to do this.\n",
    "\n",
    "**Instructions**\n",
    "\n",
    "- Import the feature transformer Binarizer from `pyspark` and the `ml.feature` module.\n",
    "- Create the transformer using `Binarizer()` with the threshold for setting the value to 1 as anything after Friday, 5.0, then set the input column as `List_Day_of_Week` and output column as `Listed_On_Weekend`.\n",
    "- Apply the binarizer transformation on df using `transform()`.\n",
    "- Verify the transformation worked correctly by selecting the `List_Day_of_Week` and `Listed_On_Weekend` columns with `show()`."
   ]
  },
  {
   "cell_type": "code",
   "execution_count": 95,
   "id": "da8c3826",
   "metadata": {},
   "outputs": [
    {
     "name": "stdout",
     "output_type": "stream",
     "text": [
      "+----------------+\n",
      "|List_Day_of_Week|\n",
      "+----------------+\n",
      "|             7.0|\n",
      "|             2.0|\n",
      "|             2.0|\n",
      "|             6.0|\n",
      "|             3.0|\n",
      "+----------------+\n",
      "only showing top 5 rows\n",
      "\n"
     ]
    }
   ],
   "source": [
    "# make the \"List_Day_of_Week\" double instead of Integer for the transformer\n",
    "df = df.withColumn('List_Day_of_Week', df['List_Day_of_Week'].astype('double'))\n",
    "df[['List_Day_of_Week']].show(5)"
   ]
  },
  {
   "cell_type": "code",
   "execution_count": 96,
   "id": "5194ad7d",
   "metadata": {},
   "outputs": [
    {
     "name": "stdout",
     "output_type": "stream",
     "text": [
      "+----------------+-----------------+\n",
      "|List_Day_of_Week|Listed_On_Weekend|\n",
      "+----------------+-----------------+\n",
      "|             7.0|              1.0|\n",
      "|             2.0|              0.0|\n",
      "|             2.0|              0.0|\n",
      "|             6.0|              1.0|\n",
      "|             3.0|              0.0|\n",
      "|             2.0|              0.0|\n",
      "|             5.0|              0.0|\n",
      "|             1.0|              0.0|\n",
      "|             5.0|              0.0|\n",
      "|             7.0|              1.0|\n",
      "|             6.0|              1.0|\n",
      "|             5.0|              0.0|\n",
      "|             1.0|              0.0|\n",
      "|             2.0|              0.0|\n",
      "|             5.0|              0.0|\n",
      "|             1.0|              0.0|\n",
      "|             1.0|              0.0|\n",
      "|             6.0|              1.0|\n",
      "|             7.0|              1.0|\n",
      "|             6.0|              1.0|\n",
      "+----------------+-----------------+\n",
      "only showing top 20 rows\n",
      "\n"
     ]
    }
   ],
   "source": [
    "# Import transformer\n",
    "from pyspark.ml.feature import Binarizer\n",
    "\n",
    "# Create the transformer\n",
    "binarizer = Binarizer(threshold=5, inputCol='List_Day_of_Week', outputCol='Listed_On_Weekend')\n",
    "\n",
    "# Apply the transformation to df\n",
    "df = binarizer.transform(df)\n",
    "\n",
    "# Verify transformation\n",
    "df[['List_Day_of_Week', 'Listed_On_Weekend']].show()"
   ]
  },
  {
   "cell_type": "markdown",
   "id": "77a0b136",
   "metadata": {},
   "source": [
    "### Bucketing\n",
    "If you are a homeowner its very important if a house has 1, 2, 3 or 4 bedrooms. But like bathrooms, once you hit a certain point you don't really care whether the house has 7 or 8. This example we'll look at how to figure out where are some good value points to bucket.\n",
    "\n",
    "**Instructions**\n",
    "\n",
    "- Plot a distribution plot of the pandas dataframe `sample_df` using Seaborn `distplot()`.\n",
    "- Given it looks like there is a long tail of infrequent values after 5, create the bucket splits of 1, 2, 3, 4, 5+\n",
    "- Create the transformer buck by instantiating `Bucketizer()` with the splits for setting the buckets, then set the input column as `BEDROOMS` and output column as bedrooms.\n",
    "- Apply the Bucketizer transformation on df using `transform()` and assign the result to `df_bucket`. Then verify the results with `show()`"
   ]
  },
  {
   "cell_type": "code",
   "execution_count": 104,
   "id": "7f373b24",
   "metadata": {},
   "outputs": [],
   "source": [
    "# Create the sample df\n",
    "sample_df = df[['BEDROOMS']].sample(False,0.5,42).toPandas()"
   ]
  },
  {
   "cell_type": "code",
   "execution_count": 105,
   "id": "328d5bd4",
   "metadata": {},
   "outputs": [
    {
     "data": {
      "image/png": "[encoded data removed]",
      "text/plain": [
       "<Figure size 640x480 with 1 Axes>"
      ]
     },
     "metadata": {},
     "output_type": "display_data"
    },
    {
     "name": "stdout",
     "output_type": "stream",
     "text": [
      "+--------+--------+\n",
      "|BEDROOMS|bedrooms|\n",
      "+--------+--------+\n",
      "|     3.0|     3.0|\n",
      "|     4.0|     4.0|\n",
      "|     2.0|     2.0|\n",
      "|     2.0|     2.0|\n",
      "|     3.0|     3.0|\n",
      "|     3.0|     3.0|\n",
      "|     3.0|     3.0|\n",
      "|     3.0|     3.0|\n",
      "|     3.0|     3.0|\n",
      "|     3.0|     3.0|\n",
      "|     3.0|     3.0|\n",
      "|     3.0|     3.0|\n",
      "|     3.0|     3.0|\n",
      "|     3.0|     3.0|\n",
      "|     2.0|     2.0|\n",
      "|     3.0|     3.0|\n",
      "|     3.0|     3.0|\n",
      "|     3.0|     3.0|\n",
      "|     3.0|     3.0|\n",
      "|     3.0|     3.0|\n",
      "+--------+--------+\n",
      "only showing top 20 rows\n",
      "\n"
     ]
    }
   ],
   "source": [
    "from pyspark.ml.feature import Bucketizer\n",
    "\n",
    "# Plot distribution of sample_df\n",
    "sns.distplot(sample_df, axlabel='BEDROOMS')\n",
    "plt.show()\n",
    "\n",
    "# Create the bucket splits and bucketizer\n",
    "splits = [0, 1, 2, 3, 4, 5, float('Inf')]\n",
    "buck = Bucketizer(splits=splits, inputCol='Bedrooms', outputCol='bedrooms')\n",
    "\n",
    "# Apply the transformation to df: df_bucket\n",
    "df_bucket = buck.transform(df)\n",
    "\n",
    "# Display results\n",
    "df_bucket[['BEDROOMS', 'bedrooms']].show()"
   ]
  },
  {
   "cell_type": "code",
   "execution_count": 107,
   "id": "725016e6",
   "metadata": {},
   "outputs": [
    {
     "data": {
      "image/png": "[encoded data removed]",
      "text/plain": [
       "<Figure size 640x480 with 1 Axes>"
      ]
     },
     "metadata": {},
     "output_type": "display_data"
    }
   ],
   "source": [
    "#Let's see the new column \n",
    "sample_df = df_bucket[['BEDROOMS']].sample(False,0.5,42).toPandas()\n",
    "sns.distplot(sample_df, axlabel='BEDROOMS')\n",
    "plt.show()"
   ]
  },
  {
   "cell_type": "markdown",
   "id": "e1f94878",
   "metadata": {},
   "source": [
    "### One Hot Encoding\n",
    "In the United States where you live determines which schools your kids can attend. Therefore it's understandable that many people care deeply about which school districts their future home will be in. While the school districts are numbered in `SCHOOLDISTRICTNUMBER` they are really categorical. Meaning that summing or averaging these values has no apparent meaning. Therefore in this example we will convert `SCHOOLDISTRICTNUMBER` from a categorial variable into a numeric vector to use in our machine learning model later.\n",
    "\n",
    "**Instructions**\n",
    "\n",
    "- Instantiate a `StringIndexer` transformer called `string_indexer` with `SCHOOLDISTRICTNUMBER` as the input and `School_Index` as the output.\n",
    "- Apply the transformer `string_indexer` to `df` with `fit()` and `transform()`. Store the transformed dataframe in `indexed_df`.\n",
    "- Create a `OneHotEncoder` transformer called `encoder` using `School_Index` as the input and `School_Vec` as the output.\n",
    "- Apply the transformation to `indexed_df` using `transform()`. Inspect the iterative steps of the transformation with the supplied code."
   ]
  },
  {
   "cell_type": "code",
   "execution_count": 110,
   "id": "06aa2438",
   "metadata": {
    "scrolled": true
   },
   "outputs": [
    {
     "name": "stdout",
     "output_type": "stream",
     "text": [
      "+-----------------------------+------------+-------------+\n",
      "|         SchoolDistrictNumber|School_Index|   School_Vec|\n",
      "+-----------------------------+------------+-------------+\n",
      "|             834 - Stillwater|         3.0|(7,[3],[1.0])|\n",
      "|             834 - Stillwater|         3.0|(7,[3],[1.0])|\n",
      "|622 - North St Paul-Maplewood|         1.0|(7,[1],[1.0])|\n",
      "|             834 - Stillwater|         3.0|(7,[3],[1.0])|\n",
      "|622 - North St Paul-Maplewood|         1.0|(7,[1],[1.0])|\n",
      "|             834 - Stillwater|         3.0|(7,[3],[1.0])|\n",
      "|             834 - Stillwater|         3.0|(7,[3],[1.0])|\n",
      "|             834 - Stillwater|         3.0|(7,[3],[1.0])|\n",
      "|             834 - Stillwater|         3.0|(7,[3],[1.0])|\n",
      "|             834 - Stillwater|         3.0|(7,[3],[1.0])|\n",
      "|             834 - Stillwater|         3.0|(7,[3],[1.0])|\n",
      "|             834 - Stillwater|         3.0|(7,[3],[1.0])|\n",
      "|             834 - Stillwater|         3.0|(7,[3],[1.0])|\n",
      "|             834 - Stillwater|         3.0|(7,[3],[1.0])|\n",
      "|             834 - Stillwater|         3.0|(7,[3],[1.0])|\n",
      "|             834 - Stillwater|         3.0|(7,[3],[1.0])|\n",
      "|             834 - Stillwater|         3.0|(7,[3],[1.0])|\n",
      "|             834 - Stillwater|         3.0|(7,[3],[1.0])|\n",
      "|             834 - Stillwater|         3.0|(7,[3],[1.0])|\n",
      "|             834 - Stillwater|         3.0|(7,[3],[1.0])|\n",
      "+-----------------------------+------------+-------------+\n",
      "only showing top 20 rows\n",
      "\n"
     ]
    }
   ],
   "source": [
    "from pyspark.ml.feature import OneHotEncoder, StringIndexer\n",
    "\n",
    "# Map strings to numbers with string indexer\n",
    "string_indexer = StringIndexer(inputCol='SchoolDistrictNumber', outputCol='School_Index')\n",
    "indexed_df = string_indexer.fit(df).transform(df)\n",
    "\n",
    "# Onehot encode indexed values\n",
    "encoder = OneHotEncoder(inputCol='School_Index', outputCol='School_Vec')\n",
    "\n",
    "##### As the new Spark require to fit first ####\n",
    "ohe = encoder.fit(indexed_df)\n",
    "######\n",
    "\n",
    "encoded_df = ohe.transform(indexed_df)\n",
    "\n",
    "# Inspect the transformation steps\n",
    "encoded_df[['SchoolDistrictNumber', 'School_Index', 'School_Vec']].show(truncate=100)"
   ]
  },
  {
   "cell_type": "markdown",
   "id": "e3e72aea",
   "metadata": {},
   "source": [
    "#### Importat notes after the OneHotEncoder\n",
    "1. The newer version of PySpark requires to fit() before the transform() as per [this documentation](https://spark.apache.org/docs/3.1.1/api/python/reference/api/pyspark.ml.feature.OneHotEncoder.html).\n",
    "2. One Hot Encoding is a great way to handle categorial variables. You may have noticed that the implementation in PySpark is different than Pandas get_dummies() as it puts everything into a single column of type vector rather than a new column for each value. It's also different from sklearn's OneHotEncoder in that the last categorical value is captured by a vector of all zeros."
   ]
  },
  {
   "cell_type": "markdown",
   "id": "5a57199a",
   "metadata": {},
   "source": [
    "# Building a Model"
   ]
  },
  {
   "cell_type": "markdown",
   "id": "4810ed45",
   "metadata": {},
   "source": [
    "## Choosing the Algorithm\n",
    "1. Choosing the Algorithm\n",
    "\n",
    "PySpark has many different machine learning algorithms to choose from. While this makes our ability to predict, classify or cluster on enormous data sets easier, the onus is on us to choose the correct one.\n",
    "\n",
    "2. Spark ML Landscape\n",
    "\n",
    "This flowchart can help us navigate what's available in PySpark's machine learning library for dataframes, ML.\n",
    "\n",
    "3. Spark ML Landscape\n",
    "\n",
    "Recall we are going to predict the price of a home. This price is a quantity, in this case of dollars and is continuous.\n",
    "\n",
    "4. Spark ML Landscape\n",
    "\n",
    "That takes us to the Regression archetype, which predicts continuous values.\n",
    "\n",
    "5. Spark ML Landscape\n",
    "\n",
    "Lastly, we can see algorithms for solving our problem can be found in the ml regression module.\n",
    "\n",
    "6. PySpark Regression Methods\n",
    "\n",
    "ml regression provides us with many different algorithms we could use. These first methods differ mostly in how they regularize, which means how they prevent themselves from finding overly complex solutions that are likely to overfit the data. While these methods can be powerful if used correctly, they require a lot of upfront work to ensure their assumptions are met. ml regression also contains tree-based methods which have the ability to easily handle things like missing and categorical values right out of the box. Decision Trees are easy to interpret but a lot of work needs to go in to prevent overfitting. So now we are down to two algorithms, RandomForest, and GBTRegression which differ in how they handle the error reduction.\n",
    "\n",
    "7. PySpark Regression Methods\n",
    "\n",
    "We will choose to evaluate both Random Forest as well as Gradient Boosted Trees, or GBTRegression.\n",
    "\n",
    "8. Intro to Random Forest Regression\n",
    "\n",
    "Both Random Forest and Gradient Boosted Trees models are examples of ensemble models. They combine many smaller models together to create a more powerful model. In the diagram you can see that we have many decision trees, each only trained on a sample of the data to prevent overfitting. When it comes time to predict a new value it runs through decision trees and they merge their answers together to create a prediction.\n",
    "\n",
    "9. Test and Train Splits for Time Series\n",
    "\n",
    "If you've had some exposure to machine learning you may have seen the crucial step of splitting your data into test and training sets, which needs to be done before applying feature transformations. Commonly data is split randomly. Ours contains a time component so splitting randomly would leak information about what happens in the future. To prevent this you can split your data sequentially and train your model on the first sequences and then test it with the last. The size of your sets depends on how far out you need to forecast. Doing incremental testing is called step-forward optimization.\n",
    "\n",
    "10. Test and Train Splits for Time Series\n",
    "\n",
    "Here, we'll create just one of the sequential test/train splits, with some added logic you could build out walk-forward optimization seen previously. First, we'll dynamically set our time variables, its important as when your dataset refreshes; you don't have to remember to change them! To start we'll calculate the min and max OFFMKTDATE dates. Then we can put in them in our datediff function to get the number of days our data spans. To create an 80-20 split we can multiply it by point-8 and add it to our min_date with date_add to get the date value. We can create our train and test sets by using a where function on df OFFMKTDATE to filter them. An extra where is needed on LISTDATE to ensure it contains items listed as of the split_date.\n",
    "\n",
    "11. Time to practice!\n",
    "\n",
    "In this video, we saw how to navigate Pyspark ML and a few considerations in the algorithm selection process. Lastly, you learned how to create test and training sets for time-series. Let's see you try!"
   ]
  },
  {
   "attachments": {
    "Slide1.png": {
     "image/png": "[encoded data removed]"
    }
   },
   "cell_type": "markdown",
   "id": "40777913",
   "metadata": {},
   "source": [
    "Which MLlib Module?\n",
    "PySpark MLlib has many modules and algorithms available for machine learning. Each of them solves a specific subset of problem types. Given the problem we are trying to solve, which module is the correct one?\n",
    "![Slide1.png](attachment:Slide1.png)\n",
    "\n",
    "Answer the question\n",
    "\n",
    "\n",
    "- We chose to go with ml.clustering\n",
    "\n",
    "- We chose to go with ml.recommendation\n",
    "\n",
    "- We chose to go with ml.classification\n",
    "\n",
    "- **We chose to go with ml.regression**"
   ]
  },
  {
   "cell_type": "markdown",
   "id": "bc37449e",
   "metadata": {},
   "source": [
    "### Creating Time Splits\n",
    "In the video, we learned why splitting data randomly can be dangerous for time series as data from the future can cause overfitting in our model. Often with time series, you acquire new data as it is made available and you will want to retrain your model using the newest data. In the video, we showed how to do a percentage split for test and training sets but suppose you wish to train on all available data except for the last 45days which you want to use for a test set.\n",
    "\n",
    "In this exercise, we will create a function to find the split date for using the last 45 days of data for testing and the rest for training. Please note that `timedelta()` has already been imported for you from the standard python library datetime.\n",
    "\n",
    "**Instructions**\n",
    "\n",
    "- Create a function `train_test_split_date()` that takes in a dataframe, `df`, the date column to use for splitting `split_col` and the number of days to use for the test set, `test_days` and set it to have a default value of 45.\n",
    "- Find the `min` and `max dates for `split_col` using `,()`.\n",
    "- Find the date to split the test and training sets using `max_date` and subtract `test_days` from it by using `timedelta()` which takes a days parameter, in this case, pass in `test_days`,\n",
    "- Using `OFFMKTDATE` as the `split_col` find `split_date` and use it to filter the dataframe into two new ones, `train_df` and `test_df`, Where `test_df` is only the last 45 days of the data. Additionally, ensure that the `test_df` only contains homes listed as of the split date by filtering `df['LISTDATE']` less than or equal to the `split_date`."
   ]
  },
  {
   "cell_type": "code",
   "execution_count": 122,
   "id": "fa08cd18",
   "metadata": {},
   "outputs": [],
   "source": [
    "from datetime import timedelta\n",
    "df = df.withColumn('OFFMKTDATE', to_date(df['offmarketdate'], 'M/d/yyyy H:mm'))"
   ]
  },
  {
   "cell_type": "code",
   "execution_count": 123,
   "id": "859c4af1",
   "metadata": {},
   "outputs": [
    {
     "name": "stdout",
     "output_type": "stream",
     "text": [
      "+---------------+----------+\n",
      "|  offmarketdate|OFFMKTDATE|\n",
      "+---------------+----------+\n",
      "| 7/30/2017 0:00|2017-07-30|\n",
      "|10/13/2017 0:00|2017-10-13|\n",
      "| 7/24/2017 0:00|2017-07-24|\n",
      "| 9/13/2017 0:00|2017-09-13|\n",
      "| 10/3/2017 0:00|2017-10-03|\n",
      "+---------------+----------+\n",
      "only showing top 5 rows\n",
      "\n"
     ]
    }
   ],
   "source": [
    "df[['offmarketdate', 'OFFMKTDATE']].show(5)"
   ]
  },
  {
   "cell_type": "code",
   "execution_count": 124,
   "id": "23c755a9",
   "metadata": {},
   "outputs": [],
   "source": [
    "def train_test_split_date(df, split_col, test_days=45):\n",
    "    \"\"\"Calculate the date to split test and training sets\"\"\"\n",
    "    # Find how many days our data spans\n",
    "    max_date = df.agg({split_col: 'max'}).collect()[0][0]\n",
    "    min_date = df.agg({split_col: 'min'}).collect()[0][0]\n",
    "    # Subtract an integer number of days from the last date in dataset\n",
    "    split_date = max_date - timedelta(days=test_days)\n",
    "    return split_date\n",
    "\n",
    "# Find the date to use in spitting test and train\n",
    "split_date = train_test_split_date(df, 'OFFMKTDATE')\n",
    "\n",
    "# Create Sequential Test and Training Sets\n",
    "train_df = df.where(df['OFFMKTDATE'] < split_date) \n",
    "test_df = df.where(df['OFFMKTDATE'] >= split_date).where(df['LISTDATE'] <= split_date) "
   ]
  },
  {
   "cell_type": "code",
   "execution_count": 125,
   "id": "284a7a93",
   "metadata": {},
   "outputs": [
    {
     "data": {
      "text/plain": [
       "datetime.date(2017, 12, 10)"
      ]
     },
     "execution_count": 125,
     "metadata": {},
     "output_type": "execute_result"
    }
   ],
   "source": [
    "split_date"
   ]
  },
  {
   "cell_type": "markdown",
   "id": "cbb8a1de",
   "metadata": {},
   "source": [
    "### Adjusting Time Features\n",
    "We have mentioned throughout this course some of the dangers of leaking information to your model during training. Data leakage will cause your model to have very optimistic metrics for accuracy but once real data is run through it the results are often very disappointing.\n",
    "\n",
    "In this exercise, we are going to ensure that `DAYSONMARKET` only reflects what information we have at the time of predicting the value. I.e., if the house is still on the market, we don't know how many more days it will stay on the market. We need to adjust our `test_df` to reflect what information we currently have as of `2017-12-10`.\n",
    "\n",
    "NOTE: This example will use the `lit()` function. This function is used to allow single values where an entire column is expected in a function call.\n",
    "\n",
    "**Instructions**\n",
    "\n",
    "- Import the following functions from `pyspark.sql.functions` to use later on: `datediff()`, `to_date()`, `lit()`.\n",
    "- Convert the date string `'2017-12-10'` to a pyspark date by first calling the literal function, `lit()` on it and then `to_date()`\n",
    "- Create `test_df` by filtering `OFFMKTDATE` greater than or equal to the `split_date` and `LISTDATE` less than or equal to the `split_date` using `where()`.\n",
    "- Replace `DAYSONMARKET` by calculating a new column called `DAYSONMARKET`, the new column should be the difference between `split_date` and `LISTDATE` use `datediff()` to perform the date calculation. Inspect the new column and the original using the code provided."
   ]
  },
  {
   "cell_type": "code",
   "execution_count": 127,
   "id": "11440bb4",
   "metadata": {},
   "outputs": [],
   "source": [
    "df = df.withColumn('DAYSONMARKET_Original', df['DAYSONMARKET'])"
   ]
  },
  {
   "cell_type": "code",
   "execution_count": 128,
   "id": "f6d7be2b",
   "metadata": {},
   "outputs": [
    {
     "name": "stdout",
     "output_type": "stream",
     "text": [
      "+----------+\n",
      "|  LISTDATE|\n",
      "+----------+\n",
      "|2017-07-15|\n",
      "|2017-10-09|\n",
      "|2017-06-26|\n",
      "|2017-08-25|\n",
      "|2017-09-12|\n",
      "+----------+\n",
      "only showing top 5 rows\n",
      "\n"
     ]
    }
   ],
   "source": [
    "df = df.withColumn('LISTDATE', to_date(df['LISTDATE'], 'M/d/yyyy H:mm'))\n",
    "df[['LISTDATE']].show(5)"
   ]
  },
  {
   "cell_type": "code",
   "execution_count": 129,
   "id": "d564adcd",
   "metadata": {},
   "outputs": [
    {
     "name": "stdout",
     "output_type": "stream",
     "text": [
      "+----------+\n",
      "|OFFMKTDATE|\n",
      "+----------+\n",
      "|2017-07-30|\n",
      "|2017-10-13|\n",
      "|2017-07-24|\n",
      "|2017-09-13|\n",
      "|2017-10-03|\n",
      "+----------+\n",
      "only showing top 5 rows\n",
      "\n"
     ]
    }
   ],
   "source": [
    "df = df.withColumn('OFFMKTDATE', to_date(df['OFFMKTDATE'], 'M/d/yyyy H:mm'))\n",
    "df[['OFFMKTDATE']].show(5)"
   ]
  },
  {
   "cell_type": "code",
   "execution_count": 130,
   "id": "2fcc8e7c",
   "metadata": {},
   "outputs": [
    {
     "name": "stdout",
     "output_type": "stream",
     "text": [
      "+----------+----------+---------------------+------------+\n",
      "|  LISTDATE|OFFMKTDATE|DAYSONMARKET_Original|DAYSONMARKET|\n",
      "+----------+----------+---------------------+------------+\n",
      "|2017-10-06|2018-01-24|                  110|          65|\n",
      "|2017-09-18|2017-12-12|                   82|          83|\n",
      "|2017-11-07|2017-12-12|                   35|          33|\n",
      "|2017-10-30|2017-12-11|                   42|          41|\n",
      "|2017-07-14|2017-12-19|                  158|         149|\n",
      "|2017-10-25|2017-12-20|                   45|          46|\n",
      "|2017-12-07|2017-12-23|                   16|           3|\n",
      "|2017-11-22|2017-12-16|                   24|          18|\n",
      "|2017-10-27|2017-12-13|                   47|          44|\n",
      "|2017-09-29|2017-12-12|                   12|          72|\n",
      "|2017-11-28|2017-12-11|                   13|          12|\n",
      "|2017-09-09|2018-01-17|                  119|          92|\n",
      "|2017-11-18|2017-12-15|                   26|          22|\n",
      "|2017-12-07|2017-12-18|                   11|           3|\n",
      "|2017-11-25|2018-01-02|                   38|          15|\n",
      "|2017-11-09|2018-01-03|                   55|          31|\n",
      "|2017-10-18|2017-12-26|                   69|          53|\n",
      "|2017-10-03|2017-12-15|                   40|          68|\n",
      "|2017-10-16|2017-12-15|                   60|          55|\n",
      "|2017-11-18|2017-12-28|                   40|          22|\n",
      "+----------+----------+---------------------+------------+\n",
      "only showing top 20 rows\n",
      "\n"
     ]
    }
   ],
   "source": [
    "from pyspark.sql.functions import datediff, to_date, lit\n",
    "\n",
    "split_date = to_date(lit('2017-12-10'))\n",
    "# Create Sequential Test set\n",
    "test_df = df.where(df['OFFMKTDATE'] >= split_date).where(df['LISTDATE'] <= split_date)\n",
    "\n",
    "# Create a copy of DAYSONMARKET to review later\n",
    "test_df = test_df.withColumn('DAYSONMARKET_Original', test_df['DAYSONMARKET'])\n",
    "\n",
    "# Recalculate DAYSONMARKET from what we know on our split date\n",
    "test_df = test_df.withColumn('DAYSONMARKET', datediff(split_date, 'LISTDATE'))\n",
    "\n",
    "# Review the difference\n",
    "test_df[['LISTDATE', 'OFFMKTDATE', 'DAYSONMARKET_Original', 'DAYSONMARKET']].show()"
   ]
  },
  {
   "cell_type": "markdown",
   "id": "cf108466",
   "metadata": {},
   "source": [
    "## Feature Engineering Assumptions for RFR\n",
    "1. Preparing for Random Forest Regression\n",
    "\n",
    "Each machine learning algorithm has its own assumptions you need take into account for it to work appropriately. In this video, we will cover what the assumptions are for Random Forest Regression, what features we have in our final dataset and lastly how to get them ready for building a model.\n",
    "\n",
    "2. Assumptions Needed for Features\n",
    "\n",
    "The lack of assumptions needed for Random Forest Regression make it and its related methods some of the most popular choices for predicting continuous values! For example, Random Forests are able to work with non-normally distributed data or data that is unscaled. Missing and categorical data can be handled very easily with value replacements.\n",
    "\n",
    "3. Appended Features\n",
    "\n",
    "Adding in external datasets is one of my personal favorite parts of modeling. It's where I find that you can often make huge improvements in your model relatively easily. Here are a few that I added. 30 year Mortgage Rate to see how much people are willing to pay depending on their rate. City data to see how unique a house is in the area or if it is exceptionally cheap or expensive. Transportation metrics can help us understand how much people are willing to pay for a convenient location. Lastly, I included bank holidays to see if that impacted how or when houses were sold. By all means, this is not an exhaustive list of datasets to include but just some I chose!\n",
    "\n",
    "4. Engineered Features\n",
    "\n",
    "Even though we were able to avoid a lot of the onerous preprocessing steps by using Random Forest Regression there is still plenty of work to do with engineering features. Time components like the month or the week that a holiday falls on are needed help attribute seasonal effects. Valuable but often the hardest to create features are rates, ratios and other generated features that need either business or personal context to create. Lastly, choosing whether or not to expand compound fields is ultimately a judgment call and may be something to consider in the second iteration of modeling. Since PySpark DataFrames don't have a shape attribute we'll have to print our own to inspect the final set of information!\n",
    "\n",
    "5. Dataframe Columns to Feature Vectors\n",
    "\n",
    "Pyspark ML algorithms require all of the features to be provided in a single column of type vector. We will need to convert our columns for Random Forest Regression to work. To do this we need to import the VectorAssembler transformer to use it later. Sadly, while Random Forest Regression can handle missing values, vectors cannot. Due to the nature of how tree-based machine learning partitions data, we can just assign missings a value that is outside the existing range of the variable to replace nulls with. But first, we need to know which columns to convert. We can take the list of column names and remove our dependent variable so the vector contains only features.\n",
    "\n",
    "6. Dataframe Columns to Feature Vectors\n",
    "\n",
    "To create a VectorAssembler we need to supply it with our list of columns and a name for output. Applying the transformation is done via the transform method. Lastly, we need to create a new dataframe with just the columns that matter: SALESCLOSEPRICE and features.\n",
    "\n",
    "7. We are now ready for machine learning!\n",
    "\n",
    "Finally, we are ready for machine learning; our features have been created and prepared for the algorithm we are running. Now it's your turn to convert the columns to vectors and get ready for applying Random Forest Regression!"
   ]
  },
  {
   "cell_type": "markdown",
   "id": "4e6ba14f",
   "metadata": {},
   "source": [
    "### Feature Engineering For Random Forests\n",
    "Considering what steps you'll need to take to preprocess your data before running a machine learning algorithm is important or you could get invalid results. Which of the following preprocessing techniques are needed for Random Forest Regression?\n",
    "\n",
    "Answer the question\n",
    "\n",
    "- **Perform value replacement for missing values and encode categorical text features to numeric.**\n",
    "\n",
    "- Scale all features between 0 and 1 with a min max scaler.\n",
    "\n",
    "\n",
    "- Ensure all variables are standard normal distributed, mean 0 and standard deviation of 1.\n",
    "\n",
    "- None of the above."
   ]
  },
  {
   "cell_type": "markdown",
   "id": "137ace15",
   "metadata": {},
   "source": [
    "### Dropping Columns with Low Observations\n",
    "After doing a lot of feature engineering it's a good idea to take a step back and look at what you've created. If you've used some automation techniques on your categorical features like exploding or OneHot Encoding you may find that you now have hundreds of new binary features. While the subject of feature selection is material for a whole other course but there are some quick steps you can take to reduce the dimensionality of your data set.\n",
    "\n",
    "In this exercise, we are going to remove columns that have less than 30 observations. **30 is a common minimum number of observations for statistical significance**. Any less than that and the relationships cause overfitting because of a sheer coincidence!\n",
    "\n",
    "NOTE: The data is available in the dataframe, `df`.\n",
    "\n",
    "**Instructions**\n",
    "\n",
    "- Using the provided for loop that iterates through the list of binary columns, calculate the sum of the values in the column using the agg function. Use `collect()` to run the calculation immediately and save the results to `obs_count`.\n",
    "- Compare `obs_count` to `obs_threshold`, the if statement should be true if `obs_count` is less than or equal to `obs_threshold`.\n",
    "- Remove columns that have been appended to `cols_to_remove` list by using `drop()`. Recall that the `*` allows the list to be unpacked.\n",
    "- Print the starting and ending shape of the PySpark dataframes by using `count()` for number of records and `len()` on `df.columns` or `new_df.columns` to find the number of columns."
   ]
  },
  {
   "cell_type": "code",
   "execution_count": 138,
   "id": "3020feba",
   "metadata": {},
   "outputs": [
    {
     "data": {
      "text/plain": [
       "[('No', 'int'),\n",
       " ('MLSID', 'string'),\n",
       " ('StreetNumberNumeric', 'int'),\n",
       " ('streetaddress', 'string'),\n",
       " ('STREETNAME', 'string'),\n",
       " ('PostalCode', 'int'),\n",
       " ('StateOrProvince', 'string'),\n",
       " ('City', 'string'),\n",
       " ('SalesClosePrice', 'int'),\n",
       " ('LISTDATE', 'date'),\n",
       " ('LISTPRICE', 'int'),\n",
       " ('LISTTYPE', 'string'),\n",
       " ('OriginalListPrice', 'int'),\n",
       " ('PricePerTSFT', 'double'),\n",
       " ('FOUNDATIONSIZE', 'int'),\n",
       " ('FENCE', 'string'),\n",
       " ('MapLetter', 'string'),\n",
       " ('LotSizeDimensions', 'string'),\n",
       " ('SchoolDistrictNumber', 'string'),\n",
       " ('DAYSONMARKET', 'int'),\n",
       " ('offmarketdate', 'string'),\n",
       " ('Fireplaces', 'int'),\n",
       " ('RoomArea4', 'string'),\n",
       " ('roomtype', 'string'),\n",
       " ('ROOF', 'string'),\n",
       " ('RoomFloor4', 'string'),\n",
       " ('PotentialShortSale', 'string'),\n",
       " ('PDOM', 'int'),\n",
       " ('GarageDescription', 'string'),\n",
       " ('SQFTABOVEGROUND', 'int'),\n",
       " ('Taxes', 'int'),\n",
       " ('RoomFloor1', 'string'),\n",
       " ('RoomArea1', 'string'),\n",
       " ('TAXWITHASSESSMENTS', 'double'),\n",
       " ('TAXYEAR', 'int'),\n",
       " ('LivingArea', 'int'),\n",
       " ('YEARBUILT', 'int'),\n",
       " ('ZONING', 'string'),\n",
       " ('STYLE', 'string'),\n",
       " ('ACRES', 'double'),\n",
       " ('CoolingDescription', 'string'),\n",
       " ('APPLIANCES', 'string'),\n",
       " ('ROOMFAMILYCHAR', 'string'),\n",
       " ('RoomArea3', 'string'),\n",
       " ('EXTERIOR', 'string'),\n",
       " ('RoomFloor3', 'string'),\n",
       " ('RoomFloor2', 'string'),\n",
       " ('RoomArea2', 'string'),\n",
       " ('DiningRoomDescription', 'string'),\n",
       " ('BASEMENT', 'string'),\n",
       " ('BathsFull', 'int'),\n",
       " ('BathsHalf', 'int'),\n",
       " ('BATHQUARTER', 'int'),\n",
       " ('BATHSTHREEQUARTER', 'double'),\n",
       " ('Class', 'string'),\n",
       " ('BATHSTOTAL', 'int'),\n",
       " ('BATHDESC', 'string'),\n",
       " ('RoomArea5', 'string'),\n",
       " ('RoomFloor5', 'string'),\n",
       " ('RoomArea6', 'string'),\n",
       " ('RoomFloor6', 'string'),\n",
       " ('RoomArea7', 'string'),\n",
       " ('RoomFloor7', 'string'),\n",
       " ('Bedrooms', 'int'),\n",
       " ('SQFTBELOWGROUND', 'int'),\n",
       " ('AssociationFee', 'int'),\n",
       " ('ASSESSMENTPENDING', 'string'),\n",
       " ('AssessedValuation', 'double'),\n",
       " ('log_SalesClosePrice', 'double'),\n",
       " ('percentage_scaled_days', 'double'),\n",
       " ('scaled_FOUNDATIONSIZE', 'double'),\n",
       " ('scaled_DAYSONMARKET', 'double'),\n",
       " ('scaled_FIREPLACES', 'double'),\n",
       " ('Reflect_YearBuilt', 'int'),\n",
       " ('adj_yearbuilt', 'double'),\n",
       " ('LOT_SIZE_SQFT', 'double'),\n",
       " ('YARD_SIZE', 'double'),\n",
       " ('ASSESSED_TO_LIST', 'double'),\n",
       " ('TAX_TO_LIST', 'double'),\n",
       " ('BED_TO_BATHS', 'double'),\n",
       " ('Total_SQFT', 'int'),\n",
       " ('BATHS_PER_1000SQFT', 'double'),\n",
       " ('List_date', 'date'),\n",
       " ('List_Day_of_Week', 'double'),\n",
       " ('has_attached_garage', 'int'),\n",
       " ('garage_list', 'array<string>'),\n",
       " ('Listed_On_Weekend', 'double'),\n",
       " ('OFFMKTDATE', 'date'),\n",
       " ('DAYSONMARKET_Original', 'int')]"
      ]
     },
     "execution_count": 138,
     "metadata": {},
     "output_type": "execute_result"
    }
   ],
   "source": [
    "df.dtypes"
   ]
  },
  {
   "cell_type": "code",
   "execution_count": 139,
   "id": "247603f8",
   "metadata": {},
   "outputs": [],
   "source": [
    "#binary_cols = ['FENCE_WIRE', 'FENCE_ELECTRIC', 'FENCE_NAN', 'FENCE_PARTIAL', 'FENCE_RAIL', 'FENCE_OTHER', 'FENCE_CHAIN LINK', 'FENCE_FULL', 'FENCE_NONE', 'FENCE_PRIVACY', 'FENCE_WOOD', 'FENCE_INVISIBLE', 'ROOF_ASPHALT SHINGLES', 'ROOF_SHAKES', 'ROOF_NAN', 'ROOF_UNSPECIFIED SHINGLE', 'ROOF_SLATE', 'ROOF_PITCHED', 'ROOF_FLAT', 'ROOF_TAR/GRAVEL', 'ROOF_OTHER', 'ROOF_METAL', 'ROOF_TILE', 'ROOF_RUBBER', 'ROOF_WOOD SHINGLES', 'ROOF_AGE OVER 8 YEARS', 'ROOF_AGE 8 YEARS OR LESS', 'POOLDESCRIPTION_NAN', 'POOLDESCRIPTION_HEATED', 'POOLDESCRIPTION_NONE', 'POOLDESCRIPTION_SHARED', 'POOLDESCRIPTION_INDOOR', 'POOLDESCRIPTION_OUTDOOR', 'POOLDESCRIPTION_ABOVE GROUND', 'POOLDESCRIPTION_BELOW GROUND', 'GARAGEDESCRIPTION_ASSIGNED', 'GARAGEDESCRIPTION_TANDEM', 'GARAGEDESCRIPTION_UNCOVERED/OPEN', 'GARAGEDESCRIPTION_TUCKUNDER', 'GARAGEDESCRIPTION_DRIVEWAY - ASPHALT', 'GARAGEDESCRIPTION_HEATED GARAGE', 'GARAGEDESCRIPTION_UNDERGROUND GARAGE', 'GARAGEDESCRIPTION_DRIVEWAY - SHARED', 'GARAGEDESCRIPTION_CONTRACT PKG REQUIRED', 'GARAGEDESCRIPTION_GARAGE DOOR OPENER', 'GARAGEDESCRIPTION_MORE PARKING OFFSITE FOR FEE', 'GARAGEDESCRIPTION_VALET PARKING FOR FEE', 'GARAGEDESCRIPTION_OTHER', 'GARAGEDESCRIPTION_MORE PARKING ONSITE FOR FEE', 'GARAGEDESCRIPTION_DRIVEWAY - OTHER SURFACE', 'GARAGEDESCRIPTION_DETACHED GARAGE', 'GARAGEDESCRIPTION_SECURED', 'GARAGEDESCRIPTION_CARPORT', 'GARAGEDESCRIPTION_DRIVEWAY - CONCRETE', 'GARAGEDESCRIPTION_ON-STREET PARKING ONLY', 'GARAGEDESCRIPTION_COVERED', 'GARAGEDESCRIPTION_INSULATED GARAGE', 'GARAGEDESCRIPTION_UNASSIGNED', 'GARAGEDESCRIPTION_NONE', 'GARAGEDESCRIPTION_DRIVEWAY - GRAVEL', 'GARAGEDESCRIPTION_NO INT ACCESS TO DWELLING', 'GARAGEDESCRIPTION_UNITS VARY', 'GARAGEDESCRIPTION_ATTACHED GARAGE', 'APPLIANCES_NAN', 'APPLIANCES_COOKTOP', 'APPLIANCES_WALL OVEN', 'APPLIANCES_WATER SOFTENER - OWNED', 'APPLIANCES_DISPOSAL', 'APPLIANCES_DISHWASHER', 'APPLIANCES_OTHER', 'APPLIANCES_INDOOR GRILL', 'APPLIANCES_WASHER', 'APPLIANCES_RANGE', 'APPLIANCES_REFRIGERATOR', 'APPLIANCES_FURNACE HUMIDIFIER', 'APPLIANCES_TANKLESS WATER  HEATER', 'APPLIANCES_ELECTRONIC AIR FILTER', 'APPLIANCES_MICROWAVE', 'APPLIANCES_EXHAUST FAN/HOOD', 'APPLIANCES_NONE', 'APPLIANCES_CENTRAL VACUUM', 'APPLIANCES_TRASH COMPACTOR', 'APPLIANCES_AIR-TO-AIR EXCHANGER', 'APPLIANCES_DRYER', 'APPLIANCES_FREEZER', 'APPLIANCES_WATER SOFTENER - RENTED', 'EXTERIOR_SHAKES', 'EXTERIOR_CEMENT BOARD', 'EXTERIOR_BLOCK', 'EXTERIOR_VINYL', 'EXTERIOR_FIBER BOARD', 'EXTERIOR_OTHER', 'EXTERIOR_METAL', 'EXTERIOR_BRICK/STONE', 'EXTERIOR_STUCCO', 'EXTERIOR_ENGINEERED WOOD', 'EXTERIOR_WOOD', 'DININGROOMDESCRIPTION_EAT IN KITCHEN', 'DININGROOMDESCRIPTION_NAN', 'DININGROOMDESCRIPTION_OTHER', 'DININGROOMDESCRIPTION_LIVING/DINING ROOM', 'DININGROOMDESCRIPTION_SEPARATE/FORMAL DINING ROOM', 'DININGROOMDESCRIPTION_KITCHEN/DINING ROOM', 'DININGROOMDESCRIPTION_INFORMAL DINING ROOM', 'DININGROOMDESCRIPTION_BREAKFAST AREA', 'BASEMENT_FINISHED (LIVABLE)', 'BASEMENT_PARTIAL', 'BASEMENT_SUMP PUMP', 'BASEMENT_INSULATING CONCRETE FORMS', 'BASEMENT_CRAWL SPACE', 'BASEMENT_PARTIAL FINISHED', 'BASEMENT_CONCRETE BLOCK', 'BASEMENT_DRAINAGE SYSTEM', 'BASEMENT_POURED CONCRETE', 'BASEMENT_UNFINISHED', 'BASEMENT_DRAIN TILED', 'BASEMENT_WOOD', 'BASEMENT_FULL', 'BASEMENT_EGRESS WINDOWS', 'BASEMENT_DAY/LOOKOUT WINDOWS', 'BASEMENT_SLAB', 'BASEMENT_STONE', 'BASEMENT_NONE', 'BASEMENT_WALKOUT', 'BATHDESC_MAIN FLOOR 1/2 BATH', 'BATHDESC_TWO MASTER BATHS', 'BATHDESC_MASTER WALK-THRU', 'BATHDESC_WHIRLPOOL', 'BATHDESC_NAN', 'BATHDESC_3/4 BASEMENT', 'BATHDESC_TWO BASEMENT BATHS', 'BATHDESC_OTHER', 'BATHDESC_3/4 MASTER', 'BATHDESC_MAIN FLOOR 3/4 BATH', 'BATHDESC_FULL MASTER', 'BATHDESC_MAIN FLOOR FULL BATH', 'BATHDESC_WALK-IN SHOWER', 'BATHDESC_SEPARATE TUB & SHOWER', 'BATHDESC_FULL BASEMENT', 'BATHDESC_BASEMENT', 'BATHDESC_WALK THRU', 'BATHDESC_BATHROOM ENSUITE', 'BATHDESC_PRIVATE MASTER', 'BATHDESC_JACK & JILL 3/4', 'BATHDESC_UPPER LEVEL 1/2 BATH', 'BATHDESC_ROUGH IN', 'BATHDESC_UPPER LEVEL FULL BATH', 'BATHDESC_1/2 MASTER', 'BATHDESC_1/2 BASEMENT', 'BATHDESC_JACK AND JILL', 'BATHDESC_UPPER LEVEL 3/4 BATH', 'ZONING_INDUSTRIAL', 'ZONING_BUSINESS/COMMERCIAL', 'ZONING_OTHER', 'ZONING_RESIDENTIAL-SINGLE', 'ZONING_RESIDENTIAL-MULTI-FAMILY', 'COOLINGDESCRIPTION_WINDOW', 'COOLINGDESCRIPTION_WALL', 'COOLINGDESCRIPTION_DUCTLESS MINI-SPLIT', 'COOLINGDESCRIPTION_NONE', 'COOLINGDESCRIPTION_GEOTHERMAL', 'COOLINGDESCRIPTION_CENTRAL', 'CITY:LELM - LAKE ELMO', 'CITY:MAPW - MAPLEWOOD', 'CITY:OAKD - OAKDALE', 'CITY:STP - SAINT PAUL', 'CITY:WB - WOODBURY', 'LISTTYPE:EXCLUSIVE AGENCY', 'LISTTYPE:EXCLUSIVE RIGHT', 'LISTTYPE:EXCLUSIVE RIGHT WITH EXCLUSIONS', 'LISTTYPE:OTHER', 'LISTTYPE:SERVICE AGREEMENT', 'SCHOOLDISTRICTNUMBER:6 - SOUTH ST. PAUL', 'SCHOOLDISTRICTNUMBER:622 - NORTH ST PAUL-MAPLEWOOD', 'SCHOOLDISTRICTNUMBER:623 - ROSEVILLE', 'SCHOOLDISTRICTNUMBER:624 - WHITE BEAR LAKE', 'SCHOOLDISTRICTNUMBER:625 - ST. PAUL', 'SCHOOLDISTRICTNUMBER:832 - MAHTOMEDI', 'SCHOOLDISTRICTNUMBER:833 - SOUTH WASHINGTON COUNTY', 'SCHOOLDISTRICTNUMBER:834 - STILLWATER', 'POTENTIALSHORTSALE:NO', 'POTENTIALSHORTSALE:NOT DISCLOSED', 'STYLE:(CC) CONVERTED MANSION', 'STYLE:(CC) HIGH RISE (4+ LEVELS)', 'STYLE:(CC) LOW RISE (3- LEVELS)', 'STYLE:(CC) MANOR/VILLAGE', 'STYLE:(CC) TWO UNIT', 'STYLE:(SF) FOUR OR MORE LEVEL SPLIT', 'STYLE:(SF) MODIFIED TWO STORY', 'STYLE:(SF) MORE THAN TWO STORIES', 'STYLE:(SF) ONE 1/2 STORIES', 'STYLE:(SF) ONE STORY', 'STYLE:(SF) OTHER', 'STYLE:(SF) SPLIT ENTRY (BI-LEVEL)', 'STYLE:(SF) THREE LEVEL SPLIT', 'STYLE:(SF) TWO STORIES', 'STYLE:(TH) DETACHED', 'STYLE:(TH) QUAD/4 CORNERS', 'STYLE:(TH) SIDE X SIDE', 'STYLE:(TW) TWIN HOME', 'ASSUMABLEMORTGAGE:INFORMATION COMING', 'ASSUMABLEMORTGAGE:NOT ASSUMABLE', 'ASSUMABLEMORTGAGE:YES W/ QUALIFYING', 'ASSUMABLEMORTGAGE:YES W/NO QUALIFYING', 'ASSESSMENTPENDING:NO', 'ASSESSMENTPENDING:UNKNOWN', 'ASSESSMENTPENDING:YES']\n",
    "# As the binary columns were created in different DFs\n",
    "binary_cols = df.columns"
   ]
  },
  {
   "cell_type": "code",
   "execution_count": 143,
   "id": "23ee4d0e",
   "metadata": {},
   "outputs": [
    {
     "name": "stdout",
     "output_type": "stream",
     "text": [
      "Rows: 4968 Columns: 89\n",
      "Rows: 4968 Columns: 89\n"
     ]
    }
   ],
   "source": [
    "obs_threshold = 30\n",
    "cols_to_remove = list()\n",
    "# Inspect first 10 binary columns in list\n",
    "for col in binary_cols[0:10]:\n",
    "    # Count the number of 1 values in the binary column\n",
    "    # Count instead of sum \n",
    "    obs_count = df.agg({col: 'count'}).collect()[0][0]\n",
    "    #Try to avoid errors with fully null vals\n",
    "    try:\n",
    "    # If less than our observation threshold, remove\n",
    "        if obs_count <= obs_threshold:\n",
    "            cols_to_remove.append(col)\n",
    "    except:\n",
    "        continue\n",
    "    \n",
    "# Drop columns and print starting and ending dataframe shapes\n",
    "new_df = df.drop(*cols_to_remove)\n",
    "\n",
    "print('Rows: ' + str(df.count()) + ' Columns: ' + str(len(df.columns)))\n",
    "print('Rows: ' + str(new_df.count()) + ' Columns: ' + str(len(new_df.columns)))"
   ]
  },
  {
   "cell_type": "markdown",
   "id": "b593b8ef",
   "metadata": {},
   "source": [
    "## Naively Handling Missing and Categorical Values\n",
    "Random Forest Regression is robust enough to allow us to ignore many of the more time consuming and tedious data preparation steps. While some implementations of Random Forest handle missing and categorical values automatically, PySpark's does not. The math remains the same however so we can get away with some naive value replacements.\n",
    "\n",
    "For missing values since our data is strictly positive, we will assign -1. The random forest will split on this value and handle it differently than the rest of the values in the same feature.\n",
    "\n",
    "For categorical values, we can just map the text values to numbers and again the random forest will appropriately handle them by splitting on them. In this example, we will dust off pipelines from Introduction to PySpark to write our code more concisely. Please note that the exercise will start by displaying the dtypes of the columns in the dataframe, compare them to the results at the end of this exercise.\n",
    "\n",
    "NOTE: `Pipeline` and `StringIndexer` are already imported for you. The list `categorical_cols` is also available.\n",
    "\n",
    "**Instructions**\n",
    "\n",
    "- Replace the values in `WALKSCORE` and `BIKESCORE` with `-1` using `fillna()` and the subset parameter.\n",
    "- Create a list of `StringIndexers` by using list comprehension to iterate over each column in `categorical_cols`.\n",
    "- Apply `fit()` and `transform()` to the pipeline `indexer_pipeline`.\n",
    "- Drop the `categorical_cols` using `drop()` since they are no longer needed. Inspect the result data types using `dtypes`."
   ]
  },
  {
   "cell_type": "code",
   "execution_count": 144,
   "id": "8a34481f",
   "metadata": {},
   "outputs": [],
   "source": [
    "categorical_cols = df.columns"
   ]
  },
  {
   "cell_type": "code",
   "execution_count": 151,
   "id": "a96865ee",
   "metadata": {
    "scrolled": true
   },
   "outputs": [
    {
     "data": {
      "text/plain": [
       "[('No', 'int'),\n",
       " ('MLSID', 'string'),\n",
       " ('StreetNumberNumeric', 'int'),\n",
       " ('streetaddress', 'string'),\n",
       " ('STREETNAME', 'string'),\n",
       " ('PostalCode', 'int'),\n",
       " ('StateOrProvince', 'string'),\n",
       " ('City', 'string'),\n",
       " ('SalesClosePrice', 'int'),\n",
       " ('LISTDATE', 'date'),\n",
       " ('LISTPRICE', 'int'),\n",
       " ('LISTTYPE', 'string'),\n",
       " ('OriginalListPrice', 'int'),\n",
       " ('PricePerTSFT', 'double'),\n",
       " ('FOUNDATIONSIZE', 'int'),\n",
       " ('FENCE', 'string'),\n",
       " ('MapLetter', 'string'),\n",
       " ('LotSizeDimensions', 'string'),\n",
       " ('SchoolDistrictNumber', 'string'),\n",
       " ('DAYSONMARKET', 'int'),\n",
       " ('offmarketdate', 'string'),\n",
       " ('Fireplaces', 'int'),\n",
       " ('RoomArea4', 'string'),\n",
       " ('roomtype', 'string'),\n",
       " ('ROOF', 'string'),\n",
       " ('RoomFloor4', 'string'),\n",
       " ('PotentialShortSale', 'string'),\n",
       " ('PDOM', 'int'),\n",
       " ('GarageDescription', 'string'),\n",
       " ('SQFTABOVEGROUND', 'int'),\n",
       " ('Taxes', 'int'),\n",
       " ('RoomFloor1', 'string'),\n",
       " ('RoomArea1', 'string'),\n",
       " ('TAXWITHASSESSMENTS', 'double'),\n",
       " ('TAXYEAR', 'int'),\n",
       " ('LivingArea', 'int'),\n",
       " ('YEARBUILT', 'int'),\n",
       " ('ZONING', 'string'),\n",
       " ('STYLE', 'string'),\n",
       " ('ACRES', 'double'),\n",
       " ('CoolingDescription', 'string'),\n",
       " ('APPLIANCES', 'string'),\n",
       " ('ROOMFAMILYCHAR', 'string'),\n",
       " ('RoomArea3', 'string'),\n",
       " ('EXTERIOR', 'string'),\n",
       " ('RoomFloor3', 'string'),\n",
       " ('RoomFloor2', 'string'),\n",
       " ('RoomArea2', 'string'),\n",
       " ('DiningRoomDescription', 'string'),\n",
       " ('BASEMENT', 'string'),\n",
       " ('BathsFull', 'int'),\n",
       " ('BathsHalf', 'int'),\n",
       " ('BATHQUARTER', 'int'),\n",
       " ('BATHSTHREEQUARTER', 'double'),\n",
       " ('Class', 'string'),\n",
       " ('BATHSTOTAL', 'int'),\n",
       " ('BATHDESC', 'string'),\n",
       " ('RoomArea5', 'string'),\n",
       " ('RoomFloor5', 'string'),\n",
       " ('RoomArea6', 'string'),\n",
       " ('RoomFloor6', 'string'),\n",
       " ('RoomArea7', 'string'),\n",
       " ('RoomFloor7', 'string'),\n",
       " ('Bedrooms', 'int'),\n",
       " ('SQFTBELOWGROUND', 'int'),\n",
       " ('AssociationFee', 'int'),\n",
       " ('ASSESSMENTPENDING', 'string'),\n",
       " ('AssessedValuation', 'double'),\n",
       " ('log_SalesClosePrice', 'double'),\n",
       " ('percentage_scaled_days', 'double'),\n",
       " ('scaled_FOUNDATIONSIZE', 'double'),\n",
       " ('scaled_DAYSONMARKET', 'double'),\n",
       " ('scaled_FIREPLACES', 'double'),\n",
       " ('Reflect_YearBuilt', 'int'),\n",
       " ('adj_yearbuilt', 'double'),\n",
       " ('LOT_SIZE_SQFT', 'double'),\n",
       " ('YARD_SIZE', 'double'),\n",
       " ('ASSESSED_TO_LIST', 'double'),\n",
       " ('TAX_TO_LIST', 'double'),\n",
       " ('BED_TO_BATHS', 'double'),\n",
       " ('Total_SQFT', 'int'),\n",
       " ('BATHS_PER_1000SQFT', 'double'),\n",
       " ('List_date', 'date'),\n",
       " ('List_Day_of_Week', 'double'),\n",
       " ('has_attached_garage', 'int'),\n",
       " ('garage_list', 'array<string>'),\n",
       " ('Listed_On_Weekend', 'double'),\n",
       " ('OFFMKTDATE', 'date'),\n",
       " ('DAYSONMARKET_Original', 'int')]"
      ]
     },
     "execution_count": 151,
     "metadata": {},
     "output_type": "execute_result"
    }
   ],
   "source": [
    "df.dtypes"
   ]
  },
  {
   "cell_type": "code",
   "execution_count": 153,
   "id": "b82d9745",
   "metadata": {},
   "outputs": [
    {
     "data": {
      "text/plain": [
       "['MLSID',\n",
       " 'streetaddress',\n",
       " 'STREETNAME',\n",
       " 'StateOrProvince',\n",
       " 'City',\n",
       " 'LISTTYPE',\n",
       " 'FENCE',\n",
       " 'MapLetter',\n",
       " 'LotSizeDimensions',\n",
       " 'SchoolDistrictNumber',\n",
       " 'offmarketdate',\n",
       " 'RoomArea4',\n",
       " 'roomtype',\n",
       " 'ROOF',\n",
       " 'RoomFloor4',\n",
       " 'PotentialShortSale',\n",
       " 'GarageDescription',\n",
       " 'RoomFloor1',\n",
       " 'RoomArea1',\n",
       " 'ZONING',\n",
       " 'STYLE',\n",
       " 'CoolingDescription',\n",
       " 'APPLIANCES',\n",
       " 'ROOMFAMILYCHAR',\n",
       " 'RoomArea3',\n",
       " 'EXTERIOR',\n",
       " 'RoomFloor3',\n",
       " 'RoomFloor2',\n",
       " 'RoomArea2',\n",
       " 'DiningRoomDescription',\n",
       " 'BASEMENT',\n",
       " 'Class',\n",
       " 'BATHDESC',\n",
       " 'RoomArea5',\n",
       " 'RoomFloor5',\n",
       " 'RoomArea6',\n",
       " 'RoomFloor6',\n",
       " 'RoomArea7',\n",
       " 'RoomFloor7',\n",
       " 'ASSESSMENTPENDING']"
      ]
     },
     "execution_count": 153,
     "metadata": {},
     "output_type": "execute_result"
    }
   ],
   "source": [
    "categorical_cols = []\n",
    "for col in df.dtypes:\n",
    "    if col[1] == 'string':\n",
    "        categorical_cols.append(col[0])\n",
    "categorical_cols"
   ]
  },
  {
   "cell_type": "code",
   "execution_count": 154,
   "id": "c8c43f67",
   "metadata": {},
   "outputs": [],
   "source": [
    "from pyspark.ml import Pipeline"
   ]
  },
  {
   "cell_type": "code",
   "execution_count": 155,
   "id": "df2d0fb6",
   "metadata": {},
   "outputs": [
    {
     "name": "stdout",
     "output_type": "stream",
     "text": [
      "[('No', 'int'), ('StreetNumberNumeric', 'int'), ('PostalCode', 'int'), ('SalesClosePrice', 'int'), ('LISTDATE', 'date'), ('LISTPRICE', 'int'), ('OriginalListPrice', 'int'), ('PricePerTSFT', 'double'), ('FOUNDATIONSIZE', 'int'), ('DAYSONMARKET', 'int'), ('Fireplaces', 'int'), ('PDOM', 'int'), ('SQFTABOVEGROUND', 'int'), ('Taxes', 'int'), ('TAXWITHASSESSMENTS', 'double'), ('TAXYEAR', 'int'), ('LivingArea', 'int'), ('YEARBUILT', 'int'), ('ACRES', 'double'), ('BathsFull', 'int'), ('BathsHalf', 'int'), ('BATHQUARTER', 'int'), ('BATHSTHREEQUARTER', 'double'), ('BATHSTOTAL', 'int'), ('Bedrooms', 'int'), ('SQFTBELOWGROUND', 'int'), ('AssociationFee', 'int'), ('AssessedValuation', 'double'), ('log_SalesClosePrice', 'double'), ('percentage_scaled_days', 'double'), ('scaled_FOUNDATIONSIZE', 'double'), ('scaled_DAYSONMARKET', 'double'), ('scaled_FIREPLACES', 'double'), ('Reflect_YearBuilt', 'int'), ('adj_yearbuilt', 'double'), ('LOT_SIZE_SQFT', 'double'), ('YARD_SIZE', 'double'), ('ASSESSED_TO_LIST', 'double'), ('TAX_TO_LIST', 'double'), ('BED_TO_BATHS', 'double'), ('Total_SQFT', 'int'), ('BATHS_PER_1000SQFT', 'double'), ('List_date', 'date'), ('List_Day_of_Week', 'double'), ('has_attached_garage', 'int'), ('garage_list', 'array<string>'), ('Listed_On_Weekend', 'double'), ('OFFMKTDATE', 'date'), ('DAYSONMARKET_Original', 'int'), ('MLSID_IDX', 'double'), ('streetaddress_IDX', 'double'), ('STREETNAME_IDX', 'double'), ('StateOrProvince_IDX', 'double'), ('City_IDX', 'double'), ('LISTTYPE_IDX', 'double'), ('FENCE_IDX', 'double'), ('MapLetter_IDX', 'double'), ('LotSizeDimensions_IDX', 'double'), ('SchoolDistrictNumber_IDX', 'double'), ('offmarketdate_IDX', 'double'), ('RoomArea4_IDX', 'double'), ('roomtype_IDX', 'double'), ('ROOF_IDX', 'double'), ('RoomFloor4_IDX', 'double'), ('PotentialShortSale_IDX', 'double'), ('GarageDescription_IDX', 'double'), ('RoomFloor1_IDX', 'double'), ('RoomArea1_IDX', 'double'), ('ZONING_IDX', 'double'), ('STYLE_IDX', 'double'), ('CoolingDescription_IDX', 'double'), ('APPLIANCES_IDX', 'double'), ('ROOMFAMILYCHAR_IDX', 'double'), ('RoomArea3_IDX', 'double'), ('EXTERIOR_IDX', 'double'), ('RoomFloor3_IDX', 'double'), ('RoomFloor2_IDX', 'double'), ('RoomArea2_IDX', 'double'), ('DiningRoomDescription_IDX', 'double'), ('BASEMENT_IDX', 'double'), ('Class_IDX', 'double'), ('BATHDESC_IDX', 'double'), ('RoomArea5_IDX', 'double'), ('RoomFloor5_IDX', 'double'), ('RoomArea6_IDX', 'double'), ('RoomFloor6_IDX', 'double'), ('RoomArea7_IDX', 'double'), ('RoomFloor7_IDX', 'double'), ('ASSESSMENTPENDING_IDX', 'double')]\n"
     ]
    }
   ],
   "source": [
    "# Replace missing values\n",
    "df = df.fillna(-1, subset=categorical_cols)\n",
    "\n",
    "# Create list of StringIndexers using list comprehension\n",
    "indexers = [StringIndexer(inputCol=input_column, outputCol=input_column+\"_IDX\")\\\n",
    "            .setHandleInvalid(\"keep\") for input_column in categorical_cols]\n",
    "# Create pipeline of indexers\n",
    "indexer_pipeline = Pipeline(stages=indexers)\n",
    "# Fit and Transform the pipeline to the original data\n",
    "df_indexed = indexer_pipeline.fit(df).transform(df)\n",
    "\n",
    "# Clean up redundant columns\n",
    "df_indexed = df_indexed.drop(*categorical_cols)\n",
    "# Inspect data transformations\n",
    "print(df_indexed.dtypes)"
   ]
  },
  {
   "cell_type": "markdown",
   "id": "072a58eb",
   "metadata": {},
   "source": [
    "## Building a Model\n",
    "\n",
    "1. Building a Model\n",
    "\n",
    "We've covered all the necessary steps to prepare ourselves for modeling. In this video we will cover training, predicting and evaluating a random forest regression model.\n",
    "\n",
    "2. RandomForestRegressor\n",
    "\n",
    "The Pyspark RandomForestRegressor method has a TON of optional parameters and a few hyperparameters used for tuning. To have a minimally viable model you will only need to set a handful. First up is featuresCol which tells the model which column is the vector we created with VectorAssembler that now represents all of our feature data. Since we named the column 'features' we will use that to set featuresCol. Next up is labelCol which sets the dependent variable for the model, ours is named SALESCLOSEPRICE. Then we need to name our output column by setting predictionCol. I find it helpful to be explicit rather than leaving it the default value so have named it Prediction_Price. Last of the basic parameters is seed which by setting this to a value we can ensure that subsequent runs return the same model, without it, the random forest would be slightly different! I've set mine to 42 for good luck, but the specific number isn't important.\n",
    "\n",
    "3. Training a Random Forest\n",
    "\n",
    "Enough talking, let's build our model! To start we need to import the Random Forest Regressor from PySpark's ML module. Once that's done we can initialize RandomForestRegressor with the appropriate columns to use for training and predicting, again setting the seed is crucial to repeatability. Lastly, we create a variable to hold our trained model, uninspiredly called model and train the RandomForestRegressor, rf by calling fit with our training dataframe, train_df. Congratulations you've created a model! Wait you want to predict new values with it?\n",
    "\n",
    "4. Predicting with a Model\n",
    "\n",
    "Predicting house prices with the model we just trained is straightforward. To do so we need to call transform with the data withheld from training, the test set test_df. If you had new listings of homes and wanted to predict their prices you'd merely have to preprocess it in the same manner as test_df before using the model to predict prices. Given that test_df has the actual home sale prices we can inspect them side by side by using select to grab only the columns we care about and displaying them with show.\n",
    "\n",
    "5. Evaluating a Model\n",
    "\n",
    "Predicting values is great, but if we don't know how good we are at it then what's the point? To evaluate the model we need import RegressionEvaluator which allows us to calculate various metrics to gauge model performance. To initialize it we need to provide the actual values, in this case, SALESCLOSEPRICE and the predicted values which we named Prediction_Price when we created the model. Once we have the instance of evaluator created we can call it with our predictions dataframe and a dictionary of the metric type we want it to evaluate with. Which metric you wish to optimize an important decision to make. We can see that our model's RMSE returns a value in the thousands while our R-squared is less than 1. R-squared easy to interpret regardless of what you are predicting, if it's 0, you are no better than random chance, if it's 1 you are predicting perfectly. On the other hand, RMSE provides an absolute number of unexplained variance in our model, it's even in the same units as our prediction, US dollars. So even though R-squared is really high, RMSE indicates that we have $22,000 of variance unexplained on average!\n",
    "\n",
    "6. Let's model some data!\n",
    "\n",
    "This video showed little code is needed to train, predict and evaluate a model with Pyspark. Now it's your turn to build some models on your own!"
   ]
  },
  {
   "cell_type": "markdown",
   "id": "7898e789",
   "metadata": {},
   "source": [
    "### Building a Regression Model\n",
    "One of the great things about PySpark ML module is that most algorithms can be tried and tested without changing much code. Random Forest Regression is a fairly simple ensemble model, using bagging to fit. Another tree based ensemble model is Gradient Boosted Trees which uses a different approach called boosting to fit. In this exercise let's train a `GBTRegressor`.\n",
    "\n",
    "**Instructions**\n",
    "\n",
    "- Import `GBTRegressor` from `pyspark.ml.regression` which you will notice is the same module as `RandomForestRegressor`.\n",
    "- Instantiate `GBTRegressor` with `featuresCol` set to the vector column of our features named, `features`, `labelCol` set to our dependent variable, `SALESCLOSEPRICE` and the random seed to `42`\n",
    "- Train the model by calling `fit()` on `gbt` with the imported training data, `train_df`."
   ]
  },
  {
   "cell_type": "code",
   "execution_count": 157,
   "id": "b4e93b8c",
   "metadata": {},
   "outputs": [
    {
     "data": {
      "text/plain": [
       "[('No', 'int'),\n",
       " ('MLSID', 'string'),\n",
       " ('StreetNumberNumeric', 'int'),\n",
       " ('streetaddress', 'string'),\n",
       " ('STREETNAME', 'string'),\n",
       " ('PostalCode', 'int'),\n",
       " ('StateOrProvince', 'string'),\n",
       " ('City', 'string'),\n",
       " ('SalesClosePrice', 'int'),\n",
       " ('LISTDATE', 'date'),\n",
       " ('LISTPRICE', 'int'),\n",
       " ('LISTTYPE', 'string'),\n",
       " ('OriginalListPrice', 'int'),\n",
       " ('PricePerTSFT', 'double'),\n",
       " ('FOUNDATIONSIZE', 'int'),\n",
       " ('FENCE', 'string'),\n",
       " ('MapLetter', 'string'),\n",
       " ('LotSizeDimensions', 'string'),\n",
       " ('SchoolDistrictNumber', 'string'),\n",
       " ('DAYSONMARKET', 'int'),\n",
       " ('offmarketdate', 'string'),\n",
       " ('Fireplaces', 'int'),\n",
       " ('RoomArea4', 'string'),\n",
       " ('roomtype', 'string'),\n",
       " ('ROOF', 'string'),\n",
       " ('RoomFloor4', 'string'),\n",
       " ('PotentialShortSale', 'string'),\n",
       " ('PDOM', 'int'),\n",
       " ('GarageDescription', 'string'),\n",
       " ('SQFTABOVEGROUND', 'int'),\n",
       " ('Taxes', 'int'),\n",
       " ('RoomFloor1', 'string'),\n",
       " ('RoomArea1', 'string'),\n",
       " ('TAXWITHASSESSMENTS', 'double'),\n",
       " ('TAXYEAR', 'int'),\n",
       " ('LivingArea', 'int'),\n",
       " ('YEARBUILT', 'int'),\n",
       " ('ZONING', 'string'),\n",
       " ('STYLE', 'string'),\n",
       " ('ACRES', 'double'),\n",
       " ('CoolingDescription', 'string'),\n",
       " ('APPLIANCES', 'string'),\n",
       " ('ROOMFAMILYCHAR', 'string'),\n",
       " ('RoomArea3', 'string'),\n",
       " ('EXTERIOR', 'string'),\n",
       " ('RoomFloor3', 'string'),\n",
       " ('RoomFloor2', 'string'),\n",
       " ('RoomArea2', 'string'),\n",
       " ('DiningRoomDescription', 'string'),\n",
       " ('BASEMENT', 'string'),\n",
       " ('BathsFull', 'int'),\n",
       " ('BathsHalf', 'int'),\n",
       " ('BATHQUARTER', 'int'),\n",
       " ('BATHSTHREEQUARTER', 'double'),\n",
       " ('Class', 'string'),\n",
       " ('BATHSTOTAL', 'int'),\n",
       " ('BATHDESC', 'string'),\n",
       " ('RoomArea5', 'string'),\n",
       " ('RoomFloor5', 'string'),\n",
       " ('RoomArea6', 'string'),\n",
       " ('RoomFloor6', 'string'),\n",
       " ('RoomArea7', 'string'),\n",
       " ('RoomFloor7', 'string'),\n",
       " ('Bedrooms', 'int'),\n",
       " ('SQFTBELOWGROUND', 'int'),\n",
       " ('AssociationFee', 'int'),\n",
       " ('ASSESSMENTPENDING', 'string'),\n",
       " ('AssessedValuation', 'double'),\n",
       " ('log_SalesClosePrice', 'double'),\n",
       " ('percentage_scaled_days', 'double'),\n",
       " ('scaled_FOUNDATIONSIZE', 'double'),\n",
       " ('scaled_DAYSONMARKET', 'double'),\n",
       " ('scaled_FIREPLACES', 'double'),\n",
       " ('Reflect_YearBuilt', 'int'),\n",
       " ('adj_yearbuilt', 'double'),\n",
       " ('LOT_SIZE_SQFT', 'double'),\n",
       " ('YARD_SIZE', 'double'),\n",
       " ('ASSESSED_TO_LIST', 'double'),\n",
       " ('TAX_TO_LIST', 'double'),\n",
       " ('BED_TO_BATHS', 'double'),\n",
       " ('Total_SQFT', 'int'),\n",
       " ('BATHS_PER_1000SQFT', 'double'),\n",
       " ('List_date', 'date'),\n",
       " ('List_Day_of_Week', 'double'),\n",
       " ('has_attached_garage', 'int'),\n",
       " ('garage_list', 'array<string>'),\n",
       " ('Listed_On_Weekend', 'double'),\n",
       " ('OFFMKTDATE', 'date'),\n",
       " ('DAYSONMARKET_Original', 'int')]"
      ]
     },
     "execution_count": 157,
     "metadata": {},
     "output_type": "execute_result"
    }
   ],
   "source": [
    "df.dtypes"
   ]
  },
  {
   "cell_type": "code",
   "execution_count": 160,
   "id": "35082487",
   "metadata": {},
   "outputs": [
    {
     "data": {
      "text/plain": [
       "'\\nfrom pyspark.ml.regression import GBTRegressor\\n\\n# Train a Gradient Boosted Trees (GBT) model.\\n# will use garage_list instead of featuresCol\\n#gbt = GBTRegressor(featuresCol=\\'featuresCol\\',\\ngbt = GBTRegressor(featuresCol=\\'features\\',\\n                           labelCol=\\'SALESCLOSEPRICE\\',\\n                           predictionCol=\"Prediction_Price\",\\n                           seed=42\\n                           )\\n\\n# Train model.\\nmodel = gbt.fit(train_df)\\n'"
      ]
     },
     "execution_count": 160,
     "metadata": {},
     "output_type": "execute_result"
    }
   ],
   "source": [
    "'''\n",
    "from pyspark.ml.regression import GBTRegressor\n",
    "\n",
    "# Train a Gradient Boosted Trees (GBT) model.\n",
    "gbt = GBTRegressor(featuresCol='features',\n",
    "                           labelCol='SALESCLOSEPRICE',\n",
    "                           predictionCol=\"Prediction_Price\",\n",
    "                           seed=42\n",
    "                           )\n",
    "\n",
    "# Train model.\n",
    "model = gbt.fit(train_df)\n",
    "'''"
   ]
  },
  {
   "cell_type": "markdown",
   "id": "79d93a4d",
   "metadata": {},
   "source": [
    "### Evaluating & Comparing Algorithms\n",
    "Now that we've created a new model with `GBTRegressor` its time to compare it against our baseline of `RandomForestRegressor`. To do this we will compare the predictions of both models to the actual data and calculate `RMSE` and $R^2$.\n",
    "\n",
    "**Instructions**\n",
    "\n",
    "- Import `RegressionEvaluator` from `pyspark.ml.evaluation` so it is available for use later.\n",
    "- Initialize `RegressionEvaluator` by setting `labelCol` to our actual data, `SALESCLOSEPRICE` and `predictionCol` to our predicted data, `Prediction_Price`\n",
    "- To calculate our metrics, call evaluate on evaluator with the prediction values preds and create a dictionary with key `evaluator.metricName` and value of `rmse`, do the same for the `r2` metric."
   ]
  },
  {
   "cell_type": "code",
   "execution_count": 161,
   "id": "bd2699f3",
   "metadata": {},
   "outputs": [
    {
     "data": {
      "text/plain": [
       "\"\\nfrom pyspark.ml.evaluation import RegressionEvaluator\\n\\n# Select columns to compute test error\\nevaluator = RegressionEvaluator(labelCol='SALESCLOSEPRICE', \\n                                predictionCol='Prediction_Price')\\n# Dictionary of model predictions to loop over\\nmodels = {'Gradient Boosted Trees': gbt_predictions, 'Random Forest Regression': rfr_predictions}\\nfor key, preds in models.items():\\n  # Create evaluation metrics\\n  rmse = evaluator.evaluate(preds, {evaluator.metricName: 'rmse'})\\n  r2 = evaluator.evaluate(preds, {evaluator.metricName: 'r2'})\\n  \\n  # Print Model Metrics\\n  print(key + ' RMSE: ' + str(rmse))\\n  print(key + ' R^2: ' + str(r2))\\n\""
      ]
     },
     "execution_count": 161,
     "metadata": {},
     "output_type": "execute_result"
    }
   ],
   "source": [
    "'''\n",
    "from pyspark.ml.evaluation import RegressionEvaluator\n",
    "\n",
    "# Select columns to compute test error\n",
    "evaluator = RegressionEvaluator(labelCol='SALESCLOSEPRICE', \n",
    "                                predictionCol='Prediction_Price')\n",
    "# Dictionary of model predictions to loop over\n",
    "models = {'Gradient Boosted Trees': gbt_predictions, 'Random Forest Regression': rfr_predictions}\n",
    "for key, preds in models.items():\n",
    "  # Create evaluation metrics\n",
    "  rmse = evaluator.evaluate(preds, {evaluator.metricName: 'rmse'})\n",
    "  r2 = evaluator.evaluate(preds, {evaluator.metricName: 'r2'})\n",
    "  \n",
    "  # Print Model Metrics\n",
    "  print(key + ' RMSE: ' + str(rmse))\n",
    "  print(key + ' R^2: ' + str(r2))\n",
    "'''"
   ]
  },
  {
   "cell_type": "markdown",
   "id": "338e8077",
   "metadata": {},
   "source": [
    "### Understanding Metrics\n",
    "Recall that $R^2$ and `RMSE` are both metrics to evaluate the performance of regression models. Both provide a different way to interpret the fit of our model. Which of the following statements is **FALSE** regarding $R^2$ or `RMSE`?\n",
    "\n",
    "Answer the question\n",
    "\n",
    "- RMSE is comparable across predictions looking at the same dependent variable.\n",
    "\n",
    "- $R^2$ **is valued between 0 and 100**\n",
    "\n",
    "- $R^2$ is comparable across predictions regardless of dependent variable.\n",
    "\n",
    "- RMSE is a measure of unexplained variance in the dependent variable."
   ]
  },
  {
   "cell_type": "markdown",
   "id": "440f4bf0",
   "metadata": {},
   "source": [
    "## Interpreting, Saving & Loading\n",
    "\n",
    "1. Interpreting, Saving & Loading Models\n",
    "\n",
    "In this video, we will go over how to interpret the model and then how to save and load it for later use!\n",
    "\n",
    "2. Interpreting a Model\n",
    "\n",
    "Now that we've evaluated our model we will want to understand what features are important in predicting a homes' selling price. To do this we need to import pandas library to manipulate this tiny array easier. To use Spark on this would be using a sledge hammer for a delicate task. We will create a dataframe fi_df to hold our feature importances. These feature importances can be accessed by calling featureImportances on the model and converting them to an array with toArray. Since this is just an array of numbers, we will need to name the new column in the dataframe importance. Now we just have a single column dataframe. We want to create another column using the list of feature names we fed into the VectorAssembler earlier. We can convert this list into a series by wrapping it with pd Series. Next we since we have over a hundred features we only want to look at the most important ones so we will use pandas sort_values to sort the column importance in descending order.\n",
    "\n",
    "3. Interpreting a Model\n",
    "\n",
    "Now it's as simple as out displaying the results to the screen. Here we can see the biggest predictor of how much your house will sell for is how much you listed it for. Intuitively this makes a lot of sense, realtors are skilled in setting the value of the house and it has the effect of anchoring the price, meaning it will likely only marginally increase or decrease from that value.\n",
    "\n",
    "4. Saving & Loading Models\n",
    "\n",
    "Last but not least it important to know how to save and load the model. Luckily this is very simple now, to save it just call save on your model and give the model a name. Note that the model isn't a single file but a directory containing many files defining your model. To load your data you need to import RandomForestRegressionModel from pyspark ml regression and provide it the location and name of your model.\n",
    "\n",
    "5. On to your last set of exercises!\n",
    "\n",
    "In this video we learned how to interpret result and save and load your model for later use. Let's see you give it a try!"
   ]
  },
  {
   "cell_type": "markdown",
   "id": "7aed9fe3",
   "metadata": {},
   "source": [
    "### Interpreting Results\n",
    "It is almost always important to know which features are influencing your prediction the most. Perhaps its counterintuitive and that's an insight? Perhaps a hand full of features account for most of the accuracy of your model and you don't need to perform time acquiring or massaging other features.\n",
    "\n",
    "In this example we will be looking at a model that has been trained without any `LISTPRICE` information. With that gone, what influences the price the most?\n",
    "\n",
    "NOTE: The array of feature importances, importances has already been created for you from `model.featureImportances.toArray()`\n",
    "\n",
    "**Instructions**\n",
    "\n",
    "- Create a pandas dataframe using the values of importances and name the column importance by setting the parameter columns.\n",
    "- Using the imported list of features names, `feature_cols`, create a new `pandas.Series` by wrapping it in the `pd.Series()` function. Set it to the column `fi_df['feature']`.\n",
    "- Sort the dataframe using `sort_values()`, setting the by parameter to our importance column and sort it descending by setting `ascending` to `False`. Inspect the results."
   ]
  },
  {
   "cell_type": "code",
   "execution_count": 162,
   "id": "eb99b511",
   "metadata": {},
   "outputs": [
    {
     "data": {
      "text/plain": [
       "\"\\n# Convert feature importances to a pandas column\\nfi_df = pd.DataFrame(importances, columns=['importance'])\\n\\n# Convert list of feature names to pandas column\\nfi_df['feature'] = pd.Series(feature_cols)\\n\\n# Sort the data based on feature importance\\nfi_df.sort_values(by=['importance'], ascending=False, inplace=True)\\n\\n# Inspect Results\\nfi_df.head(10)\\n\""
      ]
     },
     "execution_count": 162,
     "metadata": {},
     "output_type": "execute_result"
    }
   ],
   "source": [
    "'''\n",
    "# Convert feature importances to a pandas column\n",
    "fi_df = pd.DataFrame(importances, columns=['importance'])\n",
    "\n",
    "# Convert list of feature names to pandas column\n",
    "fi_df['feature'] = pd.Series(feature_cols)\n",
    "\n",
    "# Sort the data based on feature importance\n",
    "fi_df.sort_values(by=['importance'], ascending=False, inplace=True)\n",
    "\n",
    "# Inspect Results\n",
    "fi_df.head(10)\n",
    "'''"
   ]
  },
  {
   "cell_type": "markdown",
   "id": "0fcba784",
   "metadata": {},
   "source": [
    "### Saving & Loading Models\n",
    "Often times you may find yourself going back to a previous model to see what assumptions or settings were used when diagnosing where your prediction errors were coming from. Perhaps there was something wrong with the data? Maybe you need to incorporate a new feature to capture an unusual event that occurred?\n",
    "\n",
    "In this example, you will practice saving and loading a model.\n",
    "\n",
    "**Instructions**\n",
    "\n",
    "- Import `RandomForestRegressionModel` from `pyspark.ml.regression`.\n",
    "- Using the model in memory called `model` call the `save()` method on it and name the model `rfr_no_listprice`.\n",
    "- Reload the saved model file `rfr_no_listprice` by calling `load()` on `RandomForestRegressionModel` and storing it into `loaded_model`."
   ]
  },
  {
   "cell_type": "code",
   "execution_count": 163,
   "id": "fddcd59e",
   "metadata": {},
   "outputs": [
    {
     "data": {
      "text/plain": [
       "\"\\nfrom pyspark.ml.regression import RandomForestRegressionModel\\n\\n# Save model\\nmodel.save('rfr_no_listprice')\\n\\n# Load model\\nloaded_model = RandomForestRegressionModel.load('rfr_no_listprice')\\n\""
      ]
     },
     "execution_count": 163,
     "metadata": {},
     "output_type": "execute_result"
    }
   ],
   "source": [
    "'''\n",
    "from pyspark.ml.regression import RandomForestRegressionModel\n",
    "\n",
    "# Save model\n",
    "model.save('rfr_no_listprice')\n",
    "\n",
    "# Load model\n",
    "loaded_model = RandomForestRegressionModel.load('rfr_no_listprice')\n",
    "'''"
   ]
  }
 ],
 "metadata": {
  "kernelspec": {
   "display_name": "Python 3 (ipykernel)",
   "language": "python",
   "name": "python3"
  },
  "language_info": {
   "codemirror_mode": {
    "name": "ipython",
    "version": 3
   },
   "file_extension": ".py",
   "mimetype": "text/x-python",
   "name": "python",
   "nbconvert_exporter": "python",
   "pygments_lexer": "ipython3",
   "version": "3.10.13"
  }
 },
 "nbformat": 4,
 "nbformat_minor": 5
}
