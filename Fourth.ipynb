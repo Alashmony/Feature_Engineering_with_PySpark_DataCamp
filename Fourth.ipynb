{
 "cells": [
  {
   "cell_type": "code",
   "execution_count": 1,
   "id": "6ceef3c2",
   "metadata": {},
   "outputs": [
    {
     "data": {
      "text/html": [
       "<style>.container {width: 99% !important;}</style>"
      ],
      "text/plain": [
       "<IPython.core.display.HTML object>"
      ]
     },
     "metadata": {},
     "output_type": "display_data"
    }
   ],
   "source": [
    "from IPython.display import display, HTML\n",
    "display(HTML(\"<style>.container {width: 99% !important;}</style>\"))"
   ]
  },
  {
   "cell_type": "code",
   "execution_count": 2,
   "id": "1c20491a",
   "metadata": {},
   "outputs": [],
   "source": [
    "import pyspark"
   ]
  },
  {
   "cell_type": "code",
   "execution_count": 3,
   "id": "8daeecd6",
   "metadata": {},
   "outputs": [
    {
     "name": "stderr",
     "output_type": "stream",
     "text": [
      "23/09/29 15:47:05 WARN Utils: Your hostname, Alashmony-Lenovo-Z51-70 resolves to a loopback address: 127.0.1.1; using 192.168.1.182 instead (on interface wlp3s0)\n",
      "23/09/29 15:47:05 WARN Utils: Set SPARK_LOCAL_IP if you need to bind to another address\n",
      "Setting default log level to \"WARN\".\n",
      "To adjust logging level use sc.setLogLevel(newLevel). For SparkR, use setLogLevel(newLevel).\n",
      "23/09/29 15:47:05 WARN NativeCodeLoader: Unable to load native-hadoop library for your platform... using builtin-java classes where applicable\n"
     ]
    }
   ],
   "source": [
    "sc = pyspark.SparkContext()"
   ]
  },
  {
   "cell_type": "code",
   "execution_count": 4,
   "id": "710a2411",
   "metadata": {},
   "outputs": [],
   "source": [
    "from pyspark.sql import SparkSession\n",
    "spark = SparkSession(sc)"
   ]
  },
  {
   "cell_type": "code",
   "execution_count": 5,
   "id": "618967c4",
   "metadata": {},
   "outputs": [
    {
     "data": {
      "text/html": [
       "\n",
       "        <div>\n",
       "            <p><b>SparkContext</b></p>\n",
       "\n",
       "            <p><a href=\"http://192.168.1.182:4040\">Spark UI</a></p>\n",
       "\n",
       "            <dl>\n",
       "              <dt>Version</dt>\n",
       "                <dd><code>v3.4.0</code></dd>\n",
       "              <dt>Master</dt>\n",
       "                <dd><code>local[*]</code></dd>\n",
       "              <dt>AppName</dt>\n",
       "                <dd><code>pyspark-shell</code></dd>\n",
       "            </dl>\n",
       "        </div>\n",
       "        "
      ],
      "text/plain": [
       "<SparkContext master=local[*] appName=pyspark-shell>"
      ]
     },
     "execution_count": 5,
     "metadata": {},
     "output_type": "execute_result"
    }
   ],
   "source": [
    "sc"
   ]
  },
  {
   "cell_type": "code",
   "execution_count": 6,
   "id": "5444f70a",
   "metadata": {},
   "outputs": [
    {
     "data": {
      "text/html": [
       "\n",
       "            <div>\n",
       "                <p><b>SparkSession - in-memory</b></p>\n",
       "                \n",
       "        <div>\n",
       "            <p><b>SparkContext</b></p>\n",
       "\n",
       "            <p><a href=\"http://192.168.1.182:4040\">Spark UI</a></p>\n",
       "\n",
       "            <dl>\n",
       "              <dt>Version</dt>\n",
       "                <dd><code>v3.4.0</code></dd>\n",
       "              <dt>Master</dt>\n",
       "                <dd><code>local[*]</code></dd>\n",
       "              <dt>AppName</dt>\n",
       "                <dd><code>pyspark-shell</code></dd>\n",
       "            </dl>\n",
       "        </div>\n",
       "        \n",
       "            </div>\n",
       "        "
      ],
      "text/plain": [
       "<pyspark.sql.session.SparkSession at 0x7fbd54c7ec80>"
      ]
     },
     "execution_count": 6,
     "metadata": {},
     "output_type": "execute_result"
    }
   ],
   "source": [
    "spark"
   ]
  },
  {
   "cell_type": "markdown",
   "id": "2ceedc17",
   "metadata": {},
   "source": [
    "# Where to Begin"
   ]
  },
  {
   "cell_type": "markdown",
   "id": "fddad8ff",
   "metadata": {},
   "source": [
    "## Where to Begin\n",
    "1. Where to Begin\n",
    "\n",
    "Hi, I'm John Hogue and welcome to Feature Engineering with PySpark. Easily one of the most important aspects of applied machine learning is feature engineering. It is the process of using domain knowledge to create new features to help our models perform better. In this course, we will look at a real data set and work our way to building a Regression Model in PySpark.\n",
    "\n",
    "2. Diving Straight to Analysis\n",
    "\n",
    "Before we dive in its important to note that while the techniques you'll learn in this course are invaluable, that data science cannot be applied as a cookie cutter. You will need to research your data and become your own expert. There is much to be said of the dangers of not understanding your data, especially where our outputs are increasingly being used to make decisions and inform policies. Before you dive into modeling, spend time to define what your goals are and how the output might be used. Take the time to research your data and its limitations. Often times you may be tasked with explaining what is and isn't possible. Lastly, remember that data science is all about being curious, asking questions and applying new ways to solve problems!\n",
    "\n",
    "3. The Data Science Process\n",
    "\n",
    "Every project and data set is different. Data Science is an iterative process that requires comfort with uncertainty as at any point you may have to go backward or even start over. A good project may inspire further questions that set the goals for the next project! As we progress through this process, this course will have extra emphasis on a lot of the 'art' sides of data science, exploring data, cleaning it and engineering it for use in a model.\n",
    "\n",
    "4. Spark changes fast and frequently\n",
    "\n",
    "Before we get started, as a cutting-edge technology, Spark changes fast and frequently. Make sure you are looking at the right version! You can always go to the latest URL by using slash latest or put the version number, major, minor and patch to get a specific version. Programmatically you can check your version of Spark with these commands. That way you can ensure you are looking at the right documentation and not using deprecated methods!\n",
    "\n",
    "5. Data Formats: Parquet\n",
    "\n",
    "For this course, we will be using a Parquet file. Like most data in Hadoop, the platform that Spark runs on, it is a write once, read many times format. Parquet data is columnar, meaning that it is organized by columns, an important feature for huge data sets as it is blazingly fast to read in ONLY the data you need. CSVs, on the other hand, have to read and parse the whole data set to read a single field. Another difference is Parquet fields are defined and typed, saving users from defining data types, like dates, booleans, or strings. For this reason, parquet is relatively slow to write. Since it's not delimited by characters it's less likely to be read in wrong if those characters exist in the data. These are just a few advantages that are causing the industry to adopt Parquet quickly.\n",
    "\n",
    "6. Getting the Data to Spark\n",
    "\n",
    "We have many format readers to choose from for converting various file types to a PySpark DataFrame. Here we will use spark read parquet and put the results into the variable df representing a dataframe.\n",
    "\n",
    "7. Let's Practice!\n",
    "\n",
    "In this video, we covered off on some important considerations when starting any data science project. We also learned about parquet and how to load it to a spark dataframe. In the exercises, you'll verify the versioning of PySpark and Python and finally, you'll load the data yourself!"
   ]
  },
  {
   "cell_type": "markdown",
   "id": "17f8dead",
   "metadata": {},
   "source": [
    "### Check Version\n",
    "Checking the version of which Spark and Python installed is important as it changes very quickly and drastically. Reading the wrong documentation can cause lots of lost time and unnecessary frustration!\n",
    "\n",
    "This course touches on a lot of concepts you may have forgotten, so if you ever need a quick refresher, download the [PySpark Cheat Sheet](https://datacamp-community-prod.s3.amazonaws.com/65076e3c-9df1-40d5-a0c2-36294d9a3ca9) and keep it handy!\n",
    "\n",
    "### Instructions\n",
    "- Print the Spark `version`.\n",
    "- Print the Python `version_info`."
   ]
  },
  {
   "cell_type": "code",
   "execution_count": 7,
   "id": "fc42ea33",
   "metadata": {},
   "outputs": [
    {
     "name": "stdout",
     "output_type": "stream",
     "text": [
      "3.4.0\n",
      "sys.version_info(major=3, minor=10, micro=13, releaselevel='final', serial=0)\n"
     ]
    }
   ],
   "source": [
    "# Return spark version\n",
    "print(spark.version)\n",
    "\n",
    "# Return python version\n",
    "import sys\n",
    "print(sys.version_info)"
   ]
  },
  {
   "cell_type": "markdown",
   "id": "59b37754",
   "metadata": {},
   "source": [
    "### Load in the data\n",
    "Reading in data is the first step to using PySpark for data science! Let's leverage the new industry standard of parquet files!\n",
    "\n",
    "**Instructions**\n",
    "\n",
    "- Use the `parquet()` file reader to read in `'Real_Estate.parq'` as described in the video exercise.\n",
    "- Print out the list of columns with `columns`."
   ]
  },
  {
   "cell_type": "code",
   "execution_count": 8,
   "id": "1636330f",
   "metadata": {},
   "outputs": [],
   "source": [
    "import pandas as pd"
   ]
  },
  {
   "cell_type": "code",
   "execution_count": 9,
   "id": "a0ef5872",
   "metadata": {},
   "outputs": [
    {
     "name": "stderr",
     "output_type": "stream",
     "text": [
      "                                                                                \r"
     ]
    },
    {
     "data": {
      "text/plain": [
       "['No.',\n",
       " 'MLSID',\n",
       " 'StreetNumberNumeric',\n",
       " 'streetaddress',\n",
       " 'STREETNAME',\n",
       " 'PostalCode',\n",
       " 'StateOrProvince',\n",
       " 'City',\n",
       " 'SalesClosePrice',\n",
       " 'LISTDATE',\n",
       " 'LISTPRICE',\n",
       " 'LISTTYPE',\n",
       " 'OriginalListPrice',\n",
       " 'PricePerTSFT',\n",
       " 'FOUNDATIONSIZE',\n",
       " 'FENCE',\n",
       " 'MapLetter',\n",
       " 'LotSizeDimensions',\n",
       " 'SchoolDistrictNumber',\n",
       " 'DAYSONMARKET',\n",
       " 'offmarketdate',\n",
       " 'Fireplaces',\n",
       " 'RoomArea4',\n",
       " 'roomtype',\n",
       " 'ROOF',\n",
       " 'RoomFloor4',\n",
       " 'PotentialShortSale',\n",
       " 'PoolDescription',\n",
       " 'PDOM',\n",
       " 'GarageDescription',\n",
       " 'SQFTABOVEGROUND',\n",
       " 'Taxes',\n",
       " 'RoomFloor1',\n",
       " 'RoomArea1',\n",
       " 'TAXWITHASSESSMENTS',\n",
       " 'TAXYEAR',\n",
       " 'LivingArea',\n",
       " 'UNITNUMBER',\n",
       " 'YEARBUILT',\n",
       " 'ZONING',\n",
       " 'STYLE',\n",
       " 'ACRES',\n",
       " 'CoolingDescription',\n",
       " 'APPLIANCES',\n",
       " 'backonmarketdate',\n",
       " 'ROOMFAMILYCHAR',\n",
       " 'RoomArea3',\n",
       " 'EXTERIOR',\n",
       " 'RoomFloor3',\n",
       " 'RoomFloor2',\n",
       " 'RoomArea2',\n",
       " 'DiningRoomDescription',\n",
       " 'BASEMENT',\n",
       " 'BathsFull',\n",
       " 'BathsHalf',\n",
       " 'BATHQUARTER',\n",
       " 'BATHSTHREEQUARTER',\n",
       " 'Class',\n",
       " 'BATHSTOTAL',\n",
       " 'BATHDESC',\n",
       " 'RoomArea5',\n",
       " 'RoomFloor5',\n",
       " 'RoomArea6',\n",
       " 'RoomFloor6',\n",
       " 'RoomArea7',\n",
       " 'RoomFloor7',\n",
       " 'RoomArea8',\n",
       " 'RoomFloor8',\n",
       " 'Bedrooms',\n",
       " 'SQFTBELOWGROUND',\n",
       " 'AssumableMortgage',\n",
       " 'AssociationFee',\n",
       " 'ASSESSMENTPENDING',\n",
       " 'AssessedValuation']"
      ]
     },
     "execution_count": 9,
     "metadata": {},
     "output_type": "execute_result"
    }
   ],
   "source": [
    "#Prepare the parquest from the csv\n",
    "df = spark.read.csv(\"2017_StPaul_MN_Real_Estate.csv\",header=True, inferSchema=True)\n",
    "\n",
    "df.columns"
   ]
  },
  {
   "cell_type": "code",
   "execution_count": 10,
   "id": "57b0b0a6",
   "metadata": {},
   "outputs": [
    {
     "name": "stderr",
     "output_type": "stream",
     "text": [
      "23/09/29 15:47:15 WARN package: Truncated the string representation of a plan since it was too large. This behavior can be adjusted by setting 'spark.sql.debug.maxToStringFields'.\n",
      "                                                                                \r"
     ]
    }
   ],
   "source": [
    "#df.write.parquet(\"Real_Estate.parq\")\n",
    "df.toPandas().to_parquet(\"Real_Estate.parq\")"
   ]
  },
  {
   "cell_type": "code",
   "execution_count": 11,
   "id": "bf381270",
   "metadata": {},
   "outputs": [
    {
     "name": "stdout",
     "output_type": "stream",
     "text": [
      "['No.', 'MLSID', 'StreetNumberNumeric', 'streetaddress', 'STREETNAME', 'PostalCode', 'StateOrProvince', 'City', 'SalesClosePrice', 'LISTDATE', 'LISTPRICE', 'LISTTYPE', 'OriginalListPrice', 'PricePerTSFT', 'FOUNDATIONSIZE', 'FENCE', 'MapLetter', 'LotSizeDimensions', 'SchoolDistrictNumber', 'DAYSONMARKET', 'offmarketdate', 'Fireplaces', 'RoomArea4', 'roomtype', 'ROOF', 'RoomFloor4', 'PotentialShortSale', 'PoolDescription', 'PDOM', 'GarageDescription', 'SQFTABOVEGROUND', 'Taxes', 'RoomFloor1', 'RoomArea1', 'TAXWITHASSESSMENTS', 'TAXYEAR', 'LivingArea', 'UNITNUMBER', 'YEARBUILT', 'ZONING', 'STYLE', 'ACRES', 'CoolingDescription', 'APPLIANCES', 'backonmarketdate', 'ROOMFAMILYCHAR', 'RoomArea3', 'EXTERIOR', 'RoomFloor3', 'RoomFloor2', 'RoomArea2', 'DiningRoomDescription', 'BASEMENT', 'BathsFull', 'BathsHalf', 'BATHQUARTER', 'BATHSTHREEQUARTER', 'Class', 'BATHSTOTAL', 'BATHDESC', 'RoomArea5', 'RoomFloor5', 'RoomArea6', 'RoomFloor6', 'RoomArea7', 'RoomFloor7', 'RoomArea8', 'RoomFloor8', 'Bedrooms', 'SQFTBELOWGROUND', 'AssumableMortgage', 'AssociationFee', 'ASSESSMENTPENDING', 'AssessedValuation']\n"
     ]
    }
   ],
   "source": [
    "# Read the file into a dataframe\n",
    "#print(os.listdir())\n",
    "#print(os.getcwd())\n",
    "#df = spark.read.parquet('/tmp/tmpfkser8re/Real_Estate.parq')\n",
    "\n",
    "df = spark.read.parquet('Real_Estate.parq')\n",
    "# Print columns in dataframe\n",
    "print(df.columns)"
   ]
  },
  {
   "cell_type": "markdown",
   "id": "c8c5f537",
   "metadata": {},
   "source": [
    "## Defining A Problem\n",
    "1. Defining A Problem\n",
    "\n",
    "What's the point of doing an analysis if you aren't solving the right problem? In this video, we will define our problem and the context of our data.\n",
    "\n",
    "2. What’s Your Problem?\n",
    "\n",
    "We are going to build a model to predict how much a house sells for. This question can be interpreted multiple ways which is why it's important to take the time formally define it. Let's assume we are real-estate tycoon's looking for the next best investment opportunity. For a given house on the market, with a listed price and series of attributes describing the home, what is it likely to actually sell for, aka the SALESCLOSEPRICE?\n",
    "\n",
    "3. Context & Limitations of our Real Estate\n",
    "\n",
    "The dataset we have is a sample of homes that sold over the course of 2017. Using this sample we are to provide a quick proof of concept of whether it's worth investing in more data for the 5.5 million homes that sold in the US in 2017. To do this we need to understand some of the limitations of the data we have. First, we only have a small geographical area, so to apply our model to new areas, poses serious risk! We know that we only have residential data, so we shouldn't expect to predict how much a business location is worth! Lastly, we only have one year's worth of data which will make it hard to draw strong conclusions about seasonality in this dataset.\n",
    "\n",
    "4. What types of attributes are available?\n",
    "\n",
    "The original dataset has hundreds of attributes available but in order to start simple we've already worked with our client to identify around 50 attributes they think are likely to influence the price of a home. These attributes generally fall into these groups. For Dates we have date listed, and the year the home was built. For locational data, we have the city that the home is in, its school district and its actual postal address. We also have many different metrics to gauge the size of the home like number of bed and bathrooms as well as the area of living space. For prices, we have the listing price and we wouldn't be able to predict anything without the sale price! We also have a lot of data available on amenities that a house has like a pool or a garage as well as the construction materials used to build the house.\n",
    "\n",
    "5. Validating Your Data Load\n",
    "\n",
    "Big data means a lot can go wrong when loading data make sure you have the right number of records and columns! We can use df count to get the row count, df columns to get the list of columns and we can take the length of df columns to get the number of columns!\n",
    "\n",
    "6. Checking Datatypes\n",
    "\n",
    "When we used Parquet, it set the data types for all of our fields which is a huge advantage over CSV. It's still worth checking especially if you weren't the one defining them! Here we can use dtypes on our dataframe to create a list of tuples containing a column name and its corresponding datatype.\n",
    "\n",
    "7. Let's Practice\n",
    "\n",
    "In this video, we learned about the data set we will be using and the problem we will be trying to solve. Additionally, we learned how to check to see if our data loaded properly by checking rows, columns, and datatypes! Now it's your turn to apply what you've learned in the exercises to verify that our data got loaded correctly!"
   ]
  },
  {
   "cell_type": "markdown",
   "id": "2b82cff1",
   "metadata": {},
   "source": [
    "### What are we predicting?\n",
    "Which of these fields (or columns) is the value we are trying to predict for?\n",
    "\n",
    "- `TAXES`\n",
    "- `SALESCLOSEPRICE`\n",
    "- `DAYSONMARKET`\n",
    "- `LISTPRICE`\n",
    "\n",
    "**Instructions**\n",
    "\n",
    "- From the listed columns above, identify which one we will use as our dependent variable `$Y$`.\n",
    "- Using the loaded data set `df`, filter it down to our dependent variable with `select()`. Store this dataframe in the variable `Y_df`.\n",
    "- Display summary statistics for the dependent variable using `describe()` on `Y_df` and calling `show()` to display it."
   ]
  },
  {
   "cell_type": "code",
   "execution_count": 12,
   "id": "84ff0685",
   "metadata": {},
   "outputs": [
    {
     "name": "stderr",
     "output_type": "stream",
     "text": [
      "\r",
      "[Stage 4:>                                                          (0 + 1) / 1]\r"
     ]
    },
    {
     "name": "stdout",
     "output_type": "stream",
     "text": [
      "+-------+------------------+\n",
      "|summary|   SALESCLOSEPRICE|\n",
      "+-------+------------------+\n",
      "|  count|              5000|\n",
      "|   mean|       262804.4668|\n",
      "| stddev|140559.82591998563|\n",
      "|    min|             48000|\n",
      "|    max|           1700000|\n",
      "+-------+------------------+\n",
      "\n"
     ]
    },
    {
     "name": "stderr",
     "output_type": "stream",
     "text": [
      "\r",
      "                                                                                \r"
     ]
    }
   ],
   "source": [
    "# Select our dependent variable\n",
    "Y_df = df.select(['SALESCLOSEPRICE'])\n",
    "\n",
    "# Display summary statistics\n",
    "Y_df.describe().show()"
   ]
  },
  {
   "cell_type": "markdown",
   "id": "2bd195f0",
   "metadata": {},
   "source": [
    "### Verifying Data Load\n",
    "Let's suppose each month you get a new file. You know to expect a certain number of records and columns. In this exercise we will create a function that will validate the file loaded.\n",
    "\n",
    "**Instructions**\n",
    "\n",
    "- Create a data validation function `check_load()` with parameters `df` a dataframe, `num_records` as the number of records and `num_columns` the number of columns.\n",
    "- Using `num_records` create a check to see if the input dataframe df has the same amount with `count()`.\n",
    "- Compare input number of columns the input dataframe has `withnum_columns` by using `len()` on columns.\n",
    "- If both of these return True, then print Validation Passed"
   ]
  },
  {
   "cell_type": "code",
   "execution_count": 13,
   "id": "a3737cf0",
   "metadata": {},
   "outputs": [
    {
     "name": "stdout",
     "output_type": "stream",
     "text": [
      "Validation Passed\n"
     ]
    }
   ],
   "source": [
    "def check_load(df, num_records, num_columns):\n",
    "    # Takes a dataframe and compares record and column counts to input\n",
    "    # Message to return if the critera below aren't met\n",
    "    message = 'Validation Failed'\n",
    "    # Check number of records\n",
    "    if num_records == df.count():\n",
    "    # Check number of columns\n",
    "        if num_columns == len(df.columns):\n",
    "        # Success message\n",
    "            message = 'Validation Passed'\n",
    "    return message\n",
    "\n",
    "# Print the data validation message\n",
    "print(check_load(df, 5000, 74))"
   ]
  },
  {
   "cell_type": "markdown",
   "id": "ccde9e4a",
   "metadata": {},
   "source": [
    "### Verifying DataTypes\n",
    "In the age of data we have access to more attributes than we ever had before. To handle all of them we will build a lot of automation but at a minimum requires that their datatypes be correct. In this exercise we will validate a dictionary of attributes and their datatypes to see if they are correct. This dictionary is stored in the variable `validation_dict` and is available in your workspace.\n",
    "\n",
    "**Instructions**\n",
    "\n",
    "- Using `df` create a list of attribute and datatype tuples with dtypes called `actual_dtypes_list`.\n",
    "- Iterate through `actual_dtypes_list`, checking if the column names exist in the dictionary of expected dtypes `validation_dict`.\n",
    "- For the keys that exist in the dictionary, check their dtypes and print those that match."
   ]
  },
  {
   "cell_type": "code",
   "execution_count": 14,
   "id": "5729d07e",
   "metadata": {},
   "outputs": [],
   "source": [
    "validation_dict = {'AssumableMortgage': 'string', 'SQFTBELOWGROUND': 'bigint', 'AssociationFee': 'bigint', 'AssessedValuation': 'double', 'ASSESSMENTPENDING': 'string'}"
   ]
  },
  {
   "cell_type": "code",
   "execution_count": 15,
   "id": "1fdca094",
   "metadata": {},
   "outputs": [
    {
     "data": {
      "text/plain": [
       "[('No.', 'int'),\n",
       " ('MLSID', 'string'),\n",
       " ('StreetNumberNumeric', 'int'),\n",
       " ('streetaddress', 'string'),\n",
       " ('STREETNAME', 'string'),\n",
       " ('PostalCode', 'int'),\n",
       " ('StateOrProvince', 'string'),\n",
       " ('City', 'string'),\n",
       " ('SalesClosePrice', 'int'),\n",
       " ('LISTDATE', 'string'),\n",
       " ('LISTPRICE', 'int'),\n",
       " ('LISTTYPE', 'string'),\n",
       " ('OriginalListPrice', 'int'),\n",
       " ('PricePerTSFT', 'double'),\n",
       " ('FOUNDATIONSIZE', 'int'),\n",
       " ('FENCE', 'string'),\n",
       " ('MapLetter', 'string'),\n",
       " ('LotSizeDimensions', 'string'),\n",
       " ('SchoolDistrictNumber', 'string'),\n",
       " ('DAYSONMARKET', 'int'),\n",
       " ('offmarketdate', 'string'),\n",
       " ('Fireplaces', 'int'),\n",
       " ('RoomArea4', 'string'),\n",
       " ('roomtype', 'string'),\n",
       " ('ROOF', 'string'),\n",
       " ('RoomFloor4', 'string'),\n",
       " ('PotentialShortSale', 'string'),\n",
       " ('PoolDescription', 'string'),\n",
       " ('PDOM', 'int'),\n",
       " ('GarageDescription', 'string'),\n",
       " ('SQFTABOVEGROUND', 'int'),\n",
       " ('Taxes', 'int'),\n",
       " ('RoomFloor1', 'string'),\n",
       " ('RoomArea1', 'string'),\n",
       " ('TAXWITHASSESSMENTS', 'double'),\n",
       " ('TAXYEAR', 'int'),\n",
       " ('LivingArea', 'int'),\n",
       " ('UNITNUMBER', 'string'),\n",
       " ('YEARBUILT', 'int'),\n",
       " ('ZONING', 'string'),\n",
       " ('STYLE', 'string'),\n",
       " ('ACRES', 'double'),\n",
       " ('CoolingDescription', 'string'),\n",
       " ('APPLIANCES', 'string'),\n",
       " ('backonmarketdate', 'int'),\n",
       " ('ROOMFAMILYCHAR', 'string'),\n",
       " ('RoomArea3', 'string'),\n",
       " ('EXTERIOR', 'string'),\n",
       " ('RoomFloor3', 'string'),\n",
       " ('RoomFloor2', 'string'),\n",
       " ('RoomArea2', 'string'),\n",
       " ('DiningRoomDescription', 'string'),\n",
       " ('BASEMENT', 'string'),\n",
       " ('BathsFull', 'int'),\n",
       " ('BathsHalf', 'int'),\n",
       " ('BATHQUARTER', 'int'),\n",
       " ('BATHSTHREEQUARTER', 'double'),\n",
       " ('Class', 'string'),\n",
       " ('BATHSTOTAL', 'int'),\n",
       " ('BATHDESC', 'string'),\n",
       " ('RoomArea5', 'string'),\n",
       " ('RoomFloor5', 'string'),\n",
       " ('RoomArea6', 'string'),\n",
       " ('RoomFloor6', 'string'),\n",
       " ('RoomArea7', 'string'),\n",
       " ('RoomFloor7', 'string'),\n",
       " ('RoomArea8', 'string'),\n",
       " ('RoomFloor8', 'string'),\n",
       " ('Bedrooms', 'int'),\n",
       " ('SQFTBELOWGROUND', 'int'),\n",
       " ('AssumableMortgage', 'string'),\n",
       " ('AssociationFee', 'int'),\n",
       " ('ASSESSMENTPENDING', 'string'),\n",
       " ('AssessedValuation', 'double')]"
      ]
     },
     "execution_count": 15,
     "metadata": {},
     "output_type": "execute_result"
    }
   ],
   "source": [
    "df.dtypes"
   ]
  },
  {
   "cell_type": "code",
   "execution_count": 16,
   "id": "3938f536",
   "metadata": {},
   "outputs": [
    {
     "name": "stdout",
     "output_type": "stream",
     "text": [
      "AssumableMortgage has expected dtype.\n",
      "ASSESSMENTPENDING has expected dtype.\n",
      "AssessedValuation has expected dtype.\n"
     ]
    }
   ],
   "source": [
    "# create list of actual dtypes to check\n",
    "actual_dtypes_list = df.dtypes\n",
    "#print(actual_dtypes_list)\n",
    "\n",
    "# Iterate through the list of actual dtypes tuples\n",
    "for attribute_tuple in actual_dtypes_list:\n",
    "  \n",
    "    # Check if column name is dictionary of expected dtypes\n",
    "    col_name = attribute_tuple[0]\n",
    "    if col_name in validation_dict.keys():\n",
    "\n",
    "        # Compare attribute types\n",
    "        col_type = attribute_tuple[1]\n",
    "        if col_type == validation_dict[col_name]:\n",
    "            print(col_name + ' has expected dtype.')"
   ]
  },
  {
   "cell_type": "markdown",
   "id": "77c5c8f0",
   "metadata": {},
   "source": [
    "#### Should be\n",
    "- **SQFTBELOWGROUND has expected dtype.**\n",
    "- AssumableMortgage has expected dtype.\n",
    "- **AssociationFee has expected dtype.**\n",
    "- ASSESSMENTPENDING has expected dtype.\n",
    "- AssessedValuation has expected dtype."
   ]
  },
  {
   "cell_type": "code",
   "execution_count": 17,
   "id": "e1ceee8e",
   "metadata": {},
   "outputs": [
    {
     "name": "stdout",
     "output_type": "stream",
     "text": [
      "[('No.', 'int'), ('MLSID', 'string'), ('StreetNumberNumeric', 'int'), ('streetaddress', 'string'), ('STREETNAME', 'string'), ('PostalCode', 'int'), ('StateOrProvince', 'string'), ('City', 'string'), ('SalesClosePrice', 'int'), ('LISTDATE', 'string'), ('LISTPRICE', 'int'), ('LISTTYPE', 'string'), ('OriginalListPrice', 'int'), ('PricePerTSFT', 'double'), ('FOUNDATIONSIZE', 'int'), ('FENCE', 'string'), ('MapLetter', 'string'), ('LotSizeDimensions', 'string'), ('SchoolDistrictNumber', 'string'), ('DAYSONMARKET', 'int'), ('offmarketdate', 'string'), ('Fireplaces', 'int'), ('RoomArea4', 'string'), ('roomtype', 'string'), ('ROOF', 'string'), ('RoomFloor4', 'string'), ('PotentialShortSale', 'string'), ('PoolDescription', 'string'), ('PDOM', 'int'), ('GarageDescription', 'string'), ('SQFTABOVEGROUND', 'int'), ('Taxes', 'int'), ('RoomFloor1', 'string'), ('RoomArea1', 'string'), ('TAXWITHASSESSMENTS', 'double'), ('TAXYEAR', 'int'), ('LivingArea', 'int'), ('UNITNUMBER', 'string'), ('YEARBUILT', 'int'), ('ZONING', 'string'), ('STYLE', 'string'), ('ACRES', 'double'), ('CoolingDescription', 'string'), ('APPLIANCES', 'string'), ('backonmarketdate', 'int'), ('ROOMFAMILYCHAR', 'string'), ('RoomArea3', 'string'), ('EXTERIOR', 'string'), ('RoomFloor3', 'string'), ('RoomFloor2', 'string'), ('RoomArea2', 'string'), ('DiningRoomDescription', 'string'), ('BASEMENT', 'string'), ('BathsFull', 'int'), ('BathsHalf', 'int'), ('BATHQUARTER', 'int'), ('BATHSTHREEQUARTER', 'double'), ('Class', 'string'), ('BATHSTOTAL', 'int'), ('BATHDESC', 'string'), ('RoomArea5', 'string'), ('RoomFloor5', 'string'), ('RoomArea6', 'string'), ('RoomFloor6', 'string'), ('RoomArea7', 'string'), ('RoomFloor7', 'string'), ('RoomArea8', 'string'), ('RoomFloor8', 'string'), ('Bedrooms', 'int'), ('SQFTBELOWGROUND', 'int'), ('AssumableMortgage', 'string'), ('AssociationFee', 'int'), ('ASSESSMENTPENDING', 'string'), ('AssessedValuation', 'double')]\n"
     ]
    }
   ],
   "source": [
    "print(actual_dtypes_list)"
   ]
  },
  {
   "cell_type": "markdown",
   "id": "3b869e3e",
   "metadata": {},
   "source": [
    "## Visually Inspecting Data / EDA\n",
    "1. Visually Inspecting Data\n",
    "\n",
    "Data comes in all shapes and sizes. In the field, you will be tasked with using less than perfect data. This means you will need to understand its strengths, weaknesses, and limitations to leverage it effectively.\n",
    "\n",
    "2. Getting Descriptive with DataFrame.describe()\n",
    "\n",
    "To get started with understanding your data take a peek at each column to see what they contain. The describe function provides some bare bones basics of Count, Mean, Std Dev, Min and Max. You can run it on the whole dataframe, a single column or a list of columns. Remember to add show to the end if you wish to immediately display results.\n",
    "\n",
    "3. Many descriptive functions are already available\n",
    "\n",
    "To further help us understand our data, Pyspark has many built-in descriptive functions available.\n",
    "\n",
    "4. Example with mean()\n",
    "\n",
    "The Mean function is considered an aggregate function and as such needs to be passed to the agg method along with the column to run it on as a dictionary. Spark uses lazy evaluation, meaning that it waits to execute code until a specific type of command, called an action forces it to. To force it to return the results immediately, use the collect function.\n",
    "\n",
    "5. Example with cov()\n",
    "\n",
    "Covariance is a function that let's us see how two variables vary together. This function is applied to a dataframe and takes two numeric columns and returns a value.\n",
    "\n",
    "6. seaborn: statistical data visualization\n",
    "\n",
    "An excellent way to explore your data is through statistical plotting. Seaborn is a Python data visualization library designed specifically for this. We will look at a few plotting examples but there are many, many more for you to follow up on.\n",
    "\n",
    "7. Notes on plotting\n",
    "\n",
    "We can plot data using non-Spark libraries like Seaborn but they require converting your pySpark DataFrame to a Pandas DataFrame. Be aware that converting large datasets can cause Pandas to crash. This is because PySpark is made for massive datasets, where pandas is not. The Sample function can help us get a smaller dataset to plot. Here, we will keep sampling with replacement off, take 50% of the data and set a random seed for reproducibility. Using count shows us that the number of records has changed.\n",
    "\n",
    "8. Prepping for plotting a distribution\n",
    "\n",
    "We will leverage Seaborn's distplot which will show us the distribution of our dependent variable 'SalesClosePrice'. Please note there are many optional parameters which aren't covered here. Here we import seaborn, then filter the Spark DataFrame down to the SalesClosePrice column and sample it. Then we convert it into a pandas dataframe so we can use it with Seaborn. Lastly, call the distplot function with pandas underscore df to plot.\n",
    "\n",
    "9. Distribution plot of sales closing price\n",
    "\n",
    "After plotting we can we can see that most of the data is pushed to the left, something that may need to be remedied depending on the model type we choose. We will cover one option, log scaling, in 'Adjusting Data' later in this course.\n",
    "\n",
    "10. Relationship plotting\n",
    "\n",
    "Another great plot to use is lmplot. lm is short for linear model and allows us to quickly see if there is a linear relationship between two variables. For this example, we will look at how 'SalesClosePrice' changes depending on 'SQFTABOVEGROUND'. To do this we will import seaborn, filter our dataset to the two columns, sample it and then convert it to a pandas DataFrame. Lastly, use the sns lmplot function with our x and y columns and dataframe.\n",
    "\n",
    "11. Linear model plot between SQFT above ground and sales price\n",
    "\n",
    "Here we can see there is what looks to be a strong relationship between the size of a home and the price it sells for. Therefore we might make the assumption that SQFTABOVEGROUND is a good variable to consider in predicting house prices!\n",
    "\n",
    "12. Let's practice!\n",
    "\n",
    "In this video, we explored our data with numerical summaries and visualizations. Now it's your turn to try them out!"
   ]
  },
  {
   "cell_type": "markdown",
   "id": "06473232",
   "metadata": {},
   "source": [
    "## Using Corr()\n",
    "The old adage 'Correlation does not imply Causation' is a cautionary tale. However, correlation does give us a good nudge to know where to start looking promising features to use in our models. Use this exercise to get a feel for searching through your data for the first time, trying to find patterns.\n",
    "\n",
    "A list called `columns` containing column names has been created for you. In this exercise you will compute the correlation between those `columns` and `'SALESCLOSEPRICE'`, and find the maximum.\n",
    "\n",
    "**Instructions**\n",
    "\n",
    "- Use a `for` loop iterate through the `columns`.\n",
    "- In each loop cycle, compute the correlation between the current column and `'SALESCLOSEPRICE'` using the `corr()` method.\n",
    "- Create logic to update the maximum observed correlation and with which column.\n",
    "- Print out the name of the column that has the maximum correlation with `'SALESCLOSEPRICE'`."
   ]
  },
  {
   "cell_type": "code",
   "execution_count": 18,
   "id": "a6be6051",
   "metadata": {},
   "outputs": [],
   "source": [
    "columns = ['FOUNDATIONSIZE', 'DAYSONMARKET', 'FIREPLACES', 'PDOM', 'SQFTABOVEGROUND', 'TAXES', 'TAXWITHASSESSMENTS', 'TAXYEAR', 'LIVINGAREA', 'YEARBUILT', 'ACRES', 'BACKONMARKETDATE', 'BATHSFULL', 'BATHSHALF', 'BATHQUARTER', 'BATHSTHREEQUARTER', 'BATHSTOTAL', 'BEDROOMS', 'SQFTBELOWGROUND', 'ASSOCIATIONFEE', 'ASSESSEDVALUATION']\n"
   ]
  },
  {
   "cell_type": "code",
   "execution_count": 19,
   "id": "71bf7a97",
   "metadata": {},
   "outputs": [
    {
     "name": "stdout",
     "output_type": "stream",
     "text": [
      "LIVINGAREA\n"
     ]
    }
   ],
   "source": [
    "# Name and value of col with max corr\n",
    "corr_max = 0\n",
    "corr_max_col = columns[0]\n",
    "\n",
    "# Loop to check all columns contained in list\n",
    "for col in columns:\n",
    "    # Check the correlation of a pair of columns\n",
    "    corr_val = df.corr(col, 'SALESCLOSEPRICE')\n",
    "    # Logic to compare corr_max with current corr_val\n",
    "    if corr_val > corr_max:\n",
    "        # Update the column name and corr value\n",
    "        corr_max = corr_val\n",
    "        corr_max_col = col\n",
    "\n",
    "print(corr_max_col)"
   ]
  },
  {
   "cell_type": "markdown",
   "id": "d76d85a7",
   "metadata": {},
   "source": [
    "### Using Visualizations: distplot\n",
    "Understanding the distribution of our dependent variable is very important and can impact the type of model or preprocessing we do. A great way to do this is to plot it, however plotting is not a built in function in PySpark, we will need to take some intermediary steps to make sure it works correctly. In this exercise you will visualize the variable the `'LISTPRICE'` variable, and you will gain more insights on its distribution by computing the skewness.\n",
    "\n",
    "The `matplotlib.pyplot` and `seaborn` packages have been imported for you with aliases `plt` and `sns`.\n",
    "\n",
    "**Instructions**\n",
    "\n",
    "- Sample 50% of the dataframe `df` with `sample()` making sure to not use replacement and setting the random seed to 42.\n",
    "- Convert the Spark `DataFrame` to a `pandas.DataFrame()` with `toPandas()`.\n",
    "- Plot a distribution plot using seaborn's `distplot()` method.\n",
    "- Import the `skewness()` function from `pyspark.sql.functions` and compute it on the aggregate of the `'LISTPRICE'` column with the `agg()` method. Remember to `collect()` your result to evaluate the computation. "
   ]
  },
  {
   "cell_type": "code",
   "execution_count": 20,
   "id": "566634e0",
   "metadata": {},
   "outputs": [],
   "source": [
    "from matplotlib import pyplot as plt\n",
    "import seaborn as sns"
   ]
  },
  {
   "cell_type": "code",
   "execution_count": 21,
   "id": "ecaea011",
   "metadata": {},
   "outputs": [
    {
     "name": "stderr",
     "output_type": "stream",
     "text": [
      "/tmp/ipykernel_83945/4078765244.py:6: UserWarning: \n",
      "\n",
      "`distplot` is a deprecated function and will be removed in seaborn v0.14.0.\n",
      "\n",
      "Please adapt your code to use either `displot` (a figure-level function with\n",
      "similar flexibility) or `histplot` (an axes-level function for histograms).\n",
      "\n",
      "For a guide to updating your code to use the new functions, please see\n",
      "https://gist.github.com/mwaskom/de44147ed2974457ad6372750bbe5751\n",
      "\n",
      "  sns.distplot(pandas_df)\n"
     ]
    },
    {
     "data": {
      "image/png": "[encoded data removed]",
      "text/plain": [
       "<Figure size 640x480 with 1 Axes>"
      ]
     },
     "metadata": {},
     "output_type": "display_data"
    },
    {
     "name": "stdout",
     "output_type": "stream",
     "text": [
      "[Row(skewness(LISTPRICE)=2.790448093916559)]\n"
     ]
    }
   ],
   "source": [
    "# Select a single column and sample and convert to pandas\n",
    "sample_df = df.select(['LISTPRICE']).sample(False, .5, 42)\n",
    "pandas_df = sample_df.toPandas()\n",
    "\n",
    "# Plot distribution of pandas_df and display plot\n",
    "sns.distplot(pandas_df)\n",
    "plt.show();\n",
    "\n",
    "# Import skewness function\n",
    "from pyspark.sql.functions import skewness\n",
    "\n",
    "# Compute and print skewness of LISTPRICE\n",
    "print(df.agg({'LISTPRICE': 'skewness'}).collect())"
   ]
  },
  {
   "cell_type": "code",
   "execution_count": 22,
   "id": "073f536d",
   "metadata": {},
   "outputs": [
    {
     "name": "stderr",
     "output_type": "stream",
     "text": [
      "/mnt/Data/anaconda3/lib/python3.10/site-packages/seaborn/axisgrid.py:118: UserWarning: The figure layout has changed to tight\n",
      "  self._figure.tight_layout(*args, **kwargs)\n"
     ]
    },
    {
     "data": {
      "image/png": "[encoded data removed]",
      "text/plain": [
       "<Figure size 619.875x500 with 1 Axes>"
      ]
     },
     "metadata": {},
     "output_type": "display_data"
    }
   ],
   "source": [
    "sns.displot(pandas_df)\n",
    "plt.show();"
   ]
  },
  {
   "cell_type": "code",
   "execution_count": 23,
   "id": "2140e39c",
   "metadata": {},
   "outputs": [
    {
     "data": {
      "image/png": "[encoded data removed]",
      "text/plain": [
       "<Figure size 640x480 with 1 Axes>"
      ]
     },
     "metadata": {},
     "output_type": "display_data"
    }
   ],
   "source": [
    "sns.histplot(pandas_df)\n",
    "plt.show()"
   ]
  },
  {
   "cell_type": "markdown",
   "id": "ee2e3f28",
   "metadata": {},
   "source": [
    "### Using Visualizations: lmplot\n",
    "Creating linear model plots helps us visualize if variables have relationships with the dependent variable. If they do they are good candidates to include in our analysis. If they don't it doesn't mean that we should throw them out, it means we may have to process or wrangle them before they can be used.\n",
    "\n",
    "`seaborn` is available in your workspace with the customary alias `sns`.\n",
    "\n",
    "**Instructions**\n",
    "\n",
    "- Using the loaded data set df filter it down to the columns `'SALESCLOSEPRICE'` and `'LIVINGAREA'` with `select()`.\n",
    "- Sample 50% of the dataframe with `sample()` making sure to not use replacement and setting the random seed to 42.\n",
    "- Convert the Spark DataFrame to a `pandas.DataFrame()` with `toPandas()`.\n",
    "- Using `'SALESCLOSEPRICE'` as your dependent variable and `'LIVINGAREA'` as your independent, plot a linear model plot using seaborn `lmplot()`."
   ]
  },
  {
   "cell_type": "code",
   "execution_count": 24,
   "id": "a7ce887f",
   "metadata": {},
   "outputs": [
    {
     "name": "stderr",
     "output_type": "stream",
     "text": [
      "/mnt/Data/anaconda3/lib/python3.10/site-packages/seaborn/axisgrid.py:118: UserWarning: The figure layout has changed to tight\n",
      "  self._figure.tight_layout(*args, **kwargs)\n"
     ]
    },
    {
     "data": {
      "image/png": "[encoded data removed]",
      "text/plain": [
       "<Figure size 500x500 with 1 Axes>"
      ]
     },
     "metadata": {},
     "output_type": "display_data"
    }
   ],
   "source": [
    "# Select a the relevant columns and sample\n",
    "sample_df = df.select(['SALESCLOSEPRICE', 'LIVINGAREA']).sample(False, 0.5, 42)\n",
    "\n",
    "# Convert to pandas dataframe\n",
    "pandas_df = sample_df.toPandas()\n",
    "\n",
    "# Linear model plot of pandas_df\n",
    "sns.lmplot(x='LIVINGAREA', y='SALESCLOSEPRICE', data=pandas_df)\n",
    "plt.show();"
   ]
  },
  {
   "cell_type": "markdown",
   "id": "c35837d6",
   "metadata": {},
   "source": [
    "# Wrangling with Spark Functions"
   ]
  },
  {
   "cell_type": "markdown",
   "id": "e5fc287a",
   "metadata": {},
   "source": [
    "## Dropping data\n",
    "\n",
    "1. Dropping Data\n",
    "\n",
    "More data is better right? Not if its bad data! The saying \"garbage in, garbage out\" is doubly true in data science!\n",
    "\n",
    "2. Where can data go bad?\n",
    "\n",
    "Data has a lot of places where it can get messed up. Data may be recorded incorrectly or contain extreme events. Inconsistent formatting such as mixing numeric and text data can make a field hard to use. Duplications can add redundant observations. Missing data can cause your analysis to have blind spots. Lastly, sometimes the data is just not relevant to the analysis. Failure to account for bad data can set your analysis up to fail. Please be careful!\n",
    "\n",
    "3. Dropping Columns\n",
    "\n",
    "Inspecting our data we can see there are some columns that are not worth including in our analysis. NO is just the record number, UNITNUMBER is the apartment or house number, and CLASS is completely constant.\n",
    "\n",
    "4. Dropping Columns\n",
    "\n",
    "Dropping the columns requires entering a single column name or passing a list of columns to drop. Here we pass a list called cols_to_drop to the function and then drop them. Please note the star, which tells the function to unpack the list and feed them to the function one by one.\n",
    "\n",
    "5. Text Filtering\n",
    "\n",
    "A common task in cleaning your data will be filtering it. Here we will filter records that contain specific text values. Where applies the filter to the dataframe records. Like creates a True/False condition for the records. The Tilde provides a way to take the opposite, or a NOT. The PySpark code reads: Filter the dataframe where the POTENTIALSHORTSALE field is NOT like the string 'Not Disclosed'\n",
    "\n",
    "6. Outlier Filtering\n",
    "\n",
    "For an initial pass at the model, it might be helpful to remove large outliers. One definition of an outlier for near normally distributed data is something that occurs more than 3 standard deviations from the mean, only 0-point-3% of data should be filtered. Remember outliers occur on both sides, so filter on both sides of the mean!\n",
    "\n",
    "7. Value Filtering Example\n",
    "\n",
    "Here we will filter extreme values from the LISTPRICE column. To start, we will use the aggregate functions standard deviation and mean. Then use collect to force the calculation to run and use the zero, zero index to access the values. Lastly we created a multi-conditional filter, which is just two boolean statements ANDed together. It reads, filter where the LISTPRICE is less than the hi_bound and more than the low_bound.\n",
    "\n",
    "8. Dropping NA's or NULLs\n",
    "\n",
    "Dealing with missing data is something we will cover later as dropping data is usually a naive approach. Nevertheless, it is important to sometimes take shortcuts to quickly prove out the basis for further work. Dropna does what you'd expect it to do. In its basic form, it will remove a record where there is any null value in any column. You can get more specific as we'll see on the next slide.\n",
    "\n",
    "9. Dropping NA's or NULLs\n",
    "\n",
    "In the first example, we drop any record contains a NULL value. The second example we will look at only two columns and if both are NULL then we will remove the record. Lastly, we can apply a threshold across all the columns and say if more than two columns contain NULL values, remove the entire record.\n",
    "\n",
    "10. Dropping Duplicates\n",
    "\n",
    "Duplicates occur when two or more records contain the exact same information. Often this can happen after you drop columns or join datasets. dropDuplicates will drop the first duplicate it finds. Since Spark is distributed, which one it finds first may or may not be in the order of how your file was loaded. If you want to be more picky about where you are looking for duplicates you can specify a list of column names to look for them there specifically.\n",
    "\n",
    "11. Let's practice!\n",
    "\n",
    "In this video, we learned why we might have bad data and several ways to remove it so it doesn't adversely impact our analysis. Let's see you take a shot at removing some data in the exercises!\n",
    "\n"
   ]
  },
  {
   "cell_type": "markdown",
   "id": "66d4fe02",
   "metadata": {},
   "source": [
    "### Dropping a list of columns\n",
    "Our data set is rich with a lot of features, but not all are valuable. We have many that are going to be hard to wrangle into anything useful. For now, let's remove any columns that aren't immediately useful by dropping them.\n",
    "\n",
    "- `'STREETNUMBERNUMERIC'`: The postal address number on the home\n",
    "- `'FIREPLACES'`: Number of Fireplaces in the home\n",
    "- `'LOTSIZEDIMENSIONS'`: Free text describing the lot shape\n",
    "- `'LISTTYPE'`: Set list of values of sale type\n",
    "- `'ACRES'`: Numeric area of lot size\n",
    "\n",
    "'**Instructions**\n",
    "\n",
    "- Read the list of column descriptions above and explore their top 30 values with `how()`, the dataframe is already filtered to the listed columns as `df`\n",
    "- Create a list of two columns to drop based on their lack of relevance to predicting house prices called `cols_to_drop`. Recall that computers only interpret numbers explicitly and don't understand context.\n",
    "- Use the `drop()` function to remove the columns in the list `cols_to_drop` from the dataframe `df`."
   ]
  },
  {
   "cell_type": "code",
   "execution_count": 25,
   "id": "369cd403",
   "metadata": {
    "scrolled": true
   },
   "outputs": [
    {
     "name": "stdout",
     "output_type": "stream",
     "text": [
      "+-------------------+----------+-----------------+---------------+-----+\n",
      "|STREETNUMBERNUMERIC|FIREPLACES|LOTSIZEDIMENSIONS|       LISTTYPE|ACRES|\n",
      "+-------------------+----------+-----------------+---------------+-----+\n",
      "|              11511|         0|          279X200|Exclusive Right| 1.28|\n",
      "|              11200|         0|          100x140|Exclusive Right| 0.32|\n",
      "|               8583|         0|          120x296|Exclusive Right|0.822|\n",
      "|               9350|         1|          208X208|Exclusive Right| 0.94|\n",
      "|               2915|         1|          116x200|Exclusive Right|  0.0|\n",
      "+-------------------+----------+-----------------+---------------+-----+\n",
      "only showing top 5 rows\n",
      "\n"
     ]
    }
   ],
   "source": [
    "# backup the original DF and select only the columns needed in the practise \n",
    "df_full = df\n",
    "cols_remaining = ['STREETNUMBERNUMERIC','FIREPLACES','LOTSIZEDIMENSIONS', 'LISTTYPE', 'ACRES']\n",
    "df = df.select(cols_remaining)\n",
    "df.show(5)"
   ]
  },
  {
   "cell_type": "code",
   "execution_count": 26,
   "id": "16ec37d0",
   "metadata": {},
   "outputs": [
    {
     "name": "stdout",
     "output_type": "stream",
     "text": [
      "+-------------------+----------+--------------------+---------------+-----+\n",
      "|STREETNUMBERNUMERIC|FIREPLACES|   LOTSIZEDIMENSIONS|       LISTTYPE|ACRES|\n",
      "+-------------------+----------+--------------------+---------------+-----+\n",
      "|              11511|         0|             279X200|Exclusive Right| 1.28|\n",
      "|              11200|         0|             100x140|Exclusive Right| 0.32|\n",
      "|               8583|         0|             120x296|Exclusive Right|0.822|\n",
      "|               9350|         1|             208X208|Exclusive Right| 0.94|\n",
      "|               2915|         1|             116x200|Exclusive Right|  0.0|\n",
      "|               3604|         1|              50x150|Exclusive Right|0.172|\n",
      "|               9957|         0|              common|Exclusive Right| 0.05|\n",
      "|               9934|         0|              common|Exclusive Right| 0.05|\n",
      "|               9926|         0|              common|Exclusive Right| 0.05|\n",
      "|               9928|         0|              common|Exclusive Right| 0.05|\n",
      "|               9902|         0|              common|Exclusive Right| 0.05|\n",
      "|               9904|         0|              common|Exclusive Right| 0.05|\n",
      "|               9894|         0|              common|Exclusive Right| 0.05|\n",
      "|               9892|         0|              COMMON|Exclusive Right| 0.05|\n",
      "|               9295|         1|261 x 293 x 287 x...|Exclusive Right|1.661|\n",
      "|               9930|         0|               36X32|Exclusive Right| 0.05|\n",
      "|               9898|         0|               36X32|Exclusive Right| 0.05|\n",
      "|               9924|         0|              COMMON|Exclusive Right| 0.05|\n",
      "|               9906|         0|              COMMON|Exclusive Right| 0.05|\n",
      "|               9938|         0|              COMMON|Exclusive Right| 0.05|\n",
      "|               9795|         1|               32X60|Exclusive Right| 0.04|\n",
      "|               9797|         1|               32X60|Exclusive Right| 0.04|\n",
      "|               8909|         2|             125x150|Exclusive Right| 0.43|\n",
      "|               3597|         2|             100x250|Exclusive Right|0.574|\n",
      "|               8656|         1|     151x158x130x151|Exclusive Right|0.498|\n",
      "|               9775|         1|               36X32|Exclusive Right| 0.04|\n",
      "|               8687|         2|                   -|Exclusive Right| 1.03|\n",
      "|               8367|         0|             285x305|Exclusive Right|1.995|\n",
      "|               2866|         0|           Irregular|Exclusive Right| 0.72|\n",
      "|               9793|         1|               42x60|Exclusive Right| 0.06|\n",
      "+-------------------+----------+--------------------+---------------+-----+\n",
      "only showing top 30 rows\n",
      "\n"
     ]
    }
   ],
   "source": [
    "# Show top 30 records\n",
    "df.show(30)\n",
    "\n",
    "# List of columns to remove from dataset\n",
    "cols_to_drop = ['STREETNUMBERNUMERIC', 'LOTSIZEDIMENSIONS']\n",
    "\n",
    "# Drop columns in list\n",
    "df = df.drop(*cols_to_drop)"
   ]
  },
  {
   "cell_type": "markdown",
   "id": "9e781038",
   "metadata": {},
   "source": [
    "### Using text filters to remove records\n",
    "It pays to have to ask your clients lots of questions and take time to understand your variables. You find out that Assumable mortgage is an unusual occurrence in the real estate industry and your client suggests you exclude them. In this exercise we will use `isin()` which is similar to `like()` but allows us to pass a list of values to use as a filter rather than a single one.\n",
    "\n",
    "**Instructions**\n",
    "\n",
    "- Use `select()` and `show()` to inspect the distinct values in the column `'ASSUMABLEMORTGAGE'` and create the list `yes_values` for all the values containing the string `'Yes'`.\n",
    "- Use `~df['ASSUMABLEMORTGAGE']`, `isin()`, and `.isNull()` to create a NOT filter to remove records containing corresponding values in the list `yes_values` and to keep records with null values. Store this filter in the variable `text_filter`.\n",
    "- Use `where()` to apply the `text_filter` to `df`.\n",
    "- Print out the number of records remaining in `df`."
   ]
  },
  {
   "cell_type": "code",
   "execution_count": 27,
   "id": "b49b304f",
   "metadata": {},
   "outputs": [
    {
     "name": "stdout",
     "output_type": "stream",
     "text": [
      "+-------------------+\n",
      "|  ASSUMABLEMORTGAGE|\n",
      "+-------------------+\n",
      "|  Yes w/ Qualifying|\n",
      "| Information Coming|\n",
      "|               null|\n",
      "|Yes w/No Qualifying|\n",
      "|      Not Assumable|\n",
      "+-------------------+\n",
      "\n"
     ]
    }
   ],
   "source": [
    "#Return back to the full DF using the backup\n",
    "df= df_full\n",
    "# Inspect unique values in the column 'ASSUMABLEMORTGAGE'\n",
    "df.select(['ASSUMABLEMORTGAGE']).distinct().show()"
   ]
  },
  {
   "cell_type": "code",
   "execution_count": 28,
   "id": "ba69fad6",
   "metadata": {},
   "outputs": [
    {
     "name": "stdout",
     "output_type": "stream",
     "text": [
      "+-------------------+\n",
      "|  ASSUMABLEMORTGAGE|\n",
      "+-------------------+\n",
      "|  Yes w/ Qualifying|\n",
      "| Information Coming|\n",
      "|               null|\n",
      "|Yes w/No Qualifying|\n",
      "|      Not Assumable|\n",
      "+-------------------+\n",
      "\n",
      "4976\n"
     ]
    }
   ],
   "source": [
    "# Inspect unique values in the column 'ASSUMABLEMORTGAGE'\n",
    "df.select(['ASSUMABLEMORTGAGE']).distinct().show()\n",
    "\n",
    "# List of possible values containing 'yes'\n",
    "yes_values = ['Yes w/ Qualifying', 'Yes w/No Qualifying']\n",
    "\n",
    "# Filter the text values out of df but keep null values\n",
    "text_filter = ~df['ASSUMABLEMORTGAGE'].isin(yes_values) | df['ASSUMABLEMORTGAGE'].isNull()\n",
    "df = df.where(text_filter)\n",
    "\n",
    "# Print count of remaining records\n",
    "print(df.count())"
   ]
  },
  {
   "cell_type": "markdown",
   "id": "ad0b77e7",
   "metadata": {},
   "source": [
    "### Filtering numeric fields conditionally\n",
    "Again, understanding the context of your data is extremely important. We want to understand what a normal range of houses sell for. Let's make sure we exclude any outlier homes that have sold for significantly more or less than the average. Here we will calculate the mean and standard deviation and use them to filer the near normal field `log_SalesClosePrice`.\n",
    "\n",
    "**Instructions**\n",
    "\n",
    "- Import `mean()` and `stddev()` from `pyspark.sql.functions`.\n",
    "- Use `agg()` to calculate the mean and standard deviation for `'log_SalesClosePrice'` with the imported functions.\n",
    "- Create the upper and lower bounds by taking `mean_val` +/- 3 times `stddev_val`.\n",
    "- Create a `where()` filter for `'log_SalesClosePrice'` using both `low_bound` and `hi_bound`."
   ]
  },
  {
   "cell_type": "code",
   "execution_count": 29,
   "id": "21ec3a45",
   "metadata": {},
   "outputs": [
    {
     "name": "stdout",
     "output_type": "stream",
     "text": [
      "+-------------------+\n",
      "|log_SalesClosePrice|\n",
      "+-------------------+\n",
      "| 11.870606902224587|\n",
      "| 12.154784614286667|\n",
      "| 12.323860125621126|\n",
      "| 12.487488878546145|\n",
      "| 12.428820118415677|\n",
      "+-------------------+\n",
      "only showing top 5 rows\n",
      "\n"
     ]
    }
   ],
   "source": [
    "#Create the log_SalesClosePrice as in the practise\n",
    "df= df_full\n",
    "#log10 and log2 seems not the rights ones, the log1p provided the correct  statistics \n",
    "#Docs https://spark.apache.org/docs/latest/api/python/reference/pyspark.sql/api/pyspark.sql.functions.log1p.html\n",
    "from pyspark.sql.functions import log1p\n",
    "df = df.withColumn('log_SalesClosePrice', log1p(df['SalesClosePrice']))\n",
    "df.columns\n",
    "df.select('log_SalesClosePrice').show(5)"
   ]
  },
  {
   "cell_type": "code",
   "execution_count": 30,
   "id": "82d75979",
   "metadata": {},
   "outputs": [
    {
     "name": "stdout",
     "output_type": "stream",
     "text": [
      "10.778977123006351 14.346139397261565\n",
      "12.369720943418447 0.454080629857895\n"
     ]
    }
   ],
   "source": [
    "#Make sure the statistics matches in the practise\n",
    "from pyspark.sql.functions import mean, stddev, min, max\n",
    "min_val = df.agg({'log_SalesClosePrice': 'min'}).collect()[0][0]\n",
    "max_val = df.agg({'log_SalesClosePrice': 'max'}).collect()[0][0]\n",
    "\n",
    "print(min_val,max_val)\n",
    "# Calculate values used for outlier filtering\n",
    "mean_val = df.agg({'log_SalesClosePrice': 'mean'}).collect()[0][0]\n",
    "stddev_val = df.agg({'log_SalesClosePrice': 'stddev'}).collect()[0][0]\n",
    "\n",
    "print(mean_val, stddev_val)"
   ]
  },
  {
   "cell_type": "code",
   "execution_count": 31,
   "id": "81c2df2d",
   "metadata": {},
   "outputs": [],
   "source": [
    "from pyspark.sql.functions import mean, stddev\n",
    "\n",
    "# Calculate values used for outlier filtering\n",
    "mean_val = df.agg({'log_SalesClosePrice': 'mean'}).collect()[0][0]\n",
    "stddev_val = df.agg({'log_SalesClosePrice': 'stddev'}).collect()[0][0]\n",
    "\n",
    "# Create three standard deviation (μ ± 3σ) lower and upper bounds for data\n",
    "low_bound = mean_val - (3 * stddev_val)\n",
    "hi_bound = mean_val + (3 * stddev_val)\n",
    "\n",
    "# Filter the data to fit between the lower and upper bounds\n",
    "df = df.where((df['log_SalesClosePrice'] < hi_bound) & (df['log_SalesClosePrice'] > low_bound))"
   ]
  },
  {
   "cell_type": "markdown",
   "id": "7cd81bc8",
   "metadata": {},
   "source": [
    "## Adjusting Data\n",
    "1. Adjusting Data\n",
    "\n",
    "Jeff Hooper of Bell labs once said, \"data does not give up its secrets easily, it must be tortured to confess.\" This lesson will arm you with the tools to get your data to behave.\n",
    "\n",
    "2. Why Transform Data?\n",
    "\n",
    "Real data is ugly and rarely comes ready to be analyzed. Many algorithms and statistical methods have assumptions that a variable conforms to. If our data doesn't fit these criteria all hope isn't lost yet, we can try mathematical operations to adjust the data to become the beautiful butterflies our methods require.\n",
    "\n",
    "3. What is MinMax Scaling\n",
    "\n",
    "One common transformation is scaling. For many algorithms like KNN or regression, you need to ensure all your variables are on the same scale. One variable can't be from -1000 to 5000 and another between point-01 and point-02, these algorithms will try to reduce the errors in the first variable much more than the second. We can avoid this by scaling each feature between 0 and 1. This is called Minmax scaling and doesn't change the shape of the distribution of only its range. To Minmax scale, take the variable to be scaled, subtract the minimum value and divide by the difference between the max and min.\n",
    "\n",
    "4. Minmax Scaling\n",
    "\n",
    "To scale our data we need to first find the min and max values of the column we want to scale. Here we are using aggregate functions min and max. We will use collect to force the calculation to run and use the zero, zero index to access the values. To create a new column we will use withColumn that creates a new column based off some sort of transformation to an existing one, in this case, DAYSONMARKET. Lastly, we can see that our values are now all between 0 and 1.\n",
    "\n",
    "5. What is Standardization?\n",
    "\n",
    "Another common restriction is that the data must closely follow the standard normal distribution. Standardization or z-transforming is the process of shifting and scaling your data to better resemble a standard normal distribution, which has mean of 0 and standard deviation 1. In the image, you can see how the original data in blue, shifts to the green where it has mean 0 and the final step scales it to the standard normal distribution in red.\n",
    "\n",
    "6. Standardization\n",
    "\n",
    "To z transform our data, we calculate the aggregate functions mean and std deviation of the column we are transforming. Since want to use the values in the next step we will use collect to immediately calculate them and use the index values of [0][0] to access the returned values. We can then apply the standardization formula to our column and put the results in a new column ztrans_days by using withColumn. Lastly, we can verify that the transformed data does have approximate mean 0 and std deviation of 1.\n",
    "\n",
    "7. What is Log Scaling\n",
    "\n",
    "Our data for SALESCLOSEPRICE is pushed to the left. This is called positive skew. One potential way to treat skewed data is to apply a log transformation on the data. This has the impact of making our data look more like a normal distribution.\n",
    "\n",
    "8. Log Scaling\n",
    "\n",
    "To apply a log transformation you will need to import the log function from pyspark sql functions. We can then create a new column log_SalesClosePrice based on the application of the log function on SALESCLOSEPRICE.\n",
    "\n",
    "9. Let's practice!\n",
    "\n",
    "In this video, you learned why and how to apply transformations to your data. Now its time for you to adjust some data!"
   ]
  },
  {
   "cell_type": "markdown",
   "id": "57b5da1c",
   "metadata": {},
   "source": [
    "### Custom Percentage Scaling\n",
    "In the slides we showed how to scale the data between 0 and 1. Sometimes you may wish to scale things differently for modeling or display purposes.\n",
    "\n",
    "**Instructions**\n",
    "\n",
    "- Calculate the max and min of `DAYSONMARKET` and put them into variables `max_days` and `min_days`, don't forget to use `collect()` on `agg()`.\n",
    "- Using `withColumn()` create a new column called `'percentagescaleddays'` based on `DAYSONMARKET`.\n",
    "- `percentage_scaled_days` should be a column of integers ranging from 0 to 100, use `round()` to get integers.\n",
    "- Print the `max()` and `min()` for the new column `percentage_scaled_days`."
   ]
  },
  {
   "cell_type": "code",
   "execution_count": 32,
   "id": "ab256e05",
   "metadata": {},
   "outputs": [],
   "source": [
    "from pyspark.sql.functions import round"
   ]
  },
  {
   "cell_type": "code",
   "execution_count": 33,
   "id": "4e86f286",
   "metadata": {},
   "outputs": [
    {
     "name": "stdout",
     "output_type": "stream",
     "text": [
      "[Row(min(percentage_scaled_days)=0.0)]\n",
      "[Row(max(percentage_scaled_days)=100.0)]\n"
     ]
    }
   ],
   "source": [
    "# Define max and min values and collect them\n",
    "max_days = df.agg({'DAYSONMARKET': 'max'}).collect()[0][0]\n",
    "min_days = df.agg({'DAYSONMARKET': 'min'}).collect()[0][0]\n",
    "\n",
    "# Create a new column based off the scaled data\n",
    "df = df.withColumn('percentage_scaled_days', \n",
    "                  round((df['DAYSONMARKET'] - min_days) / (max_days - min_days)) * 100)\n",
    "\n",
    "# Calc max and min for new column\n",
    "print(df.agg({'percentage_scaled_days': 'min'}).collect())\n",
    "print(df.agg({'percentage_scaled_days': 'max'}).collect())"
   ]
  },
  {
   "cell_type": "markdown",
   "id": "3e7bba4d",
   "metadata": {},
   "source": [
    "### Scaling your scalers\n",
    "In the previous exercise, we minmax scaled a single variable. Suppose you have a LOT of variables to scale, you don't want hundreds of lines to code for each. Let's expand on the previous exercise and make it a function.\n",
    "\n",
    "**Instructions**\n",
    "\n",
    "- Define a function called `min_max_scaler` that takes parameters df a dataframe and `cols_to_scale` the list of columns to scale.\n",
    "- Use a for loop to iterate through each column in the list and minmax scale them.\n",
    "- Return the dataframe df with the new columns added.\n",
    "- Apply the function `min_max_scaler()` on `df` and the list of columns `cols_to_scale`."
   ]
  },
  {
   "cell_type": "code",
   "execution_count": 34,
   "id": "8931a2af",
   "metadata": {},
   "outputs": [],
   "source": [
    "cols_to_scale = ['FOUNDATIONSIZE', 'DAYSONMARKET', 'FIREPLACES']"
   ]
  },
  {
   "cell_type": "code",
   "execution_count": 35,
   "id": "fe8f263e",
   "metadata": {},
   "outputs": [
    {
     "name": "stdout",
     "output_type": "stream",
     "text": [
      "+------------+--------------------+\n",
      "|DAYSONMARKET| scaled_DAYSONMARKET|\n",
      "+------------+--------------------+\n",
      "|          10|0.044444444444444446|\n",
      "|           4|0.017777777777777778|\n",
      "|          28| 0.12444444444444444|\n",
      "|          19| 0.08444444444444445|\n",
      "|          21| 0.09333333333333334|\n",
      "|          17| 0.07555555555555556|\n",
      "|          32| 0.14222222222222222|\n",
      "|           5|0.022222222222222223|\n",
      "|          23| 0.10222222222222223|\n",
      "|          73|  0.3244444444444444|\n",
      "|          80| 0.35555555555555557|\n",
      "|          79|  0.3511111111111111|\n",
      "|          12| 0.05333333333333334|\n",
      "|           1|0.004444444444444...|\n",
      "|          18|                0.08|\n",
      "|           2|0.008888888888888889|\n",
      "|          12| 0.05333333333333334|\n",
      "|          45|                 0.2|\n",
      "|          31| 0.13777777777777778|\n",
      "|          16| 0.07111111111111111|\n",
      "+------------+--------------------+\n",
      "only showing top 20 rows\n",
      "\n"
     ]
    }
   ],
   "source": [
    "def min_max_scaler(df, cols_to_scale):\n",
    "  # Takes a dataframe and list of columns to minmax scale. Returns a dataframe.\n",
    "    for col in cols_to_scale:\n",
    "        # Define min and max values and collect them\n",
    "        max_days = df.agg({col: 'max'}).collect()[0][0]\n",
    "        min_days = df.agg({col: 'min'}).collect()[0][0]\n",
    "        new_column_name = 'scaled_' + col\n",
    "        # Create a new column based off the scaled data\n",
    "        df = df.withColumn(new_column_name, \n",
    "                          (df[col] - min_days) / (max_days - min_days))\n",
    "    return df\n",
    "#print(cols_to_scale)\n",
    "df = min_max_scaler(df, cols_to_scale)\n",
    "# Show that our data is now between 0 and 1\n",
    "df[['DAYSONMARKET', 'scaled_DAYSONMARKET']].show()"
   ]
  },
  {
   "cell_type": "markdown",
   "id": "55910859",
   "metadata": {},
   "source": [
    "### Correcting Right Skew Data\n",
    "In the slides we showed how you might use log transforms to fix positively skewed data (data whose distribution is mostly to the left). To correct negative skew (data mostly to the right) you need to take an extra step called \"reflecting\" before you can apply the inverse of $\\log$, written as (1/ $\\log$) to make the data look more like normal a normal distribution. Reflecting data uses the following formula to reflect each value: \n",
    "$(x_{\\text{max}} +1) – x$.\n",
    "\n",
    "**Instructions**\n",
    "\n",
    "- Use the aggregate function `skewness()` to verify that `'YEARBUILT'` has negative skew.\n",
    "- Use the `withColumn()` to create a new column `'Reflect_YearBuilt'` and reflect the values of `'YEARBUILT'`.\n",
    "- Using `'Reflect_YearBuilt'` column, create another column `'adj_yearbuilt'` by taking `1/log()` of the values.\n",
    "\n"
   ]
  },
  {
   "cell_type": "code",
   "execution_count": 36,
   "id": "75371b8e",
   "metadata": {},
   "outputs": [],
   "source": [
    "from pyspark.sql.functions import skewness"
   ]
  },
  {
   "cell_type": "code",
   "execution_count": 37,
   "id": "d623b164",
   "metadata": {},
   "outputs": [
    {
     "name": "stdout",
     "output_type": "stream",
     "text": [
      "[Row(skewness(YEARBUILT)=-0.24797344910486546)]\n"
     ]
    }
   ],
   "source": [
    "from pyspark.sql.functions import log\n",
    "\n",
    "# Compute the skewness\n",
    "print(df.agg({'YEARBUILT': 'skewness'}).collect())\n",
    "\n",
    "# Calculate the max year\n",
    "max_year = df.agg({'YEARBUILT': 'max'}).collect()[0][0]\n",
    "\n",
    "# Create a new column of reflected data\n",
    "df = df.withColumn('Reflect_YearBuilt', (max_year + 1) - df['YEARBUILT'])\n",
    "\n",
    "# Create a new column based reflected data\n",
    "df = df.withColumn('adj_yearbuilt', 1 / log(df['Reflect_YearBuilt']))"
   ]
  },
  {
   "cell_type": "markdown",
   "id": "71d07bab",
   "metadata": {},
   "source": [
    "## Working with Missing Data\n",
    "1. Working with Missing Data\n",
    "\n",
    "Missing data is frustrating, in this lesson we will touch on a few ways to handle it.\n",
    "\n",
    "2. How does data go missing in the digital age?\n",
    "\n",
    "How does data go missing in the digital age? Sensors can fail, surveys can miss people or new ways to measure things can cause gaps in data sets. Data storage rules can force data that doesn't fit the specified type to be null. For example dates in different formats, abbreviations or a currency with a comma instead of a period. Joining datasets can enrich your model but can induce missing values if they are not at captured at the same granularity. If you combine daily data with monthly data, it will create gaps for all the days where the monthly data was not captured. Lastly, data can be missing intentionally, attributes used in combination might be enough to compromise privacy. This can be seen in government datasets like the census where they will omit data if there is a concern.\n",
    "\n",
    "3. Types of Missing\n",
    "\n",
    "Understanding why your data is missing is important. Missing Completely at Random occurs when the data is missing with no pattern. Your data is likely still representative of the whole population. Missing at Random occurs when the probability of missing data on the Y variable is unrelated to the value of Y. For example, suppose males are less likely to answer a depression survey; this has no relationship with their level of depression, after accounting for maleness. Missing not at random is when the value that is missing is related to the reason why it is missing. Supposing that people with severe health problems do not answer a question asking them to rank their health would indicate missing not at random.\n",
    "\n",
    "4. Assessing Missing Values\n",
    "\n",
    "Earlier we showed how to use the function dropna but we didn't talk about when to use it. If your data only has a few missing values and they are missing completely at random it may be fine to remove the rows. But how can we check to see how many missing values we have in our dataset though? We can use the isNull function. It returns true if the condition is true. Here we use it to filter our data to records where they are NULL and then count them.\n",
    "\n",
    "5. Plotting Missing Values\n",
    "\n",
    "We can also use seaborn to help us visualize missing values by leveraging the heatmap function. Using the same steps as before where we sample our data, convert it and then use seaborn to plot the heat map. Note we use pandas DataFrame isnull to convert the dataframe into a T/F for null values.\n",
    "\n",
    "6. Missing Values Heatmap\n",
    "\n",
    "Here we can see the missing values as white spaces in the chart.\n",
    "\n",
    "7. Imputation of Missing Values\n",
    "\n",
    "Another way to handle missing values is to replace them. The replacement value might be based on business rules such as missing sales means there were no sales and replace with 0. If the data is missing completely at random, it may make sense to impute them using the mean or the median. Another option could be to use interpolation, creating another model to predict the values. Replacing values shouldn't be done without some serious considerations; make sure you research the appropriateness.\n",
    "\n",
    "8. Imputation of Missing Values\n",
    "\n",
    "To replace missing values we will use pyspark's fillna which takes the value to use for replacement as well as a list of column names. Here we replace values with 0 We can also replace values with the mean by calculating it using an aggregate function and use collect to force the calculation immediately and then access the value by using the zero, zero index. Then col_mean only needs to be placed in the fillna function.\n",
    "\n",
    "9. Let's practice!\n",
    "\n",
    "In this video, you learned about types of missing data, how to assess missing values and some methods to treat them. Take some time to do the exercises and try out what you learned."
   ]
  },
  {
   "cell_type": "markdown",
   "id": "ebeab137",
   "metadata": {},
   "source": [
    "### Visualizing Missing Data\n",
    "Being able to plot missing values is a great way to quickly understand how much of your data is missing. It can also help highlight when variables are missing in a pattern something that will need to be handled with care lest your model be biased.\n",
    "\n",
    "Which variable has the most missing values? Run all lines of code except the last one to determine the answer. Once you're confident, and fill out the value and hit \"Submit Answer\".\n",
    "\n",
    "**Instructions**\n",
    "\n",
    "- Use `select()` to subset the dataframe df with the list of columns columns and Sample with the provided `sample()` function, and assign this dataframe to the variable `sample_df`.\n",
    "- Convert the Subset dataframe to a pandas dataframe `pandas_df`, and use pandas `isnull()` to convert it DataFrame into True/False. Store this result in `tf_df`.\n",
    "- Use seaborn's `heatmap()` to plot `tf_df`.\n",
    "- Hit \"Run Code\" to view the plot. Then assign the name of the variable with most missing values to `answer`."
   ]
  },
  {
   "cell_type": "code",
   "execution_count": 38,
   "id": "b889fa6d",
   "metadata": {},
   "outputs": [],
   "source": [
    "columns = ['APPLIANCES', 'BACKONMARKETDATE', 'ROOMFAMILYCHAR', 'BASEMENT', 'DININGROOMDESCRIPTION']"
   ]
  },
  {
   "cell_type": "code",
   "execution_count": 39,
   "id": "4eb4094f",
   "metadata": {},
   "outputs": [
    {
     "data": {
      "image/png": "[encoded data removed]",
      "text/plain": [
       "<Figure size 640x480 with 2 Axes>"
      ]
     },
     "metadata": {},
     "output_type": "display_data"
    }
   ],
   "source": [
    "# Sample the dataframe and convert to Pandas\n",
    "#print(columns)\n",
    "sample_df = df.select(columns).sample(False, 0.1, 42)\n",
    "pandas_df = sample_df.toPandas()\n",
    "\n",
    "# Convert all values to T/F\n",
    "tf_df = pandas_df.isnull()\n",
    "\n",
    "# Plot it\n",
    "sns.heatmap(data=tf_df)\n",
    "plt.xticks(rotation=30, fontsize=10)\n",
    "plt.yticks(rotation=0, fontsize=10)\n",
    "plt.show()\n",
    "\n",
    "# Set the answer to the column with the most missing data\n",
    "answer = 'BACKONMARKETDATE'"
   ]
  },
  {
   "cell_type": "markdown",
   "id": "2fa39b1b",
   "metadata": {},
   "source": [
    "### Imputing Missing Data\n",
    "Missing data happens. If we make the assumption that our data is missing completely at random, we are making the assumption that what data we do have, is a good representation of the population. If we have a few values we could remove them or we could use the mean or median as a replacement. In this exercise, we will look at `'PDOM'`: Days on Market at Current Price.\n",
    "\n",
    "**Instructions**\n",
    "\n",
    "- Get a count of the missing values in the column `'PDOM'` using `where()`, `isNull()` and `count()`.\n",
    "- Calculate the mean value of `'PDOM'` using the aggregate function `mean()`.\n",
    "- Use `fillna()` with the value set to the `'PDOM'` mean value and only apply it to the column `'PDOM'` using the subset parameter."
   ]
  },
  {
   "cell_type": "code",
   "execution_count": 40,
   "id": "7d123663",
   "metadata": {},
   "outputs": [
    {
     "data": {
      "text/plain": [
       "DataFrame[No.: int, MLSID: string, StreetNumberNumeric: int, streetaddress: string, STREETNAME: string, PostalCode: int, StateOrProvince: string, City: string, SalesClosePrice: int, LISTDATE: string, LISTPRICE: int, LISTTYPE: string, OriginalListPrice: int, PricePerTSFT: double, FOUNDATIONSIZE: int, FENCE: string, MapLetter: string, LotSizeDimensions: string, SchoolDistrictNumber: string, DAYSONMARKET: int, offmarketdate: string, Fireplaces: int, RoomArea4: string, roomtype: string, ROOF: string, RoomFloor4: string, PotentialShortSale: string, PoolDescription: string, PDOM: int, GarageDescription: string, SQFTABOVEGROUND: int, Taxes: int, RoomFloor1: string, RoomArea1: string, TAXWITHASSESSMENTS: double, TAXYEAR: int, LivingArea: int, UNITNUMBER: string, YEARBUILT: int, ZONING: string, STYLE: string, ACRES: double, CoolingDescription: string, APPLIANCES: string, backonmarketdate: int, ROOMFAMILYCHAR: string, RoomArea3: string, EXTERIOR: string, RoomFloor3: string, RoomFloor2: string, RoomArea2: string, DiningRoomDescription: string, BASEMENT: string, BathsFull: int, BathsHalf: int, BATHQUARTER: int, BATHSTHREEQUARTER: double, Class: string, BATHSTOTAL: int, BATHDESC: string, RoomArea5: string, RoomFloor5: string, RoomArea6: string, RoomFloor6: string, RoomArea7: string, RoomFloor7: string, RoomArea8: string, RoomFloor8: string, Bedrooms: int, SQFTBELOWGROUND: int, AssumableMortgage: string, AssociationFee: int, ASSESSMENTPENDING: string, AssessedValuation: double, log_SalesClosePrice: double, percentage_scaled_days: double, scaled_FOUNDATIONSIZE: double, scaled_DAYSONMARKET: double, scaled_FIREPLACES: double, Reflect_YearBuilt: int, adj_yearbuilt: double]"
      ]
     },
     "execution_count": 40,
     "metadata": {},
     "output_type": "execute_result"
    }
   ],
   "source": [
    "# Count missing rows\n",
    "missing = df.where(df['PDOM'].isNull()).count()\n",
    "\n",
    "# Calculate the mean value\n",
    "col_mean = df.agg({'PDOM': 'mean'}).collect()[0][0]\n",
    "\n",
    "# Replacing with the mean value for that column\n",
    "df.fillna(col_mean, subset=['PDOM'])"
   ]
  },
  {
   "cell_type": "markdown",
   "id": "0a4b8e9a",
   "metadata": {},
   "source": [
    "### Calculate Missing Percents\n",
    "Automation is the future of data science. Learning to automate some of your data preparation pays dividends. In this exercise, we will automate dropping columns if they are missing data beyond a specific threshold.\n",
    "\n",
    "**Instructions**\n",
    "\n",
    "- Define a function `column_dropper()` that takes the parameters df a dataframe and threshold a float between 0 and 1.\n",
    "- Calculate the percentage of values that are missing using `where()`, `isNull()` and `count()`.\n",
    "- Check to see if the percentage of missing is higher than the threshold, if so, drop the column using `drop()`.\n",
    "- Run `column_dropper()` on df with the threshold set to .6"
   ]
  },
  {
   "cell_type": "code",
   "execution_count": 41,
   "id": "0e52ef82",
   "metadata": {},
   "outputs": [],
   "source": [
    "from pyspark.sql.functions import col, isnull\n",
    "from pyspark.sql import Column, Row"
   ]
  },
  {
   "cell_type": "code",
   "execution_count": 42,
   "id": "0063f800",
   "metadata": {},
   "outputs": [],
   "source": [
    "df = df.withColumnRenamed(\"No.\", \"No\")"
   ]
  },
  {
   "cell_type": "code",
   "execution_count": 43,
   "id": "7ea26787",
   "metadata": {},
   "outputs": [
    {
     "data": {
      "text/plain": [
       "81"
      ]
     },
     "execution_count": 43,
     "metadata": {},
     "output_type": "execute_result"
    }
   ],
   "source": [
    "len(df.columns)"
   ]
  },
  {
   "cell_type": "code",
   "execution_count": 44,
   "id": "07dbf080",
   "metadata": {},
   "outputs": [],
   "source": [
    "def column_dropper(df, threshold):\n",
    "    # Takes a dataframe and threshold for missing values. Returns a dataframe.\n",
    "    total_records = df.count()\n",
    "    for col in df.columns:\n",
    "        # Calculate the percentage of missing values\n",
    "        missing = df.where(isnull(df[col])).count()\n",
    "        missing_percent = missing / total_records\n",
    "        # Drop column if percent of missing is more than threshold\n",
    "        if missing_percent > threshold:\n",
    "            df = df.drop(col)\n",
    "    return df\n",
    "\n",
    "# Drop columns that are more than 60% missing\n",
    "df = column_dropper(df, 0.6)"
   ]
  },
  {
   "cell_type": "code",
   "execution_count": 45,
   "id": "dc90d1f1",
   "metadata": {},
   "outputs": [
    {
     "data": {
      "text/plain": [
       "75"
      ]
     },
     "execution_count": 45,
     "metadata": {},
     "output_type": "execute_result"
    }
   ],
   "source": [
    "len(df.columns)"
   ]
  },
  {
   "cell_type": "markdown",
   "id": "65adf142",
   "metadata": {},
   "source": [
    "## Getting More Data\n",
    "1. Getting More Data\n",
    "\n",
    "The world of Big Data means having access to much more information to include in our analysis. In this video, we will cover how to connect additional data to our dataset.\n",
    "\n",
    "2. Thoughts on External Data Sets\n",
    "\n",
    "External data is a wonderful way to boost model performance but there are pros and cons to choosing to include it. Adding external data may add excellent predictors for a model but adding too many features may impact the performance of the model. There is a serious risk of spurious correlations between variables in the world of big data. External data can be a great way to replace missing or aggregated values with a better feature. Adding data comes at the risk of inducing data leakage. If we wish to include local crime information, we will have to ensure that buyers would also have access to that information at the time of purchasing a home. To include data available later is leaking information from the future. Another consideration is how cheap and easy it is to obtain. Today we have many more datasets easily available to us but this may come at the cost of us needing to become the subject matter experts to know the meaning and credibility of our sources.\n",
    "\n",
    "3. About Joins\n",
    "\n",
    "To understand the different kinds of joins we'll need to orient ourselves. We will call the original data set we started with the \"Left\" and the one we wish to incorporate our \"Right\". There are many ways to join data together most commonly the Inner or Left joins depending on your goals. For us, we want to make sure we ALWAYS keep the full LEFT dataset and add data where available from the RIGHT. This means we will be using a LEFT JOIN.\n",
    "\n",
    "4. PySpark DataFrame Joins\n",
    "\n",
    "Joins can be done one of two ways in Pyspark. First is the dataframe join method. The dataframe that calls join is the LEFT dataframe. other is the right dataframe, in this case, the new dataset. on is the pairs of column conditions we will match on. how is the type of join to perform.\n",
    "\n",
    "5. PySpark Join Example\n",
    "\n",
    "Suppose we want to see the impact of homes sold on bank holidays. We can join the dataframes together by creating a join condition where df OFFMARKETDATE equals hdf dt We then can put this condition into our join function and use 'left' to make sure we keep all the original records in df. Lastly, count holiday sales by using the tilde to take the NOT of isNull. Not surprising, no houses are sold on a bank holidays, perhaps later we can check if a holiday week impacts sales\n",
    "\n",
    "6. SparkSQL Join\n",
    "\n",
    "The second way we can join dataframes together is to use Spark SQL which allows us to apply SQL statments directly to dataframes. This may be your preferred method if you are familiar with SQL or attempting to do complicated joins or filters. To do this we need to register the dataframe as temp table and give it a name. Once that's done we can then use spark sql to execute a query and return it back in the form of a dataframe. In this one, we are using SELECT star to get all of the columns available, using FROM df to create our starting table, LEFT JOIN hdf as the table we'd like to join with and using ON df OFFMARKETDATE equals hdf dt to create the join condition.\n",
    "\n",
    "7. Let's Join Some Data!\n",
    "\n",
    "In this video, we learned combining datasets can be powerful but requires some caution. We also learned how to join data in two different ways. In the exercises, we will build on these and learn some things to watch out for!"
   ]
  },
  {
   "cell_type": "markdown",
   "id": "584da101",
   "metadata": {},
   "source": [
    "### A Dangerous Join\n",
    "In this exercise, we will be joining on Latitude and Longitude to bring in another dataset that measures how walk-friendly a neighborhood is. We'll need to be careful to make sure our joining columns are the same data type and ensure we are joining on the same precision (number of digits after the decimal) or our join won't work!\n",
    "\n",
    "Below you will find that `df['latitude']` and `df['longitude']` are at a higher precision than `walk_df['longitude']` and `walk_df['latitude']` we'll need to round them to the same precision so the join will work correctly.\n",
    "\n",
    "**Instructions**\n",
    "\n",
    "- Convert `walk_df['latitude']` and `walk_df['longitude']` to type double by using `cast('double')` on the column and replacing the column in place `withColumn()`.\n",
    "- Round the columns in place with `withColumn()` and `round('latitude', 5)` and `round('longitude', 5)`.\n",
    "- Create the join condition of `walk_df['latitude']` matching `df['latitude']` and `walk_df['longitude']` matching `df['longitude']`.\n",
    "- Join `df` and `walk_df` together with `join()`, using the condition above and the left join type. Save the joined dataframe as `join_df`."
   ]
  },
  {
   "cell_type": "code",
   "execution_count": 46,
   "id": "2aae137b",
   "metadata": {},
   "outputs": [],
   "source": [
    "# This cell should be used to import the walk_df dataset once they send it\n"
   ]
  },
  {
   "cell_type": "code",
   "execution_count": 47,
   "id": "0754e39e",
   "metadata": {},
   "outputs": [
    {
     "data": {
      "text/plain": [
       "\"\\n# Cast data types\\nwalk_df = walk_df.withColumn('latitude', walk_df['latitude'].cast('double'))\\nwalk_df = walk_df.withColumn('longitude', walk_df['longitude'].cast('double'))\\n\\n# Round precision\\ndf = df.withColumn('longitude', round('longitude', 5))\\ndf = df.withColumn('latitude', round('latitude', 5))\\n\\n# Create join condition\\ncondition = [walk_df['latitude'] == df['latitude'], walk_df['longitude'] == df['longitude']]\\n\\n# Join the dataframes together\\njoin_df = df.join(walk_df, on=condition, how='left')\\n# Count non-null records from new field\\nprint(join_df.where(~join_df['walkscore'].isNull()).count())\\n\""
      ]
     },
     "execution_count": 47,
     "metadata": {},
     "output_type": "execute_result"
    }
   ],
   "source": [
    "'''\n",
    "# Cast data types\n",
    "walk_df = walk_df.withColumn('latitude', walk_df['latitude'].cast('double'))\n",
    "walk_df = walk_df.withColumn('longitude', walk_df['longitude'].cast('double'))\n",
    "\n",
    "# Round precision\n",
    "df = df.withColumn('longitude', round('longitude', 5))\n",
    "df = df.withColumn('latitude', round('latitude', 5))\n",
    "\n",
    "# Create join condition\n",
    "condition = [walk_df['latitude'] == df['latitude'], walk_df['longitude'] == df['longitude']]\n",
    "\n",
    "# Join the dataframes together\n",
    "join_df = df.join(walk_df, on=condition, how='left')\n",
    "# Count non-null records from new field\n",
    "print(join_df.where(~join_df['walkscore'].isNull()).count())\n",
    "'''"
   ]
  },
  {
   "cell_type": "markdown",
   "id": "dc38ea3d",
   "metadata": {},
   "source": [
    "### Spark SQL Join\n",
    "Sometimes it is much easier to write complex joins in SQL. In this exercise, we will start with the join keys already in the same format and precision but will use SparkSQL to do the joining.\n",
    "\n",
    "**Instructions**\n",
    "\n",
    "- Register the Dataframes as SparkSQL tables with `createOrReplaceTempView`, name them the `df` and `walk_df` respectively.\n",
    "- In the `join_sql` string, set the left table to `df` and the right table to `walk_df`\n",
    "- Call `spark.sql()` on the `join_sql` string to perform the join."
   ]
  },
  {
   "cell_type": "code",
   "execution_count": 48,
   "id": "c5925993",
   "metadata": {},
   "outputs": [
    {
     "data": {
      "text/plain": [
       "'\\n# Register dataframes as tables\\ndf.createOrReplaceTempView(\"df\")\\nwalk_df.createOrReplaceTempView(\"walk_df\")\\n\\n# SQL to join dataframes\\njoin_sql = \\t\"\"\"\\n            SELECT \\n                *\\n            FROM df\\n            LEFT JOIN walk_df\\n            ON df.longitude = walk_df.longitude\\n            AND df.latitude = walk_df.latitude\\n            \"\"\"\\n# Perform sql join\\njoined_df = spark.sql(join_sql)\\n'"
      ]
     },
     "execution_count": 48,
     "metadata": {},
     "output_type": "execute_result"
    }
   ],
   "source": [
    "'''\n",
    "# Register dataframes as tables\n",
    "df.createOrReplaceTempView(\"df\")\n",
    "walk_df.createOrReplaceTempView(\"walk_df\")\n",
    "\n",
    "# SQL to join dataframes\n",
    "join_sql = \t\"\"\"\n",
    "            SELECT \n",
    "                *\n",
    "            FROM df\n",
    "            LEFT JOIN walk_df\n",
    "            ON df.longitude = walk_df.longitude\n",
    "            AND df.latitude = walk_df.latitude\n",
    "            \"\"\"\n",
    "# Perform sql join\n",
    "joined_df = spark.sql(join_sql)\n",
    "'''"
   ]
  },
  {
   "cell_type": "markdown",
   "id": "93a3eb41",
   "metadata": {},
   "source": [
    "### Checking for Bad Joins\n",
    "Joins can go bad silently if we are not careful, meaning they will not error out but instead return mangled data with more or less data than you'd intended. Let's take a look at a couple ways that joining incorrectly can change your data set for the worse.\n",
    "\n",
    "In this example we will look at what happens if you join two dataframes together when the join keys are not the same precision and compare the record counts between the correct join and the incorrect one.\n",
    "\n",
    "**Instructions**\n",
    "\n",
    "- Create a join between `df_orig`, the dataframe before its precision was corrected, and `walk_df` that matches on longitude and latitude in the respective dataframes.\n",
    "- Count the number of missing values with `where()` `isNull()` on `df['walkscore']` and `correct_join['walkscore']`. You should notice that there are many missing values because our datatypes and precision do not match.\n",
    "- Create a join between `df` and `walk_df` that only matches on longitude\n",
    "- Count the number of records with `count()`: few_keys_df and `correct_join_df`. You should notice that there are many more values as we have not constrained our matching correctly."
   ]
  },
  {
   "cell_type": "code",
   "execution_count": 49,
   "id": "8b397574",
   "metadata": {},
   "outputs": [],
   "source": [
    "#This cell should be used to create the right condition df and the origial df"
   ]
  },
  {
   "cell_type": "code",
   "execution_count": 52,
   "id": "ab2f1ac3",
   "metadata": {},
   "outputs": [
    {
     "data": {
      "text/plain": [
       "'\\n# Join on mismatched keys precision \\nwrong_prec_cond = [df_orig[\\'longitude\\'] == walk_df[\\'longitude\\'], df_orig[\\'latitude\\'] == walk_df[\\'latitude\\']]\\nwrong_prec_df = df_orig.join(walk_df, on=wrong_prec_cond, how=\\'left\\')\\n\\n# Compare bad join to the correct one\\nprint(wrong_prec_df.where(wrong_prec_df[\\'walkscore\\'].isNull()).count())\\nprint(correct_join_df.where(correct_join_df[\\'walkscore\\'].isNull()).count())\\n\\n# Create a join on too few keys\\nfew_keys_cond = [df[\\'longitude\\'] == walk_df[\\'longitude\\']]\\nfew_keys_df = df.join(walk_df, on=few_keys_cond, how=\\'left\\')\\n\\n# Compare bad join to the correct one\\nprint(\"Record Count of the Too Few Keys Join Example: \" + str(few_keys_df.count()))\\nprint(\"Record Count of the Correct Join Example: \" + str(correct_join_df.count()))\\n'"
      ]
     },
     "execution_count": 52,
     "metadata": {},
     "output_type": "execute_result"
    }
   ],
   "source": [
    "'''\n",
    "# Join on mismatched keys precision \n",
    "wrong_prec_cond = [df_orig['longitude'] == walk_df['longitude'], df_orig['latitude'] == walk_df['latitude']]\n",
    "wrong_prec_df = df_orig.join(walk_df, on=wrong_prec_cond, how='left')\n",
    "\n",
    "# Compare bad join to the correct one\n",
    "print(wrong_prec_df.where(wrong_prec_df['walkscore'].isNull()).count())\n",
    "print(correct_join_df.where(correct_join_df['walkscore'].isNull()).count())\n",
    "\n",
    "# Create a join on too few keys\n",
    "few_keys_cond = [df['longitude'] == walk_df['longitude']]\n",
    "few_keys_df = df.join(walk_df, on=few_keys_cond, how='left')\n",
    "\n",
    "# Compare bad join to the correct one\n",
    "print(\"Record Count of the Too Few Keys Join Example: \" + str(few_keys_df.count()))\n",
    "print(\"Record Count of the Correct Join Example: \" + str(correct_join_df.count()))\n",
    "'''"
   ]
  },
  {
   "cell_type": "code",
   "execution_count": null,
   "id": "a707d7f5",
   "metadata": {},
   "outputs": [],
   "source": []
  }
 ],
 "metadata": {
  "kernelspec": {
   "display_name": "Python 3 (ipykernel)",
   "language": "python",
   "name": "python3"
  },
  "language_info": {
   "codemirror_mode": {
    "name": "ipython",
    "version": 3
   },
   "file_extension": ".py",
   "mimetype": "text/x-python",
   "name": "python",
   "nbconvert_exporter": "python",
   "pygments_lexer": "ipython3",
   "version": "3.10.13"
  }
 },
 "nbformat": 4,
 "nbformat_minor": 5
}
